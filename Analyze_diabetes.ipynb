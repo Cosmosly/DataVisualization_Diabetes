{
 "cells": [
  {
   "cell_type": "code",
   "execution_count": 119,
   "metadata": {},
   "outputs": [],
   "source": [
    "import pandas as pd\n",
    "df = pd.read_csv(\"diabetes.csv\")"
   ]
  },
  {
   "cell_type": "code",
   "execution_count": 120,
   "metadata": {},
   "outputs": [
    {
     "data": {
      "text/plain": [
       "(768, 9)"
      ]
     },
     "execution_count": 120,
     "metadata": {},
     "output_type": "execute_result"
    }
   ],
   "source": [
    "df.shape"
   ]
  },
  {
   "cell_type": "code",
   "execution_count": 121,
   "metadata": {},
   "outputs": [
    {
     "name": "stdout",
     "output_type": "stream",
     "text": [
      "<class 'pandas.core.frame.DataFrame'>\n",
      "RangeIndex: 768 entries, 0 to 767\n",
      "Data columns (total 9 columns):\n",
      " #   Column                    Non-Null Count  Dtype  \n",
      "---  ------                    --------------  -----  \n",
      " 0   Pregnancies               768 non-null    int64  \n",
      " 1   Glucose                   768 non-null    int64  \n",
      " 2   BloodPressure             768 non-null    int64  \n",
      " 3   SkinThickness             768 non-null    int64  \n",
      " 4   Insulin                   768 non-null    int64  \n",
      " 5   BMI                       768 non-null    float64\n",
      " 6   DiabetesPedigreeFunction  768 non-null    float64\n",
      " 7   Age                       768 non-null    int64  \n",
      " 8   Outcome                   768 non-null    int64  \n",
      "dtypes: float64(2), int64(7)\n",
      "memory usage: 54.1 KB\n"
     ]
    }
   ],
   "source": [
    "df.info()"
   ]
  },
  {
   "attachments": {},
   "cell_type": "markdown",
   "metadata": {},
   "source": [
    "- Pregnancies: Number of times pregnant\n",
    "- Glucose: Plasma glucose concentration a 2 hours in an oral glucose tolerance test\n",
    "- BloodPressure: Diastolic blood pressure (mm Hg)\n",
    "- SkinThickness: Triceps skin fold thickness (mm)\n",
    "- Insulin: 2-Hour serum insulin (mu U/ml)\n",
    "- BMI: Body mass index (weight in kg/(height in m)^2)\n",
    "- DiabetesPedigreeFunction: Diabetes pedigree function\n",
    "- Age: Age (years)\n",
    "- Outcome: Class variable (0 or 1)"
   ]
  },
  {
   "attachments": {},
   "cell_type": "markdown",
   "metadata": {},
   "source": [
    "### Predefine Method"
   ]
  },
  {
   "cell_type": "code",
   "execution_count": 122,
   "metadata": {},
   "outputs": [],
   "source": [
    "# define a method that return the range of a columns without take 0 into account\n",
    "def column_range_without0(column):\n",
    "    a = column[column != 0]\n",
    "    print(column.name + \"'s range = \" + \"(\" + str(a.min()) + \", \" + str(a.max()) + \")\")"
   ]
  },
  {
   "cell_type": "code",
   "execution_count": 123,
   "metadata": {},
   "outputs": [],
   "source": [
    "# define a method that return the number of 0 value in the column\n",
    "def number_of_0_value(column):\n",
    "    print(\"Number of missing value = \" + str((column == 0).sum()))"
   ]
  },
  {
   "cell_type": "code",
   "execution_count": 124,
   "metadata": {},
   "outputs": [],
   "source": [
    "# define a method that plot the column distribution\n",
    "import seaborn as sns\n",
    "def plot_column_distribution(column):\n",
    "    a = column\n",
    "    if (a.name != 'Pregnancies' and a.name != 'Outcome'):\n",
    "        a = a[a != 0]\n",
    "    fig = sns.histplot(a)\n",
    "    fig.set(xlabel = (a.name + \"'s Range\"), title = (a.name + \" value distribution histogram\"))"
   ]
  },
  {
   "attachments": {},
   "cell_type": "markdown",
   "metadata": {},
   "source": [
    "### Define a method to replace the missing value 0 to np.NaN"
   ]
  },
  {
   "cell_type": "code",
   "execution_count": 125,
   "metadata": {},
   "outputs": [],
   "source": [
    "import numpy as np\n",
    "# Define a method to replace the missing value in the pandas.serials column from 0 to np.NaN\n",
    "# return the column\n",
    "def replace0toNaN(column):\n",
    "    column = column.replace(0,np.nan)\n",
    "    return column\n",
    "    "
   ]
  },
  {
   "attachments": {},
   "cell_type": "markdown",
   "metadata": {},
   "source": [
    "### Each Columns detail information"
   ]
  },
  {
   "cell_type": "code",
   "execution_count": 126,
   "metadata": {},
   "outputs": [
    {
     "name": "stdout",
     "output_type": "stream",
     "text": [
      "pregnant more than 10 times = 58\n",
      "Pregnancies's range = (1, 17)\n",
      "never pregnant = 111\n"
     ]
    },
    {
     "data": {
      "image/png": "[encoded data removed]",
      "text/plain": [
       "<Figure size 432x288 with 1 Axes>"
      ]
     },
     "metadata": {
      "needs_background": "light"
     },
     "output_type": "display_data"
    }
   ],
   "source": [
    "print(\"pregnant more than 10 times = \" + str((df['Pregnancies'] >= 10).sum()))\n",
    "column_range_without0(df['Pregnancies'])\n",
    "print(\"never pregnant = \" + str((df['Pregnancies'] == 0).sum()))\n",
    "plot_column_distribution(df['Pregnancies'])"
   ]
  },
  {
   "cell_type": "code",
   "execution_count": 127,
   "metadata": {},
   "outputs": [
    {
     "name": "stdout",
     "output_type": "stream",
     "text": [
      "Number of missing value = 5\n",
      "Glucose's range = (44, 199)\n"
     ]
    },
    {
     "data": {
      "image/png": "[encoded data removed]",
      "text/plain": [
       "<Figure size 432x288 with 1 Axes>"
      ]
     },
     "metadata": {
      "needs_background": "light"
     },
     "output_type": "display_data"
    }
   ],
   "source": [
    "import numpy as np\n",
    "plot_column_distribution(df['Glucose'])\n",
    "number_of_0_value(df['Glucose'])\n",
    "column_range_without0(df['Glucose'])\n",
    "df['Glucose'] = replace0toNaN(df['Glucose'])"
   ]
  },
  {
   "cell_type": "code",
   "execution_count": 128,
   "metadata": {},
   "outputs": [
    {
     "name": "stdout",
     "output_type": "stream",
     "text": [
      "Number of missing value = 35\n",
      "BloodPressure's range = (24, 122)\n"
     ]
    },
    {
     "data": {
      "image/png": "[encoded data removed]",
      "text/plain": [
       "<Figure size 432x288 with 1 Axes>"
      ]
     },
     "metadata": {
      "needs_background": "light"
     },
     "output_type": "display_data"
    }
   ],
   "source": [
    "plot_column_distribution(df['BloodPressure'])\n",
    "number_of_0_value(df['BloodPressure'])\n",
    "column_range_without0(df['BloodPressure'])\n",
    "df['BloodPressure'] = replace0toNaN(df['BloodPressure'])"
   ]
  },
  {
   "cell_type": "code",
   "execution_count": 129,
   "metadata": {},
   "outputs": [
    {
     "name": "stdout",
     "output_type": "stream",
     "text": [
      "Number of missing value = 227\n",
      "SkinThickness's range = (7, 99)\n"
     ]
    },
    {
     "data": {
      "image/png": "[encoded data removed]",
      "text/plain": [
       "<Figure size 432x288 with 1 Axes>"
      ]
     },
     "metadata": {
      "needs_background": "light"
     },
     "output_type": "display_data"
    }
   ],
   "source": [
    "plot_column_distribution(df['SkinThickness'])\n",
    "number_of_0_value(df['SkinThickness'])\n",
    "column_range_without0(df['SkinThickness'])\n",
    "df['SkinThickness'] = replace0toNaN(df['SkinThickness'])"
   ]
  },
  {
   "cell_type": "code",
   "execution_count": 130,
   "metadata": {},
   "outputs": [
    {
     "name": "stdout",
     "output_type": "stream",
     "text": [
      "Number of missing value = 374\n",
      "Insulin's range = (14, 846)\n"
     ]
    },
    {
     "data": {
      "image/png": "[encoded data removed]",
      "text/plain": [
       "<Figure size 432x288 with 1 Axes>"
      ]
     },
     "metadata": {
      "needs_background": "light"
     },
     "output_type": "display_data"
    }
   ],
   "source": [
    "plot_column_distribution(df['Insulin'])\n",
    "number_of_0_value(df['Insulin'])\n",
    "column_range_without0(df['Insulin'])"
   ]
  },
  {
   "cell_type": "code",
   "execution_count": 131,
   "metadata": {},
   "outputs": [
    {
     "name": "stdout",
     "output_type": "stream",
     "text": [
      "v1 = 138, v2 = 374, missing data = 236\n"
     ]
    }
   ],
   "source": [
    "#  the number of type 1 diabetes with 0 value in insulin and outcome = 1\n",
    "v1 = ((df['Insulin'] == 0) & (df['Outcome'] == 1)).sum()   # results = 138\n",
    "v2 = (df['Insulin'] == 0).sum()\n",
    "print(f'v1 = {v1}, v2 = {v2}, missing data = {v2-v1}')"
   ]
  },
  {
   "cell_type": "code",
   "execution_count": 132,
   "metadata": {},
   "outputs": [
    {
     "data": {
      "text/plain": [
       "[Text(0.5, 0, 'Real Insulin Value'),\n",
       " Text(0.5, 1.0, ' Real Insulin distribution histogram')]"
      ]
     },
     "execution_count": 132,
     "metadata": {},
     "output_type": "execute_result"
    },
    {
     "data": {
      "image/png": "[encoded data removed]",
      "text/plain": [
       "<Figure size 432x288 with 1 Axes>"
      ]
     },
     "metadata": {
      "needs_background": "light"
     },
     "output_type": "display_data"
    }
   ],
   "source": [
    "df_RealDataInsulin = df['Insulin'].drop(df.query('Insulin == 0 & Outcome != 1').index)\n",
    "fig = sns.histplot(df_RealDataInsulin)\n",
    "fig.set(xlabel = 'Real Insulin Value', title = ' Real Insulin distribution histogram')"
   ]
  },
  {
   "cell_type": "code",
   "execution_count": 133,
   "metadata": {},
   "outputs": [
    {
     "data": {
      "text/plain": [
       "0        0.0\n",
       "1        NaN\n",
       "2        0.0\n",
       "3       94.0\n",
       "4      168.0\n",
       "       ...  \n",
       "763    180.0\n",
       "764      NaN\n",
       "765    112.0\n",
       "766      0.0\n",
       "767      NaN\n",
       "Name: Insulin, Length: 768, dtype: float64"
      ]
     },
     "execution_count": 133,
     "metadata": {},
     "output_type": "execute_result"
    }
   ],
   "source": [
    "# the replace rows\n",
    "r1 = df['Insulin'][ (df['Insulin'] == 0) & (df['Outcome'] == 0) ].replace(0,np.NaN)\n",
    "r2 = df['Insulin'].drop(df.query('Insulin == 0 & Outcome != 1').index)\n",
    "df['Insulin'] = pd.concat([r1,r2])\n",
    "df['Insulin']"
   ]
  },
  {
   "cell_type": "code",
   "execution_count": 134,
   "metadata": {},
   "outputs": [
    {
     "name": "stdout",
     "output_type": "stream",
     "text": [
      "Number of missing value = 11\n",
      "BMI's range = (18.2, 67.1)\n"
     ]
    },
    {
     "data": {
      "image/png": "[encoded data removed]",
      "text/plain": [
       "<Figure size 432x288 with 1 Axes>"
      ]
     },
     "metadata": {
      "needs_background": "light"
     },
     "output_type": "display_data"
    }
   ],
   "source": [
    "plot_column_distribution(df['BMI'])\n",
    "number_of_0_value(df['BMI'])\n",
    "column_range_without0(df['BMI'])\n",
    "df['BMI'] = replace0toNaN(df['BMI'])"
   ]
  },
  {
   "cell_type": "code",
   "execution_count": 135,
   "metadata": {},
   "outputs": [
    {
     "name": "stdout",
     "output_type": "stream",
     "text": [
      "Number of missing value = 0\n",
      "DiabetesPedigreeFunction's range = (0.078, 2.42)\n"
     ]
    },
    {
     "data": {
      "image/png": "[encoded data removed]",
      "text/plain": [
       "<Figure size 432x288 with 1 Axes>"
      ]
     },
     "metadata": {
      "needs_background": "light"
     },
     "output_type": "display_data"
    }
   ],
   "source": [
    "plot_column_distribution(df['DiabetesPedigreeFunction'])\n",
    "number_of_0_value(df['DiabetesPedigreeFunction'])\n",
    "column_range_without0(df['DiabetesPedigreeFunction'])"
   ]
  },
  {
   "cell_type": "code",
   "execution_count": 136,
   "metadata": {},
   "outputs": [
    {
     "name": "stdout",
     "output_type": "stream",
     "text": [
      "Number of missing value = 0\n",
      "Age's range = (21, 81)\n"
     ]
    },
    {
     "data": {
      "image/png": "[encoded data removed]",
      "text/plain": [
       "<Figure size 432x288 with 1 Axes>"
      ]
     },
     "metadata": {
      "needs_background": "light"
     },
     "output_type": "display_data"
    }
   ],
   "source": [
    "plot_column_distribution(df['Age'])\n",
    "number_of_0_value(df['Age'])\n",
    "column_range_without0(df['Age'])"
   ]
  },
  {
   "cell_type": "code",
   "execution_count": 137,
   "metadata": {},
   "outputs": [
    {
     "name": "stdout",
     "output_type": "stream",
     "text": [
      "Number of missing value = 500\n",
      "Outcome's range = (1, 1)\n"
     ]
    },
    {
     "data": {
      "image/png": "[encoded data removed]",
      "text/plain": [
       "<Figure size 432x288 with 1 Axes>"
      ]
     },
     "metadata": {
      "needs_background": "light"
     },
     "output_type": "display_data"
    }
   ],
   "source": [
    "plot_column_distribution(df['Outcome'])\n",
    "number_of_0_value(df['Outcome'])\n",
    "column_range_without0(df['Outcome'])"
   ]
  },
  {
   "attachments": {},
   "cell_type": "markdown",
   "metadata": {},
   "source": [
    "## use KNNImputor to replace the missing value"
   ]
  },
  {
   "cell_type": "code",
   "execution_count": 138,
   "metadata": {},
   "outputs": [
    {
     "name": "stdout",
     "output_type": "stream",
     "text": [
      "<class 'pandas.core.frame.DataFrame'>\n",
      "RangeIndex: 768 entries, 0 to 767\n",
      "Data columns (total 9 columns):\n",
      " #   Column                    Non-Null Count  Dtype  \n",
      "---  ------                    --------------  -----  \n",
      " 0   Pregnancies               768 non-null    int64  \n",
      " 1   Glucose                   763 non-null    float64\n",
      " 2   BloodPressure             733 non-null    float64\n",
      " 3   SkinThickness             541 non-null    float64\n",
      " 4   Insulin                   532 non-null    float64\n",
      " 5   BMI                       757 non-null    float64\n",
      " 6   DiabetesPedigreeFunction  768 non-null    float64\n",
      " 7   Age                       768 non-null    int64  \n",
      " 8   Outcome                   768 non-null    int64  \n",
      "dtypes: float64(6), int64(3)\n",
      "memory usage: 54.1 KB\n"
     ]
    }
   ],
   "source": [
    "# look at the replace dataframe first\n",
    "df.info()"
   ]
  },
  {
   "cell_type": "code",
   "execution_count": 140,
   "metadata": {},
   "outputs": [],
   "source": [
    "# export the csv file which replace the missing value to np.nan\n",
    "from pathlib import Path  \n",
    "filepath = Path('Export/NaN_diabetes.csv') \n",
    "filepath.parent.mkdir(parents=True, exist_ok=True)  \n",
    "df.to_csv(filepath) "
   ]
  },
  {
   "cell_type": "code",
   "execution_count": 145,
   "metadata": {},
   "outputs": [
    {
     "data": {
      "text/plain": [
       "array([[  6.   , 148.   ,  72.   , ...,   0.627,  50.   ,   1.   ],\n",
       "       [  1.   ,  85.   ,  66.   , ...,   0.351,  31.   ,   0.   ],\n",
       "       [  8.   , 183.   ,  64.   , ...,   0.672,  32.   ,   1.   ],\n",
       "       ...,\n",
       "       [  5.   , 121.   ,  72.   , ...,   0.245,  30.   ,   0.   ],\n",
       "       [  1.   , 126.   ,  60.   , ...,   0.349,  47.   ,   1.   ],\n",
       "       [  1.   ,  93.   ,  70.   , ...,   0.315,  23.   ,   0.   ]])"
      ]
     },
     "execution_count": 145,
     "metadata": {},
     "output_type": "execute_result"
    }
   ],
   "source": [
    "import numpy as np\n",
    "from sklearn.impute import KNNImputer\n",
    "\n",
    "# using default settings, n_neighbors = 5, weights = uniform\n",
    "knn_imputer = KNNImputer()\n",
    "imputation_npnd = knn_imputer.fit_transform(df)\n",
    "imputation_npnd"
   ]
  },
  {
   "cell_type": "code",
   "execution_count": 146,
   "metadata": {},
   "outputs": [
    {
     "data": {
      "text/plain": [
       "(768, 9)"
      ]
     },
     "execution_count": 146,
     "metadata": {},
     "output_type": "execute_result"
    }
   ],
   "source": [
    "imputation_npnd.shape"
   ]
  },
  {
   "cell_type": "code",
   "execution_count": 147,
   "metadata": {},
   "outputs": [
    {
     "data": {
      "text/plain": [
       "numpy.ndarray"
      ]
     },
     "execution_count": 147,
     "metadata": {},
     "output_type": "execute_result"
    }
   ],
   "source": [
    "type(imputation_npnd)"
   ]
  },
  {
   "cell_type": "code",
   "execution_count": 148,
   "metadata": {},
   "outputs": [
    {
     "data": {
      "text/html": [
       "<div>\n",
       "<style scoped>\n",
       "    .dataframe tbody tr th:only-of-type {\n",
       "        vertical-align: middle;\n",
       "    }\n",
       "\n",
       "    .dataframe tbody tr th {\n",
       "        vertical-align: top;\n",
       "    }\n",
       "\n",
       "    .dataframe thead th {\n",
       "        text-align: right;\n",
       "    }\n",
       "</style>\n",
       "<table border=\"1\" class=\"dataframe\">\n",
       "  <thead>\n",
       "    <tr style=\"text-align: right;\">\n",
       "      <th></th>\n",
       "      <th>Pregnancies</th>\n",
       "      <th>Glucose</th>\n",
       "      <th>BloodPressure</th>\n",
       "      <th>SkinThickness</th>\n",
       "      <th>Insulin</th>\n",
       "      <th>BMI</th>\n",
       "      <th>DiabetesPedigreeFunction</th>\n",
       "      <th>Age</th>\n",
       "      <th>Outcome</th>\n",
       "    </tr>\n",
       "  </thead>\n",
       "  <tbody>\n",
       "    <tr>\n",
       "      <th>0</th>\n",
       "      <td>6.0</td>\n",
       "      <td>148.0</td>\n",
       "      <td>72.0</td>\n",
       "      <td>35.0</td>\n",
       "      <td>0.0</td>\n",
       "      <td>33.6</td>\n",
       "      <td>0.627</td>\n",
       "      <td>50.0</td>\n",
       "      <td>1.0</td>\n",
       "    </tr>\n",
       "    <tr>\n",
       "      <th>1</th>\n",
       "      <td>1.0</td>\n",
       "      <td>85.0</td>\n",
       "      <td>66.0</td>\n",
       "      <td>29.0</td>\n",
       "      <td>58.6</td>\n",
       "      <td>26.6</td>\n",
       "      <td>0.351</td>\n",
       "      <td>31.0</td>\n",
       "      <td>0.0</td>\n",
       "    </tr>\n",
       "    <tr>\n",
       "      <th>2</th>\n",
       "      <td>8.0</td>\n",
       "      <td>183.0</td>\n",
       "      <td>64.0</td>\n",
       "      <td>33.0</td>\n",
       "      <td>0.0</td>\n",
       "      <td>23.3</td>\n",
       "      <td>0.672</td>\n",
       "      <td>32.0</td>\n",
       "      <td>1.0</td>\n",
       "    </tr>\n",
       "    <tr>\n",
       "      <th>3</th>\n",
       "      <td>1.0</td>\n",
       "      <td>89.0</td>\n",
       "      <td>66.0</td>\n",
       "      <td>23.0</td>\n",
       "      <td>94.0</td>\n",
       "      <td>28.1</td>\n",
       "      <td>0.167</td>\n",
       "      <td>21.0</td>\n",
       "      <td>0.0</td>\n",
       "    </tr>\n",
       "    <tr>\n",
       "      <th>4</th>\n",
       "      <td>0.0</td>\n",
       "      <td>137.0</td>\n",
       "      <td>40.0</td>\n",
       "      <td>35.0</td>\n",
       "      <td>168.0</td>\n",
       "      <td>43.1</td>\n",
       "      <td>2.288</td>\n",
       "      <td>33.0</td>\n",
       "      <td>1.0</td>\n",
       "    </tr>\n",
       "    <tr>\n",
       "      <th>...</th>\n",
       "      <td>...</td>\n",
       "      <td>...</td>\n",
       "      <td>...</td>\n",
       "      <td>...</td>\n",
       "      <td>...</td>\n",
       "      <td>...</td>\n",
       "      <td>...</td>\n",
       "      <td>...</td>\n",
       "      <td>...</td>\n",
       "    </tr>\n",
       "    <tr>\n",
       "      <th>763</th>\n",
       "      <td>10.0</td>\n",
       "      <td>101.0</td>\n",
       "      <td>76.0</td>\n",
       "      <td>48.0</td>\n",
       "      <td>180.0</td>\n",
       "      <td>32.9</td>\n",
       "      <td>0.171</td>\n",
       "      <td>63.0</td>\n",
       "      <td>0.0</td>\n",
       "    </tr>\n",
       "    <tr>\n",
       "      <th>764</th>\n",
       "      <td>2.0</td>\n",
       "      <td>122.0</td>\n",
       "      <td>70.0</td>\n",
       "      <td>27.0</td>\n",
       "      <td>127.0</td>\n",
       "      <td>36.8</td>\n",
       "      <td>0.340</td>\n",
       "      <td>27.0</td>\n",
       "      <td>0.0</td>\n",
       "    </tr>\n",
       "    <tr>\n",
       "      <th>765</th>\n",
       "      <td>5.0</td>\n",
       "      <td>121.0</td>\n",
       "      <td>72.0</td>\n",
       "      <td>23.0</td>\n",
       "      <td>112.0</td>\n",
       "      <td>26.2</td>\n",
       "      <td>0.245</td>\n",
       "      <td>30.0</td>\n",
       "      <td>0.0</td>\n",
       "    </tr>\n",
       "    <tr>\n",
       "      <th>766</th>\n",
       "      <td>1.0</td>\n",
       "      <td>126.0</td>\n",
       "      <td>60.0</td>\n",
       "      <td>33.2</td>\n",
       "      <td>0.0</td>\n",
       "      <td>30.1</td>\n",
       "      <td>0.349</td>\n",
       "      <td>47.0</td>\n",
       "      <td>1.0</td>\n",
       "    </tr>\n",
       "    <tr>\n",
       "      <th>767</th>\n",
       "      <td>1.0</td>\n",
       "      <td>93.0</td>\n",
       "      <td>70.0</td>\n",
       "      <td>31.0</td>\n",
       "      <td>66.6</td>\n",
       "      <td>30.4</td>\n",
       "      <td>0.315</td>\n",
       "      <td>23.0</td>\n",
       "      <td>0.0</td>\n",
       "    </tr>\n",
       "  </tbody>\n",
       "</table>\n",
       "<p>768 rows × 9 columns</p>\n",
       "</div>"
      ],
      "text/plain": [
       "     Pregnancies  Glucose  BloodPressure  SkinThickness  Insulin   BMI  \\\n",
       "0            6.0    148.0           72.0           35.0      0.0  33.6   \n",
       "1            1.0     85.0           66.0           29.0     58.6  26.6   \n",
       "2            8.0    183.0           64.0           33.0      0.0  23.3   \n",
       "3            1.0     89.0           66.0           23.0     94.0  28.1   \n",
       "4            0.0    137.0           40.0           35.0    168.0  43.1   \n",
       "..           ...      ...            ...            ...      ...   ...   \n",
       "763         10.0    101.0           76.0           48.0    180.0  32.9   \n",
       "764          2.0    122.0           70.0           27.0    127.0  36.8   \n",
       "765          5.0    121.0           72.0           23.0    112.0  26.2   \n",
       "766          1.0    126.0           60.0           33.2      0.0  30.1   \n",
       "767          1.0     93.0           70.0           31.0     66.6  30.4   \n",
       "\n",
       "     DiabetesPedigreeFunction   Age  Outcome  \n",
       "0                       0.627  50.0      1.0  \n",
       "1                       0.351  31.0      0.0  \n",
       "2                       0.672  32.0      1.0  \n",
       "3                       0.167  21.0      0.0  \n",
       "4                       2.288  33.0      1.0  \n",
       "..                        ...   ...      ...  \n",
       "763                     0.171  63.0      0.0  \n",
       "764                     0.340  27.0      0.0  \n",
       "765                     0.245  30.0      0.0  \n",
       "766                     0.349  47.0      1.0  \n",
       "767                     0.315  23.0      0.0  \n",
       "\n",
       "[768 rows x 9 columns]"
      ]
     },
     "execution_count": 148,
     "metadata": {},
     "output_type": "execute_result"
    }
   ],
   "source": [
    "# convert numpy.ndarray to pandas dataframe\n",
    "imputation_df = pd.DataFrame(imputation_npnd, columns=df.columns)\n",
    "imputation_df"
   ]
  },
  {
   "cell_type": "code",
   "execution_count": 181,
   "metadata": {},
   "outputs": [
    {
     "data": {
      "image/png": "[encoded data removed]",
      "text/plain": [
       "<Figure size 432x288 with 1 Axes>"
      ]
     },
     "metadata": {
      "needs_background": "light"
     },
     "output_type": "display_data"
    }
   ],
   "source": [
    "new_columns = [imputation_df['Pregnancies'], imputation_df['Glucose'], imputation_df['BloodPressure'],\n",
    "imputation_df['SkinThickness'],imputation_df['Insulin'],imputation_df['BMI'],imputation_df['DiabetesPedigreeFunction'],\n",
    "imputation_df['Age'],imputation_df['Outcome']]\n",
    "#plot_column_distribution(imputation_df['Pregnancies'])\n",
    "#plot_column_distribution(imputation_df['Glucose'])\n",
    "#plot_column_distribution(imputation_df['BloodPressure'])\n",
    "#plot_column_distribution(imputation_df['SkinThickness'])\n",
    "#plot_column_distribution(imputation_df['Insulin'])\n",
    "#plot_column_distribution(imputation_df['BMI'])\n",
    "#plot_column_distribution(imputation_df['DiabetesPedigreeFunction'])\n",
    "#plot_column_distribution(imputation_df['Age'])\n",
    "#plot_column_distribution(imputation_df['Outcome'])"
   ]
  },
  {
   "cell_type": "code",
   "execution_count": 163,
   "metadata": {},
   "outputs": [
    {
     "data": {
      "text/plain": [
       "Index(['Pregnancies', 'Glucose', 'BloodPressure', 'SkinThickness', 'Insulin',\n",
       "       'BMI', 'DiabetesPedigreeFunction', 'Age', 'Outcome'],\n",
       "      dtype='object')"
      ]
     },
     "execution_count": 163,
     "metadata": {},
     "output_type": "execute_result"
    }
   ],
   "source": [
    "df.columns"
   ]
  },
  {
   "cell_type": "code",
   "execution_count": 160,
   "metadata": {},
   "outputs": [
    {
     "data": {
      "image/png": "[encoded data removed]",
      "text/plain": [
       "<Figure size 432x288 with 1 Axes>"
      ]
     },
     "metadata": {
      "needs_background": "light"
     },
     "output_type": "display_data"
    }
   ],
   "source": [
    "\n",
    "plot_column_distribution(imputation_df['Outcome'])"
   ]
  },
  {
   "attachments": {},
   "cell_type": "markdown",
   "metadata": {},
   "source": [
    "### plot heatmap, pariplot using plotly"
   ]
  },
  {
   "cell_type": "code",
   "execution_count": 166,
   "metadata": {},
   "outputs": [
    {
     "data": {
      "application/vnd.plotly.v1+json": {
       "config": {
        "plotlyServerURL": "https://plot.ly"
       },
       "data": [
        {
         "coloraxis": "coloraxis",
         "hovertemplate": "x: %{x}<br>y: %{y}<br>color: %{z}<extra></extra>",
         "name": "0",
         "texttemplate": "%{z}",
         "type": "heatmap",
         "x": [
          "Pregnancies",
          "Glucose",
          "BloodPressure",
          "SkinThickness",
          "Insulin",
          "BMI",
          "DPF",
          "Age",
          "Outcome"
         ],
         "xaxis": "x",
         "y": [
          "Pregnancies",
          "Glucose",
          "BloodPressure",
          "SkinThickness",
          "Insulin",
          "BMI",
          "DPF",
          "Age",
          "Outcome"
         ],
         "yaxis": "y",
         "z": [
          [
           1,
           0.1314264363162963,
           0.21767888374258387,
           0.10670842580807433,
           -0.08282364818974457,
           0.024426697415307088,
           -0.03352267296261304,
           0.5443412284023392,
           0.22189815303398636
          ],
          [
           0.1314264363162963,
           1,
           0.23500194218562798,
           0.2545734734277769,
           0.31083910119908176,
           0.23889647767578526,
           0.1392828130326366,
           0.2702846543525467,
           0.49637858533534857
          ],
          [
           0.21767888374258387,
           0.23500194218562798,
           1,
           0.2265053966722076,
           -0.057494361643059114,
           0.2964931825345135,
           0.004924513350842983,
           0.33744697499789206,
           0.17750876777011426
          ],
          [
           0.10670842580807433,
           0.2545734734277769,
           0.2265053966722076,
           1,
           0.0581336033388598,
           0.6312720602926969,
           0.11418956467309062,
           0.1530414961196827,
           0.2835549473291383
          ],
          [
           -0.08282364818974457,
           0.31083910119908176,
           -0.057494361643059114,
           0.0581336033388598,
           1,
           0.10103530666871356,
           0.12970130181490874,
           -0.019284477306157913,
           -0.036178150685688144
          ],
          [
           0.024426697415307088,
           0.23889647767578526,
           0.2964931825345135,
           0.6312720602926969,
           0.10103530666871356,
           1,
           0.15421007558113706,
           0.03092521906778187,
           0.31486543250835236
          ],
          [
           -0.03352267296261304,
           0.1392828130326366,
           0.004924513350842983,
           0.11418956467309062,
           0.12970130181490874,
           0.15421007558113706,
           1,
           0.03356131243480539,
           0.17384406565296004
          ],
          [
           0.5443412284023392,
           0.2702846543525467,
           0.33744697499789206,
           0.1530414961196827,
           -0.019284477306157913,
           0.03092521906778187,
           0.03356131243480539,
           1,
           0.23835598302719757
          ],
          [
           0.22189815303398636,
           0.49637858533534857,
           0.17750876777011426,
           0.2835549473291383,
           -0.036178150685688144,
           0.31486543250835236,
           0.17384406565296004,
           0.23835598302719757,
           1
          ]
         ]
        }
       ],
       "layout": {
        "coloraxis": {
         "colorscale": [
          [
           0,
           "rgb(5,48,97)"
          ],
          [
           0.1,
           "rgb(33,102,172)"
          ],
          [
           0.2,
           "rgb(67,147,195)"
          ],
          [
           0.3,
           "rgb(146,197,222)"
          ],
          [
           0.4,
           "rgb(209,229,240)"
          ],
          [
           0.5,
           "rgb(247,247,247)"
          ],
          [
           0.6,
           "rgb(253,219,199)"
          ],
          [
           0.7,
           "rgb(244,165,130)"
          ],
          [
           0.8,
           "rgb(214,96,77)"
          ],
          [
           0.9,
           "rgb(178,24,43)"
          ],
          [
           1,
           "rgb(103,0,31)"
          ]
         ]
        },
        "template": {
         "data": {
          "bar": [
           {
            "error_x": {
             "color": "#2a3f5f"
            },
            "error_y": {
             "color": "#2a3f5f"
            },
            "marker": {
             "line": {
              "color": "#E5ECF6",
              "width": 0.5
             },
             "pattern": {
              "fillmode": "overlay",
              "size": 10,
              "solidity": 0.2
             }
            },
            "type": "bar"
           }
          ],
          "barpolar": [
           {
            "marker": {
             "line": {
              "color": "#E5ECF6",
              "width": 0.5
             },
             "pattern": {
              "fillmode": "overlay",
              "size": 10,
              "solidity": 0.2
             }
            },
            "type": "barpolar"
           }
          ],
          "carpet": [
           {
            "aaxis": {
             "endlinecolor": "#2a3f5f",
             "gridcolor": "white",
             "linecolor": "white",
             "minorgridcolor": "white",
             "startlinecolor": "#2a3f5f"
            },
            "baxis": {
             "endlinecolor": "#2a3f5f",
             "gridcolor": "white",
             "linecolor": "white",
             "minorgridcolor": "white",
             "startlinecolor": "#2a3f5f"
            },
            "type": "carpet"
           }
          ],
          "choropleth": [
           {
            "colorbar": {
             "outlinewidth": 0,
             "ticks": ""
            },
            "type": "choropleth"
           }
          ],
          "contour": [
           {
            "colorbar": {
             "outlinewidth": 0,
             "ticks": ""
            },
            "colorscale": [
             [
              0,
              "#0d0887"
             ],
             [
              0.1111111111111111,
              "#46039f"
             ],
             [
              0.2222222222222222,
              "#7201a8"
             ],
             [
              0.3333333333333333,
              "#9c179e"
             ],
             [
              0.4444444444444444,
              "#bd3786"
             ],
             [
              0.5555555555555556,
              "#d8576b"
             ],
             [
              0.6666666666666666,
              "#ed7953"
             ],
             [
              0.7777777777777778,
              "#fb9f3a"
             ],
             [
              0.8888888888888888,
              "#fdca26"
             ],
             [
              1,
              "#f0f921"
             ]
            ],
            "type": "contour"
           }
          ],
          "contourcarpet": [
           {
            "colorbar": {
             "outlinewidth": 0,
             "ticks": ""
            },
            "type": "contourcarpet"
           }
          ],
          "heatmap": [
           {
            "colorbar": {
             "outlinewidth": 0,
             "ticks": ""
            },
            "colorscale": [
             [
              0,
              "#0d0887"
             ],
             [
              0.1111111111111111,
              "#46039f"
             ],
             [
              0.2222222222222222,
              "#7201a8"
             ],
             [
              0.3333333333333333,
              "#9c179e"
             ],
             [
              0.4444444444444444,
              "#bd3786"
             ],
             [
              0.5555555555555556,
              "#d8576b"
             ],
             [
              0.6666666666666666,
              "#ed7953"
             ],
             [
              0.7777777777777778,
              "#fb9f3a"
             ],
             [
              0.8888888888888888,
              "#fdca26"
             ],
             [
              1,
              "#f0f921"
             ]
            ],
            "type": "heatmap"
           }
          ],
          "heatmapgl": [
           {
            "colorbar": {
             "outlinewidth": 0,
             "ticks": ""
            },
            "colorscale": [
             [
              0,
              "#0d0887"
             ],
             [
              0.1111111111111111,
              "#46039f"
             ],
             [
              0.2222222222222222,
              "#7201a8"
             ],
             [
              0.3333333333333333,
              "#9c179e"
             ],
             [
              0.4444444444444444,
              "#bd3786"
             ],
             [
              0.5555555555555556,
              "#d8576b"
             ],
             [
              0.6666666666666666,
              "#ed7953"
             ],
             [
              0.7777777777777778,
              "#fb9f3a"
             ],
             [
              0.8888888888888888,
              "#fdca26"
             ],
             [
              1,
              "#f0f921"
             ]
            ],
            "type": "heatmapgl"
           }
          ],
          "histogram": [
           {
            "marker": {
             "pattern": {
              "fillmode": "overlay",
              "size": 10,
              "solidity": 0.2
             }
            },
            "type": "histogram"
           }
          ],
          "histogram2d": [
           {
            "colorbar": {
             "outlinewidth": 0,
             "ticks": ""
            },
            "colorscale": [
             [
              0,
              "#0d0887"
             ],
             [
              0.1111111111111111,
              "#46039f"
             ],
             [
              0.2222222222222222,
              "#7201a8"
             ],
             [
              0.3333333333333333,
              "#9c179e"
             ],
             [
              0.4444444444444444,
              "#bd3786"
             ],
             [
              0.5555555555555556,
              "#d8576b"
             ],
             [
              0.6666666666666666,
              "#ed7953"
             ],
             [
              0.7777777777777778,
              "#fb9f3a"
             ],
             [
              0.8888888888888888,
              "#fdca26"
             ],
             [
              1,
              "#f0f921"
             ]
            ],
            "type": "histogram2d"
           }
          ],
          "histogram2dcontour": [
           {
            "colorbar": {
             "outlinewidth": 0,
             "ticks": ""
            },
            "colorscale": [
             [
              0,
              "#0d0887"
             ],
             [
              0.1111111111111111,
              "#46039f"
             ],
             [
              0.2222222222222222,
              "#7201a8"
             ],
             [
              0.3333333333333333,
              "#9c179e"
             ],
             [
              0.4444444444444444,
              "#bd3786"
             ],
             [
              0.5555555555555556,
              "#d8576b"
             ],
             [
              0.6666666666666666,
              "#ed7953"
             ],
             [
              0.7777777777777778,
              "#fb9f3a"
             ],
             [
              0.8888888888888888,
              "#fdca26"
             ],
             [
              1,
              "#f0f921"
             ]
            ],
            "type": "histogram2dcontour"
           }
          ],
          "mesh3d": [
           {
            "colorbar": {
             "outlinewidth": 0,
             "ticks": ""
            },
            "type": "mesh3d"
           }
          ],
          "parcoords": [
           {
            "line": {
             "colorbar": {
              "outlinewidth": 0,
              "ticks": ""
             }
            },
            "type": "parcoords"
           }
          ],
          "pie": [
           {
            "automargin": true,
            "type": "pie"
           }
          ],
          "scatter": [
           {
            "fillpattern": {
             "fillmode": "overlay",
             "size": 10,
             "solidity": 0.2
            },
            "type": "scatter"
           }
          ],
          "scatter3d": [
           {
            "line": {
             "colorbar": {
              "outlinewidth": 0,
              "ticks": ""
             }
            },
            "marker": {
             "colorbar": {
              "outlinewidth": 0,
              "ticks": ""
             }
            },
            "type": "scatter3d"
           }
          ],
          "scattercarpet": [
           {
            "marker": {
             "colorbar": {
              "outlinewidth": 0,
              "ticks": ""
             }
            },
            "type": "scattercarpet"
           }
          ],
          "scattergeo": [
           {
            "marker": {
             "colorbar": {
              "outlinewidth": 0,
              "ticks": ""
             }
            },
            "type": "scattergeo"
           }
          ],
          "scattergl": [
           {
            "marker": {
             "colorbar": {
              "outlinewidth": 0,
              "ticks": ""
             }
            },
            "type": "scattergl"
           }
          ],
          "scattermapbox": [
           {
            "marker": {
             "colorbar": {
              "outlinewidth": 0,
              "ticks": ""
             }
            },
            "type": "scattermapbox"
           }
          ],
          "scatterpolar": [
           {
            "marker": {
             "colorbar": {
              "outlinewidth": 0,
              "ticks": ""
             }
            },
            "type": "scatterpolar"
           }
          ],
          "scatterpolargl": [
           {
            "marker": {
             "colorbar": {
              "outlinewidth": 0,
              "ticks": ""
             }
            },
            "type": "scatterpolargl"
           }
          ],
          "scatterternary": [
           {
            "marker": {
             "colorbar": {
              "outlinewidth": 0,
              "ticks": ""
             }
            },
            "type": "scatterternary"
           }
          ],
          "surface": [
           {
            "colorbar": {
             "outlinewidth": 0,
             "ticks": ""
            },
            "colorscale": [
             [
              0,
              "#0d0887"
             ],
             [
              0.1111111111111111,
              "#46039f"
             ],
             [
              0.2222222222222222,
              "#7201a8"
             ],
             [
              0.3333333333333333,
              "#9c179e"
             ],
             [
              0.4444444444444444,
              "#bd3786"
             ],
             [
              0.5555555555555556,
              "#d8576b"
             ],
             [
              0.6666666666666666,
              "#ed7953"
             ],
             [
              0.7777777777777778,
              "#fb9f3a"
             ],
             [
              0.8888888888888888,
              "#fdca26"
             ],
             [
              1,
              "#f0f921"
             ]
            ],
            "type": "surface"
           }
          ],
          "table": [
           {
            "cells": {
             "fill": {
              "color": "#EBF0F8"
             },
             "line": {
              "color": "white"
             }
            },
            "header": {
             "fill": {
              "color": "#C8D4E3"
             },
             "line": {
              "color": "white"
             }
            },
            "type": "table"
           }
          ]
         },
         "layout": {
          "annotationdefaults": {
           "arrowcolor": "#2a3f5f",
           "arrowhead": 0,
           "arrowwidth": 1
          },
          "autotypenumbers": "strict",
          "coloraxis": {
           "colorbar": {
            "outlinewidth": 0,
            "ticks": ""
           }
          },
          "colorscale": {
           "diverging": [
            [
             0,
             "#8e0152"
            ],
            [
             0.1,
             "#c51b7d"
            ],
            [
             0.2,
             "#de77ae"
            ],
            [
             0.3,
             "#f1b6da"
            ],
            [
             0.4,
             "#fde0ef"
            ],
            [
             0.5,
             "#f7f7f7"
            ],
            [
             0.6,
             "#e6f5d0"
            ],
            [
             0.7,
             "#b8e186"
            ],
            [
             0.8,
             "#7fbc41"
            ],
            [
             0.9,
             "#4d9221"
            ],
            [
             1,
             "#276419"
            ]
           ],
           "sequential": [
            [
             0,
             "#0d0887"
            ],
            [
             0.1111111111111111,
             "#46039f"
            ],
            [
             0.2222222222222222,
             "#7201a8"
            ],
            [
             0.3333333333333333,
             "#9c179e"
            ],
            [
             0.4444444444444444,
             "#bd3786"
            ],
            [
             0.5555555555555556,
             "#d8576b"
            ],
            [
             0.6666666666666666,
             "#ed7953"
            ],
            [
             0.7777777777777778,
             "#fb9f3a"
            ],
            [
             0.8888888888888888,
             "#fdca26"
            ],
            [
             1,
             "#f0f921"
            ]
           ],
           "sequentialminus": [
            [
             0,
             "#0d0887"
            ],
            [
             0.1111111111111111,
             "#46039f"
            ],
            [
             0.2222222222222222,
             "#7201a8"
            ],
            [
             0.3333333333333333,
             "#9c179e"
            ],
            [
             0.4444444444444444,
             "#bd3786"
            ],
            [
             0.5555555555555556,
             "#d8576b"
            ],
            [
             0.6666666666666666,
             "#ed7953"
            ],
            [
             0.7777777777777778,
             "#fb9f3a"
            ],
            [
             0.8888888888888888,
             "#fdca26"
            ],
            [
             1,
             "#f0f921"
            ]
           ]
          },
          "colorway": [
           "#636efa",
           "#EF553B",
           "#00cc96",
           "#ab63fa",
           "#FFA15A",
           "#19d3f3",
           "#FF6692",
           "#B6E880",
           "#FF97FF",
           "#FECB52"
          ],
          "font": {
           "color": "#2a3f5f"
          },
          "geo": {
           "bgcolor": "white",
           "lakecolor": "white",
           "landcolor": "#E5ECF6",
           "showlakes": true,
           "showland": true,
           "subunitcolor": "white"
          },
          "hoverlabel": {
           "align": "left"
          },
          "hovermode": "closest",
          "mapbox": {
           "style": "light"
          },
          "paper_bgcolor": "white",
          "plot_bgcolor": "#E5ECF6",
          "polar": {
           "angularaxis": {
            "gridcolor": "white",
            "linecolor": "white",
            "ticks": ""
           },
           "bgcolor": "#E5ECF6",
           "radialaxis": {
            "gridcolor": "white",
            "linecolor": "white",
            "ticks": ""
           }
          },
          "scene": {
           "xaxis": {
            "backgroundcolor": "#E5ECF6",
            "gridcolor": "white",
            "gridwidth": 2,
            "linecolor": "white",
            "showbackground": true,
            "ticks": "",
            "zerolinecolor": "white"
           },
           "yaxis": {
            "backgroundcolor": "#E5ECF6",
            "gridcolor": "white",
            "gridwidth": 2,
            "linecolor": "white",
            "showbackground": true,
            "ticks": "",
            "zerolinecolor": "white"
           },
           "zaxis": {
            "backgroundcolor": "#E5ECF6",
            "gridcolor": "white",
            "gridwidth": 2,
            "linecolor": "white",
            "showbackground": true,
            "ticks": "",
            "zerolinecolor": "white"
           }
          },
          "shapedefaults": {
           "line": {
            "color": "#2a3f5f"
           }
          },
          "ternary": {
           "aaxis": {
            "gridcolor": "white",
            "linecolor": "white",
            "ticks": ""
           },
           "baxis": {
            "gridcolor": "white",
            "linecolor": "white",
            "ticks": ""
           },
           "bgcolor": "#E5ECF6",
           "caxis": {
            "gridcolor": "white",
            "linecolor": "white",
            "ticks": ""
           }
          },
          "title": {
           "x": 0.05
          },
          "xaxis": {
           "automargin": true,
           "gridcolor": "white",
           "linecolor": "white",
           "ticks": "",
           "title": {
            "standoff": 15
           },
           "zerolinecolor": "white",
           "zerolinewidth": 2
          },
          "yaxis": {
           "automargin": true,
           "gridcolor": "white",
           "linecolor": "white",
           "ticks": "",
           "title": {
            "standoff": 15
           },
           "zerolinecolor": "white",
           "zerolinewidth": 2
          }
         }
        },
        "title": {
         "text": "Diabetes Heatmap"
        },
        "xaxis": {
         "anchor": "y",
         "constrain": "domain",
         "domain": [
          0,
          1
         ],
         "scaleanchor": "y"
        },
        "yaxis": {
         "anchor": "x",
         "autorange": true,
         "constrain": "domain",
         "domain": [
          0,
          1
         ]
        }
       }
      }
     },
     "metadata": {},
     "output_type": "display_data"
    }
   ],
   "source": [
    "# Heatmap\n",
    "import plotly.express as px\n",
    "# change the DiabetesPedigreeFunction to DPF\n",
    "imputation_df.columns = ['Pregnancies', 'Glucose', 'BloodPressure', 'SkinThickness', 'Insulin',\n",
    "       'BMI', 'DPF', 'Age', 'Outcome']\n",
    "# corralation\n",
    "imputation_df_corr = imputation_df.corr()\n",
    "# use plotly to plot the heatmap\n",
    "px.imshow(imputation_df_corr,color_continuous_scale='RdBu_r' ,text_auto=True,origin='lower',title=\"Diabetes Heatmap\")"
   ]
  },
  {
   "cell_type": "code",
   "execution_count": 171,
   "metadata": {},
   "outputs": [
    {
     "data": {
      "application/vnd.plotly.v1+json": {
       "config": {
        "plotlyServerURL": "https://plot.ly"
       },
       "data": [
        {
         "dimensions": [
          {
           "axis": {
            "matches": true
           },
           "label": "Pg",
           "values": [
            6,
            1,
            8,
            1,
            0,
            5,
            3,
            10,
            2,
            8,
            4,
            10,
            10,
            1,
            5,
            7,
            0,
            7,
            1,
            1,
            3,
            8,
            7,
            9,
            11,
            10,
            7,
            1,
            13,
            5,
            5,
            3,
            3,
            6,
            10,
            4,
            11,
            9,
            2,
            4,
            3,
            7,
            7,
            9,
            7,
            0,
            1,
            2,
            7,
            7,
            1,
            1,
            5,
            8,
            7,
            1,
            7,
            0,
            0,
            0,
            2,
            8,
            5,
            2,
            7,
            5,
            0,
            2,
            1,
            4,
            2,
            5,
            13,
            4,
            1,
            1,
            7,
            5,
            0,
            2,
            3,
            2,
            7,
            0,
            5,
            2,
            13,
            2,
            15,
            1,
            1,
            4,
            7,
            4,
            2,
            6,
            2,
            1,
            6,
            1,
            1,
            1,
            0,
            1,
            2,
            1,
            1,
            4,
            3,
            0,
            3,
            8,
            1,
            4,
            7,
            4,
            5,
            5,
            4,
            4,
            0,
            6,
            2,
            5,
            0,
            1,
            3,
            1,
            1,
            0,
            4,
            9,
            3,
            8,
            2,
            2,
            0,
            0,
            0,
            5,
            3,
            5,
            2,
            10,
            4,
            0,
            9,
            2,
            5,
            2,
            1,
            4,
            9,
            1,
            8,
            7,
            2,
            1,
            2,
            17,
            4,
            7,
            0,
            2,
            0,
            6,
            3,
            4,
            4,
            3,
            6,
            6,
            2,
            1,
            2,
            8,
            6,
            0,
            5,
            5,
            6,
            0,
            1,
            5,
            4,
            7,
            8,
            1,
            8,
            5,
            3,
            9,
            7,
            11,
            8,
            5,
            1,
            3,
            4,
            4,
            0,
            1,
            0,
            2,
            6,
            5,
            8,
            5,
            1,
            7,
            2,
            0,
            7,
            0,
            9,
            12,
            5,
            6,
            5,
            5,
            0,
            2,
            7,
            7,
            1,
            1,
            0,
            3,
            4,
            0,
            4,
            6,
            1,
            4,
            3,
            4,
            7,
            0,
            9,
            0,
            1,
            4,
            3,
            6,
            2,
            9,
            10,
            0,
            9,
            1,
            9,
            2,
            2,
            0,
            12,
            1,
            3,
            2,
            1,
            11,
            3,
            3,
            4,
            3,
            4,
            5,
            0,
            2,
            0,
            2,
            10,
            2,
            3,
            1,
            13,
            2,
            7,
            0,
            5,
            2,
            0,
            10,
            7,
            7,
            2,
            7,
            5,
            1,
            4,
            5,
            0,
            0,
            2,
            1,
            0,
            6,
            2,
            0,
            14,
            8,
            0,
            2,
            5,
            5,
            3,
            2,
            10,
            0,
            0,
            2,
            6,
            0,
            2,
            3,
            7,
            2,
            3,
            3,
            3,
            6,
            4,
            3,
            0,
            13,
            2,
            1,
            1,
            10,
            2,
            6,
            8,
            2,
            1,
            12,
            1,
            0,
            0,
            5,
            9,
            7,
            1,
            1,
            1,
            5,
            8,
            8,
            1,
            3,
            3,
            5,
            4,
            4,
            3,
            1,
            3,
            9,
            1,
            13,
            12,
            1,
            5,
            5,
            5,
            4,
            4,
            5,
            6,
            0,
            3,
            1,
            3,
            0,
            0,
            2,
            2,
            12,
            0,
            1,
            4,
            0,
            1,
            0,
            1,
            1,
            1,
            1,
            5,
            8,
            5,
            3,
            1,
            5,
            1,
            4,
            4,
            2,
            3,
            0,
            3,
            3,
            4,
            6,
            5,
            9,
            5,
            2,
            4,
            0,
            8,
            1,
            6,
            1,
            1,
            1,
            0,
            3,
            1,
            4,
            1,
            3,
            1,
            2,
            0,
            2,
            8,
            4,
            0,
            1,
            0,
            1,
            2,
            3,
            1,
            2,
            1,
            0,
            12,
            5,
            1,
            6,
            0,
            2,
            4,
            8,
            4,
            0,
            1,
            0,
            0,
            0,
            1,
            2,
            0,
            2,
            2,
            14,
            1,
            5,
            10,
            9,
            9,
            1,
            8,
            5,
            10,
            0,
            0,
            0,
            8,
            6,
            1,
            0,
            0,
            7,
            4,
            0,
            2,
            7,
            8,
            4,
            3,
            0,
            4,
            0,
            0,
            0,
            1,
            0,
            4,
            8,
            2,
            2,
            4,
            4,
            3,
            6,
            5,
            2,
            7,
            6,
            2,
            3,
            6,
            7,
            3,
            10,
            0,
            1,
            2,
            8,
            12,
            0,
            9,
            2,
            3,
            3,
            9,
            7,
            13,
            6,
            2,
            3,
            6,
            9,
            3,
            3,
            1,
            3,
            0,
            0,
            2,
            0,
            1,
            6,
            1,
            4,
            0,
            0,
            0,
            3,
            8,
            3,
            10,
            4,
            1,
            8,
            5,
            4,
            1,
            4,
            1,
            3,
            6,
            1,
            1,
            7,
            1,
            8,
            11,
            11,
            6,
            0,
            1,
            6,
            0,
            2,
            1,
            6,
            4,
            0,
            3,
            2,
            3,
            2,
            1,
            1,
            6,
            2,
            10,
            2,
            0,
            6,
            12,
            8,
            8,
            1,
            8,
            6,
            3,
            0,
            11,
            2,
            3,
            2,
            6,
            0,
            0,
            1,
            1,
            1,
            1,
            6,
            1,
            7,
            4,
            1,
            1,
            1,
            0,
            1,
            3,
            3,
            7,
            6,
            11,
            3,
            6,
            2,
            9,
            0,
            2,
            2,
            6,
            0,
            2,
            4,
            0,
            0,
            5,
            4,
            7,
            0,
            2,
            1,
            10,
            13,
            5,
            2,
            7,
            1,
            0,
            4,
            6,
            4,
            3,
            2,
            1,
            0,
            11,
            0,
            1,
            1,
            5,
            2,
            1,
            2,
            2,
            1,
            11,
            3,
            10,
            1,
            8,
            9,
            6,
            1,
            4,
            10,
            6,
            9,
            6,
            1,
            10,
            3,
            8,
            6,
            9,
            0,
            3,
            2,
            2,
            0,
            0,
            4,
            5,
            2,
            3,
            1,
            1,
            1,
            8,
            13,
            2,
            7,
            2,
            7,
            3,
            0,
            4,
            4,
            2,
            6,
            1,
            2,
            4,
            6,
            10,
            2,
            9,
            2,
            3,
            5,
            10,
            0,
            3,
            7,
            3,
            10,
            1,
            5,
            4,
            1,
            1,
            5,
            1,
            4,
            1,
            0,
            2,
            2,
            3,
            8,
            2,
            2,
            2,
            4,
            0,
            8,
            2,
            1,
            11,
            3,
            1,
            9,
            13,
            12,
            1,
            1,
            3,
            6,
            4,
            1,
            3,
            0,
            8,
            1,
            7,
            0,
            1,
            6,
            2,
            9,
            9,
            10,
            2,
            5,
            1,
            1
           ]
          },
          {
           "axis": {
            "matches": true
           },
           "label": "Gc",
           "values": [
            148,
            85,
            183,
            89,
            137,
            116,
            78,
            115,
            197,
            125,
            110,
            168,
            139,
            189,
            166,
            100,
            118,
            107,
            103,
            115,
            126,
            99,
            196,
            119,
            143,
            125,
            147,
            97,
            145,
            117,
            109,
            158,
            88,
            92,
            122,
            103,
            138,
            102,
            90,
            111,
            180,
            133,
            106,
            171,
            159,
            180,
            146,
            71,
            103,
            105,
            103,
            101,
            88,
            176,
            150,
            73,
            187,
            100,
            146,
            105,
            84,
            133,
            44,
            141,
            114,
            99,
            109,
            109,
            95,
            146,
            100,
            139,
            126,
            129,
            79,
            90.6,
            62,
            95,
            131,
            112,
            113,
            74,
            83,
            101,
            137,
            110,
            106,
            100,
            136,
            107,
            80,
            123,
            81,
            134,
            142,
            144,
            92,
            71,
            93,
            122,
            163,
            151,
            125,
            81,
            85,
            126,
            96,
            144,
            83,
            95,
            171,
            155,
            89,
            76,
            160,
            146,
            124,
            78,
            97,
            99,
            162,
            111,
            107,
            132,
            113,
            88,
            120,
            118,
            117,
            105,
            173,
            122,
            170,
            84,
            96,
            125,
            100,
            93,
            129,
            105,
            128,
            106,
            108,
            108,
            154,
            102,
            57,
            106,
            147,
            90,
            136,
            114,
            156,
            153,
            188,
            152,
            99,
            109,
            88,
            163,
            151,
            102,
            114,
            100,
            131,
            104,
            148,
            120,
            110,
            111,
            102,
            134,
            87,
            79,
            75,
            179,
            85,
            129,
            143,
            130,
            87,
            119,
            87.8,
            73,
            141,
            194,
            181,
            128,
            109,
            139,
            111,
            123,
            159,
            135,
            85,
            158,
            105,
            107,
            109,
            148,
            113,
            138,
            108,
            99,
            103,
            111,
            196,
            162,
            96,
            184,
            81,
            147,
            179,
            140,
            112,
            151,
            109,
            125,
            85,
            112,
            177,
            158,
            119,
            142,
            100,
            87,
            101,
            162,
            197,
            117,
            142,
            134,
            79,
            122,
            74,
            171,
            181,
            179,
            164,
            104,
            91,
            91,
            139,
            119,
            146,
            184,
            122,
            165,
            124,
            111,
            106,
            129,
            90,
            86,
            92,
            113,
            111,
            114,
            193,
            155,
            191,
            141,
            95,
            142,
            123,
            96,
            138,
            128,
            102,
            146,
            101,
            108,
            122,
            71,
            106,
            100,
            106,
            104,
            114,
            108,
            146,
            129,
            133,
            161,
            108,
            136,
            155,
            119,
            96,
            108,
            78,
            107,
            128,
            128,
            161,
            151,
            146,
            126,
            100,
            112,
            167,
            144,
            77,
            115,
            150,
            120,
            161,
            137,
            128,
            124,
            80,
            106,
            155,
            113,
            109,
            112,
            99,
            182,
            115,
            194,
            129,
            112,
            124,
            152,
            112,
            157,
            122,
            179,
            102,
            105,
            118,
            87,
            180,
            106,
            95,
            165,
            117,
            115,
            152,
            178,
            130,
            95,
            98.8,
            122,
            95,
            126,
            139,
            116,
            99,
            138.2,
            92,
            137,
            61,
            90,
            90,
            165,
            125,
            129,
            88,
            196,
            189,
            158,
            103,
            146,
            147,
            99,
            124,
            101,
            81,
            133,
            173,
            118,
            84,
            105,
            122,
            140,
            98,
            87,
            156,
            93,
            107,
            105,
            109,
            90,
            125,
            119,
            116,
            105,
            144,
            100,
            100,
            166,
            131,
            116,
            158,
            127,
            96,
            131,
            82,
            193,
            95,
            137,
            136,
            72,
            168,
            123,
            115,
            101,
            197,
            172,
            102,
            112,
            143,
            143,
            138,
            173,
            97,
            144,
            83,
            129,
            119,
            94,
            102,
            115,
            151,
            184,
            94,
            181,
            135,
            95,
            99,
            89,
            80,
            139,
            90,
            141,
            140,
            147,
            97,
            107,
            189,
            83,
            117,
            108,
            117,
            180,
            100,
            95,
            104,
            120,
            82,
            134,
            91,
            119,
            100,
            175,
            135,
            86,
            148,
            134,
            120,
            71,
            74,
            88,
            115,
            124,
            74,
            97,
            120,
            154,
            144,
            137,
            119,
            136,
            114,
            137,
            105,
            114,
            126,
            132,
            158,
            123,
            85,
            84,
            145,
            135,
            139,
            173,
            99,
            194,
            83,
            89,
            99,
            125,
            80,
            166,
            110,
            81,
            195,
            154,
            117,
            84,
            135.6,
            94,
            96,
            75,
            180,
            130,
            84,
            120,
            84,
            139,
            91,
            91,
            99,
            163,
            145,
            125,
            76,
            129,
            68,
            124,
            114,
            130,
            125,
            87,
            97,
            116,
            117,
            111,
            122,
            107,
            86,
            91,
            77,
            132,
            105,
            57,
            127,
            129,
            100,
            128,
            90,
            84,
            88,
            186,
            187,
            131,
            164,
            189,
            116,
            84,
            114,
            88,
            84,
            124,
            97,
            110,
            103,
            85,
            125,
            198,
            87,
            99,
            91,
            95,
            99,
            92,
            154,
            121,
            78,
            130,
            111,
            98,
            143,
            119,
            108,
            118,
            133,
            197,
            151,
            109,
            121,
            100,
            124,
            93,
            143,
            103,
            176,
            73,
            111,
            112,
            132,
            82,
            123,
            188,
            67,
            89,
            173,
            109,
            108,
            96,
            124,
            150,
            183,
            124,
            181,
            92,
            152,
            111,
            106,
            174,
            168,
            105,
            138,
            106,
            117,
            68,
            112,
            119,
            112,
            92,
            183,
            94,
            108,
            90,
            125,
            132,
            128,
            94,
            114,
            102,
            111,
            128,
            92,
            104,
            104,
            94,
            97,
            100,
            102,
            128,
            147,
            90,
            103,
            157,
            167,
            179,
            136,
            107,
            91,
            117,
            123,
            120,
            106,
            155,
            101,
            120,
            127,
            80,
            162,
            199,
            167,
            145,
            115,
            112,
            145,
            111,
            98,
            154,
            165,
            99,
            68,
            123,
            91,
            195,
            156,
            93,
            121,
            101,
            56,
            162,
            95,
            125,
            136,
            129,
            130,
            107,
            140,
            144,
            107,
            158,
            121,
            129,
            90,
            142,
            169,
            99,
            127,
            118,
            122,
            125,
            168,
            129,
            110,
            80,
            115,
            127,
            164,
            93,
            158,
            126,
            129,
            134,
            102,
            187,
            173,
            94,
            108,
            97,
            83,
            114,
            149,
            117,
            111,
            112,
            116,
            141,
            175,
            92,
            130,
            120,
            174,
            106,
            105,
            95,
            126,
            65,
            99,
            102,
            120,
            102,
            109,
            140,
            153,
            100,
            147,
            81,
            187,
            162,
            136,
            121,
            108,
            181,
            154,
            128,
            137,
            123,
            106,
            190,
            88,
            170,
            89,
            101,
            122,
            121,
            126,
            93
           ]
          },
          {
           "axis": {
            "matches": true
           },
           "label": "Is",
           "values": [
            0,
            58.6,
            0,
            94,
            168,
            85.4,
            88,
            87,
            543,
            0,
            82.6,
            0,
            139,
            846,
            175,
            0,
            230,
            0,
            83,
            96,
            235,
            93.8,
            0,
            0,
            146,
            115,
            0,
            140,
            110,
            50,
            38,
            245,
            54,
            53.8,
            124.4,
            192,
            113.6,
            0,
            0,
            207,
            70,
            70.6,
            21,
            240,
            160.4,
            0,
            116.2,
            45.2,
            0,
            150.8,
            82,
            36,
            23,
            300,
            342,
            67.4,
            304,
            110,
            62,
            142,
            68,
            0,
            26.8,
            128,
            0,
            61.2,
            0,
            50,
            38,
            100,
            90,
            140,
            0,
            270,
            58,
            132.8,
            31.4,
            113.4,
            0,
            100.8,
            51,
            45,
            71,
            92.2,
            0,
            125,
            0,
            71,
            110,
            85,
            75.2,
            176,
            48,
            0,
            64,
            228,
            79.8,
            76,
            64,
            220,
            0,
            224.8,
            81.2,
            40,
            64.6,
            152,
            14.4,
            140,
            18,
            36,
            135,
            495,
            37,
            47,
            175,
            0,
            0,
            74.2,
            117.6,
            51,
            100,
            113.6,
            100,
            134.2,
            0,
            99,
            135,
            94,
            145,
            0,
            168,
            0,
            225,
            23.8,
            49,
            140,
            50,
            92,
            125.8,
            325,
            212.2,
            35,
            63,
            0,
            284,
            65.2,
            31.4,
            119,
            147.2,
            62.4,
            204,
            17.4,
            155,
            485,
            0,
            0,
            94,
            135,
            53,
            114,
            177,
            105,
            285,
            84.8,
            0,
            156,
            120.4,
            125.4,
            88.2,
            78,
            0,
            130,
            51.2,
            48,
            55,
            130,
            42,
            130,
            136,
            0,
            57.4,
            92,
            23,
            41.4,
            98,
            0,
            495,
            58,
            114,
            160,
            149.2,
            94,
            0,
            0,
            107,
            210,
            145.6,
            48,
            99,
            318,
            45.6,
            62,
            55,
            44,
            190,
            55.4,
            280,
            0,
            87,
            0,
            54.8,
            0,
            129.6,
            130,
            175,
            271,
            129,
            120,
            0,
            0,
            478,
            0,
            95.6,
            190,
            56,
            32,
            98.2,
            0,
            744,
            53,
            0,
            370,
            37,
            144.6,
            45,
            0,
            192,
            0,
            0,
            61.2,
            66.6,
            88,
            0,
            176,
            194,
            0,
            109.2,
            680,
            402,
            70.8,
            64,
            103.6,
            55,
            109.4,
            258,
            0,
            87.2,
            65.2,
            375,
            150,
            130,
            0,
            78,
            57,
            0,
            67,
            0,
            146,
            129.2,
            0,
            0,
            56,
            79.8,
            45,
            100.4,
            57,
            0,
            116,
            131.2,
            278,
            0,
            122,
            155,
            0,
            0,
            135,
            545,
            220,
            49,
            75,
            40,
            74,
            182,
            194,
            198.4,
            120,
            360,
            215,
            184,
            52.6,
            0,
            135,
            42,
            0,
            108.4,
            105,
            132,
            148,
            180,
            205,
            60.2,
            148,
            96,
            85,
            0,
            94,
            64,
            0,
            140,
            0,
            231,
            0,
            0,
            29,
            91.2,
            168,
            156,
            86.8,
            120,
            68,
            155.6,
            52,
            0,
            52.2,
            58,
            255,
            69,
            0,
            171,
            0,
            105,
            73,
            0,
            135.2,
            105.8,
            108,
            83,
            99.4,
            74,
            0,
            54.6,
            49.6,
            32.4,
            43,
            80,
            0,
            167,
            0,
            54,
            249,
            325,
            123.8,
            21,
            0,
            293,
            83,
            0,
            123.4,
            66,
            140,
            465,
            89,
            66,
            94,
            158,
            325,
            84,
            75,
            0,
            72,
            82,
            74.4,
            182,
            59,
            110,
            50,
            0,
            0,
            285,
            81,
            196,
            0,
            415,
            87,
            0,
            275,
            115,
            0,
            51.4,
            0,
            0,
            65,
            88,
            39.2,
            0,
            165,
            0,
            125,
            0,
            579,
            94.2,
            176,
            310,
            61,
            167,
            474,
            81,
            0,
            51.6,
            115,
            170,
            76,
            78,
            79,
            210,
            277,
            54.6,
            180,
            145,
            180,
            128,
            85,
            60,
            112.6,
            48.4,
            0,
            26,
            169.4,
            70.6,
            120.8,
            0,
            50,
            120,
            0,
            0,
            14,
            70,
            92,
            64,
            63,
            95,
            0,
            210,
            77.2,
            105,
            0,
            89.4,
            71,
            237,
            60,
            56,
            55.2,
            49,
            44,
            41.4,
            105,
            36,
            100,
            0,
            140,
            93.2,
            0,
            98.4,
            184.2,
            106.8,
            117,
            191,
            110,
            75,
            90,
            328,
            95,
            49,
            125,
            0,
            250,
            480,
            265,
            43.8,
            85,
            66,
            71.2,
            37.4,
            122,
            46.8,
            181,
            23.8,
            76,
            145,
            193,
            71,
            107,
            0,
            79,
            64,
            46.4,
            90,
            170,
            76,
            185.2,
            0,
            210,
            123.6,
            66.4,
            86,
            105,
            165,
            51.6,
            72.4,
            326,
            66,
            130,
            69,
            0,
            140.6,
            61.8,
            82,
            105,
            188,
            69.8,
            106,
            136.6,
            65,
            29.6,
            56,
            0,
            86,
            46,
            210,
            155,
            215,
            190,
            0,
            56,
            76,
            225,
            207,
            166,
            67,
            63,
            90.6,
            106,
            101.2,
            44,
            115,
            215,
            80,
            77.4,
            64,
            46.4,
            0,
            274,
            77,
            54,
            60.6,
            88,
            18,
            126,
            126,
            165,
            35,
            117.8,
            44,
            120,
            330,
            63,
            130,
            0,
            105,
            0,
            0,
            80,
            131.2,
            77.4,
            600,
            58.4,
            0,
            94.8,
            156,
            46,
            0,
            140,
            0,
            115,
            230,
            185,
            27.8,
            25,
            0,
            120,
            87.6,
            54,
            65.4,
            126,
            0,
            80.4,
            293,
            41,
            272,
            182,
            158,
            194,
            321,
            110,
            144,
            80.8,
            29.8,
            15,
            0,
            0,
            160,
            54,
            83.4,
            115,
            102.8,
            54,
            166.6,
            124.2,
            28.8,
            75.8,
            0,
            90,
            160.4,
            183,
            25.2,
            0,
            65.6,
            66,
            91,
            46,
            105,
            148.2,
            0,
            29.6,
            152,
            440,
            144,
            159,
            130,
            117.6,
            100,
            106,
            77,
            121.4,
            135,
            540,
            90,
            200,
            49.6,
            70,
            13.4,
            0,
            231,
            130,
            0,
            132,
            0,
            0,
            190,
            100,
            168,
            129,
            49,
            240,
            74,
            0,
            0,
            108.4,
            0,
            265,
            45,
            0,
            105,
            0,
            122,
            205,
            219.2,
            101.8,
            180,
            180,
            44.8,
            0,
            95,
            125,
            51,
            480,
            125,
            121.2,
            155,
            95,
            200,
            0,
            0,
            47,
            100,
            58.8,
            0,
            335,
            0,
            160,
            387,
            22,
            0,
            291,
            58,
            392,
            185,
            96.2,
            178,
            0,
            55.6,
            200,
            127,
            105,
            50,
            50,
            180,
            148,
            229.4,
            68.8,
            79,
            0,
            120,
            165,
            0,
            89.6,
            120,
            35,
            160,
            0,
            150,
            94,
            116,
            0,
            140,
            105,
            0,
            57,
            200,
            0,
            0,
            74,
            106.4,
            510,
            0,
            110,
            65.6,
            0,
            166.2,
            0,
            16,
            0,
            45.2,
            180,
            127,
            112,
            0,
            66.6
           ]
          },
          {
           "axis": {
            "matches": true
           },
           "label": "Age",
           "values": [
            50,
            31,
            32,
            21,
            33,
            30,
            26,
            29,
            53,
            54,
            30,
            34,
            57,
            59,
            51,
            32,
            31,
            31,
            33,
            32,
            27,
            50,
            41,
            29,
            51,
            41,
            43,
            22,
            57,
            38,
            60,
            28,
            22,
            28,
            45,
            33,
            35,
            46,
            27,
            56,
            26,
            37,
            48,
            54,
            40,
            25,
            29,
            22,
            31,
            24,
            22,
            26,
            30,
            58,
            42,
            21,
            41,
            31,
            44,
            22,
            21,
            39,
            36,
            24,
            42,
            32,
            38,
            54,
            25,
            27,
            28,
            26,
            42,
            23,
            22,
            22,
            41,
            27,
            26,
            24,
            22,
            22,
            36,
            22,
            37,
            27,
            45,
            26,
            43,
            24,
            21,
            34,
            42,
            60,
            21,
            40,
            24,
            22,
            23,
            31,
            33,
            22,
            21,
            24,
            27,
            21,
            27,
            37,
            25,
            24,
            24,
            46,
            23,
            25,
            39,
            61,
            38,
            25,
            22,
            21,
            25,
            24,
            23,
            69,
            23,
            26,
            30,
            23,
            40,
            62,
            33,
            33,
            30,
            39,
            26,
            31,
            21,
            22,
            29,
            28,
            55,
            38,
            22,
            42,
            23,
            21,
            41,
            34,
            65,
            22,
            24,
            37,
            42,
            23,
            43,
            36,
            21,
            23,
            22,
            47,
            36,
            45,
            27,
            21,
            32,
            41,
            22,
            34,
            29,
            29,
            36,
            29,
            25,
            23,
            33,
            36,
            42,
            26,
            47,
            37,
            32,
            23,
            21,
            27,
            40,
            41,
            60,
            33,
            31,
            25,
            21,
            40,
            36,
            40,
            42,
            29,
            21,
            23,
            26,
            29,
            21,
            28,
            32,
            27,
            55,
            27,
            57,
            52,
            21,
            41,
            25,
            24,
            60,
            24,
            36,
            38,
            25,
            32,
            32,
            41,
            21,
            66,
            37,
            61,
            26,
            22,
            26,
            24,
            31,
            24,
            22,
            46,
            22,
            29,
            23,
            26,
            51,
            23,
            32,
            27,
            21,
            22,
            22,
            33,
            29,
            49,
            41,
            23,
            34,
            23,
            42,
            27,
            24,
            25,
            44,
            21,
            30,
            25,
            24,
            51,
            34,
            27,
            24,
            63,
            35,
            43,
            25,
            24,
            21,
            28,
            38,
            21,
            40,
            21,
            52,
            25,
            29,
            23,
            57,
            22,
            28,
            39,
            37,
            47,
            52,
            51,
            34,
            29,
            26,
            33,
            21,
            25,
            31,
            24,
            65,
            28,
            29,
            24,
            46,
            58,
            30,
            25,
            35,
            28,
            37,
            29,
            47,
            21,
            25,
            30,
            41,
            22,
            27,
            25,
            43,
            26,
            30,
            29,
            28,
            59,
            31,
            25,
            36,
            43,
            21,
            24,
            30,
            37,
            23,
            37,
            46,
            25,
            41,
            44,
            22,
            26,
            44,
            44,
            33,
            41,
            22,
            36,
            22,
            33,
            57,
            49,
            22,
            23,
            26,
            37,
            29,
            30,
            46,
            24,
            21,
            49,
            28,
            44,
            48,
            29,
            29,
            63,
            65,
            67,
            30,
            30,
            29,
            21,
            22,
            45,
            25,
            21,
            21,
            25,
            28,
            58,
            22,
            22,
            32,
            35,
            24,
            22,
            21,
            25,
            25,
            24,
            35,
            45,
            58,
            28,
            42,
            27,
            21,
            37,
            31,
            25,
            39,
            22,
            25,
            25,
            31,
            55,
            35,
            38,
            41,
            26,
            46,
            25,
            39,
            28,
            28,
            25,
            22,
            21,
            21,
            22,
            22,
            37,
            27,
            28,
            26,
            21,
            21,
            21,
            36,
            31,
            25,
            38,
            26,
            43,
            23,
            38,
            22,
            29,
            36,
            29,
            41,
            28,
            21,
            31,
            41,
            22,
            24,
            33,
            30,
            25,
            28,
            26,
            22,
            26,
            23,
            23,
            25,
            72,
            24,
            38,
            62,
            24,
            51,
            81,
            48,
            26,
            39,
            37,
            34,
            21,
            22,
            25,
            38,
            27,
            28,
            22,
            22,
            50,
            24,
            59,
            29,
            31,
            39,
            63,
            35,
            29,
            28,
            23,
            31,
            24,
            21,
            58,
            28,
            67,
            24,
            42,
            33,
            45,
            22,
            66,
            30,
            25,
            55,
            39,
            21,
            28,
            41,
            41,
            40,
            38,
            35,
            21,
            21,
            64,
            46,
            21,
            58,
            22,
            24,
            28,
            53,
            51,
            41,
            60,
            25,
            26,
            26,
            45,
            24,
            21,
            21,
            24,
            22,
            31,
            22,
            24,
            29,
            31,
            24,
            23,
            46,
            67,
            23,
            32,
            43,
            27,
            56,
            25,
            29,
            37,
            53,
            28,
            50,
            37,
            21,
            25,
            66,
            23,
            28,
            37,
            30,
            58,
            42,
            35,
            54,
            28,
            24,
            32,
            27,
            22,
            21,
            46,
            37,
            33,
            39,
            21,
            22,
            22,
            23,
            25,
            35,
            21,
            36,
            62,
            21,
            27,
            62,
            42,
            52,
            22,
            41,
            29,
            52,
            25,
            45,
            24,
            44,
            25,
            34,
            22,
            46,
            21,
            38,
            26,
            24,
            28,
            30,
            54,
            36,
            21,
            22,
            25,
            27,
            23,
            24,
            36,
            40,
            26,
            50,
            27,
            30,
            23,
            50,
            24,
            28,
            28,
            45,
            21,
            21,
            29,
            21,
            21,
            45,
            21,
            34,
            24,
            23,
            22,
            31,
            38,
            48,
            23,
            32,
            28,
            27,
            24,
            50,
            31,
            27,
            30,
            33,
            22,
            42,
            23,
            23,
            27,
            28,
            27,
            22,
            25,
            22,
            41,
            51,
            27,
            54,
            22,
            43,
            40,
            40,
            24,
            70,
            40,
            43,
            45,
            49,
            21,
            47,
            22,
            68,
            31,
            53,
            25,
            25,
            23,
            22,
            26,
            22,
            27,
            69,
            25,
            22,
            29,
            23,
            46,
            34,
            44,
            23,
            43,
            25,
            43,
            31,
            22,
            28,
            26,
            26,
            49,
            52,
            41,
            27,
            28,
            30,
            22,
            45,
            23,
            24,
            40,
            38,
            21,
            32,
            34,
            31,
            56,
            24,
            52,
            34,
            21,
            42,
            42,
            45,
            38,
            25,
            22,
            22,
            22,
            34,
            22,
            24,
            22,
            53,
            28,
            21,
            42,
            21,
            42,
            48,
            26,
            22,
            45,
            39,
            46,
            27,
            32,
            36,
            50,
            22,
            28,
            25,
            26,
            45,
            37,
            39,
            52,
            26,
            66,
            22,
            43,
            33,
            63,
            27,
            30,
            47,
            23
           ]
          },
          {
           "axis": {
            "matches": true
           },
           "label": "OC",
           "values": [
            1,
            0,
            1,
            0,
            1,
            0,
            1,
            0,
            1,
            1,
            0,
            1,
            0,
            1,
            1,
            1,
            1,
            1,
            0,
            1,
            0,
            0,
            1,
            1,
            1,
            1,
            1,
            0,
            0,
            0,
            0,
            1,
            0,
            0,
            0,
            0,
            0,
            1,
            1,
            1,
            0,
            0,
            0,
            1,
            0,
            1,
            0,
            0,
            1,
            0,
            0,
            0,
            0,
            1,
            0,
            0,
            1,
            0,
            0,
            0,
            0,
            1,
            0,
            0,
            1,
            0,
            1,
            0,
            0,
            0,
            1,
            0,
            1,
            0,
            0,
            0,
            0,
            0,
            1,
            0,
            0,
            0,
            0,
            0,
            1,
            0,
            0,
            0,
            1,
            0,
            0,
            0,
            0,
            1,
            0,
            0,
            0,
            0,
            0,
            1,
            1,
            0,
            0,
            0,
            0,
            0,
            0,
            0,
            0,
            1,
            1,
            1,
            0,
            0,
            1,
            1,
            1,
            0,
            0,
            0,
            1,
            0,
            0,
            0,
            1,
            1,
            0,
            0,
            1,
            1,
            1,
            1,
            1,
            0,
            0,
            0,
            0,
            0,
            0,
            0,
            0,
            0,
            0,
            1,
            0,
            0,
            0,
            0,
            0,
            0,
            0,
            0,
            1,
            0,
            1,
            1,
            0,
            0,
            0,
            1,
            0,
            0,
            0,
            0,
            1,
            1,
            0,
            0,
            0,
            0,
            1,
            1,
            0,
            0,
            0,
            1,
            0,
            1,
            0,
            1,
            0,
            0,
            0,
            0,
            0,
            1,
            1,
            1,
            1,
            1,
            0,
            0,
            1,
            1,
            0,
            1,
            0,
            1,
            1,
            1,
            0,
            0,
            0,
            0,
            0,
            0,
            1,
            1,
            0,
            1,
            0,
            0,
            0,
            1,
            1,
            1,
            1,
            0,
            1,
            1,
            1,
            1,
            0,
            0,
            0,
            0,
            0,
            1,
            0,
            0,
            1,
            1,
            0,
            0,
            0,
            1,
            1,
            1,
            1,
            0,
            0,
            0,
            1,
            1,
            0,
            1,
            0,
            0,
            0,
            0,
            0,
            0,
            0,
            0,
            1,
            1,
            0,
            0,
            0,
            1,
            0,
            1,
            0,
            0,
            1,
            0,
            1,
            0,
            0,
            1,
            1,
            0,
            0,
            0,
            0,
            0,
            1,
            0,
            0,
            0,
            1,
            0,
            0,
            1,
            1,
            0,
            0,
            1,
            0,
            0,
            0,
            1,
            1,
            1,
            0,
            0,
            1,
            0,
            1,
            0,
            1,
            1,
            0,
            1,
            0,
            0,
            1,
            0,
            1,
            1,
            0,
            0,
            1,
            0,
            1,
            0,
            0,
            1,
            0,
            1,
            0,
            1,
            1,
            1,
            0,
            0,
            1,
            0,
            1,
            0,
            0,
            0,
            1,
            0,
            0,
            0,
            0,
            1,
            1,
            1,
            0,
            0,
            0,
            0,
            0,
            0,
            0,
            0,
            0,
            1,
            0,
            0,
            0,
            0,
            0,
            1,
            1,
            1,
            0,
            1,
            1,
            0,
            0,
            1,
            0,
            0,
            1,
            0,
            0,
            1,
            1,
            0,
            0,
            0,
            0,
            1,
            0,
            0,
            1,
            0,
            0,
            0,
            0,
            0,
            0,
            0,
            1,
            1,
            1,
            0,
            0,
            1,
            0,
            0,
            1,
            0,
            0,
            1,
            0,
            1,
            1,
            0,
            1,
            0,
            1,
            0,
            1,
            0,
            1,
            1,
            0,
            0,
            0,
            0,
            1,
            1,
            0,
            1,
            0,
            1,
            0,
            0,
            0,
            0,
            1,
            1,
            0,
            1,
            0,
            1,
            0,
            0,
            0,
            0,
            0,
            1,
            0,
            0,
            0,
            0,
            1,
            0,
            0,
            1,
            1,
            1,
            0,
            0,
            1,
            0,
            0,
            1,
            0,
            0,
            0,
            1,
            0,
            0,
            1,
            0,
            0,
            0,
            0,
            0,
            0,
            0,
            0,
            0,
            1,
            0,
            0,
            0,
            0,
            0,
            0,
            0,
            1,
            0,
            0,
            0,
            1,
            0,
            0,
            0,
            1,
            1,
            0,
            0,
            0,
            0,
            0,
            0,
            0,
            1,
            0,
            0,
            0,
            0,
            1,
            0,
            0,
            0,
            1,
            0,
            0,
            0,
            1,
            0,
            0,
            0,
            1,
            0,
            0,
            0,
            0,
            1,
            1,
            0,
            0,
            0,
            0,
            0,
            0,
            1,
            0,
            0,
            0,
            0,
            0,
            0,
            0,
            0,
            0,
            0,
            0,
            1,
            0,
            0,
            0,
            1,
            1,
            1,
            1,
            0,
            0,
            1,
            1,
            0,
            0,
            0,
            0,
            0,
            0,
            0,
            0,
            0,
            0,
            0,
            0,
            0,
            1,
            1,
            0,
            0,
            0,
            0,
            0,
            0,
            0,
            1,
            0,
            0,
            0,
            0,
            0,
            0,
            0,
            1,
            0,
            1,
            1,
            0,
            0,
            0,
            1,
            0,
            1,
            0,
            1,
            0,
            1,
            0,
            1,
            0,
            0,
            1,
            0,
            0,
            1,
            0,
            0,
            0,
            0,
            1,
            1,
            0,
            1,
            0,
            0,
            0,
            0,
            1,
            1,
            0,
            1,
            0,
            0,
            0,
            1,
            1,
            0,
            0,
            0,
            0,
            0,
            0,
            0,
            0,
            0,
            0,
            1,
            0,
            0,
            0,
            0,
            1,
            0,
            0,
            1,
            0,
            0,
            0,
            1,
            0,
            0,
            0,
            1,
            1,
            1,
            0,
            0,
            0,
            0,
            0,
            0,
            1,
            0,
            0,
            0,
            1,
            0,
            1,
            1,
            1,
            1,
            0,
            1,
            1,
            0,
            0,
            0,
            0,
            0,
            0,
            0,
            1,
            1,
            0,
            1,
            0,
            0,
            1,
            0,
            1,
            0,
            0,
            0,
            0,
            0,
            1,
            0,
            1,
            0,
            1,
            0,
            1,
            1,
            0,
            0,
            0,
            0,
            1,
            1,
            0,
            0,
            0,
            1,
            0,
            1,
            1,
            0,
            0,
            1,
            0,
            0,
            1,
            1,
            0,
            0,
            1,
            0,
            0,
            1,
            0,
            0,
            0,
            0,
            0,
            0,
            0,
            1,
            1,
            1,
            0,
            0,
            0,
            0,
            0,
            0,
            1,
            1,
            0,
            0,
            1,
            0,
            0,
            1,
            0,
            1,
            1,
            1,
            0,
            0,
            1,
            1,
            1,
            0,
            1,
            0,
            1,
            0,
            1,
            0,
            0,
            0,
            0,
            1,
            0
           ]
          }
         ],
         "hovertemplate": "%{xaxis.title.text}=%{x}<br>%{yaxis.title.text}=%{y}<br>OC=%{marker.color}<extra></extra>",
         "legendgroup": "",
         "marker": {
          "color": [
           1,
           0,
           1,
           0,
           1,
           0,
           1,
           0,
           1,
           1,
           0,
           1,
           0,
           1,
           1,
           1,
           1,
           1,
           0,
           1,
           0,
           0,
           1,
           1,
           1,
           1,
           1,
           0,
           0,
           0,
           0,
           1,
           0,
           0,
           0,
           0,
           0,
           1,
           1,
           1,
           0,
           0,
           0,
           1,
           0,
           1,
           0,
           0,
           1,
           0,
           0,
           0,
           0,
           1,
           0,
           0,
           1,
           0,
           0,
           0,
           0,
           1,
           0,
           0,
           1,
           0,
           1,
           0,
           0,
           0,
           1,
           0,
           1,
           0,
           0,
           0,
           0,
           0,
           1,
           0,
           0,
           0,
           0,
           0,
           1,
           0,
           0,
           0,
           1,
           0,
           0,
           0,
           0,
           1,
           0,
           0,
           0,
           0,
           0,
           1,
           1,
           0,
           0,
           0,
           0,
           0,
           0,
           0,
           0,
           1,
           1,
           1,
           0,
           0,
           1,
           1,
           1,
           0,
           0,
           0,
           1,
           0,
           0,
           0,
           1,
           1,
           0,
           0,
           1,
           1,
           1,
           1,
           1,
           0,
           0,
           0,
           0,
           0,
           0,
           0,
           0,
           0,
           0,
           1,
           0,
           0,
           0,
           0,
           0,
           0,
           0,
           0,
           1,
           0,
           1,
           1,
           0,
           0,
           0,
           1,
           0,
           0,
           0,
           0,
           1,
           1,
           0,
           0,
           0,
           0,
           1,
           1,
           0,
           0,
           0,
           1,
           0,
           1,
           0,
           1,
           0,
           0,
           0,
           0,
           0,
           1,
           1,
           1,
           1,
           1,
           0,
           0,
           1,
           1,
           0,
           1,
           0,
           1,
           1,
           1,
           0,
           0,
           0,
           0,
           0,
           0,
           1,
           1,
           0,
           1,
           0,
           0,
           0,
           1,
           1,
           1,
           1,
           0,
           1,
           1,
           1,
           1,
           0,
           0,
           0,
           0,
           0,
           1,
           0,
           0,
           1,
           1,
           0,
           0,
           0,
           1,
           1,
           1,
           1,
           0,
           0,
           0,
           1,
           1,
           0,
           1,
           0,
           0,
           0,
           0,
           0,
           0,
           0,
           0,
           1,
           1,
           0,
           0,
           0,
           1,
           0,
           1,
           0,
           0,
           1,
           0,
           1,
           0,
           0,
           1,
           1,
           0,
           0,
           0,
           0,
           0,
           1,
           0,
           0,
           0,
           1,
           0,
           0,
           1,
           1,
           0,
           0,
           1,
           0,
           0,
           0,
           1,
           1,
           1,
           0,
           0,
           1,
           0,
           1,
           0,
           1,
           1,
           0,
           1,
           0,
           0,
           1,
           0,
           1,
           1,
           0,
           0,
           1,
           0,
           1,
           0,
           0,
           1,
           0,
           1,
           0,
           1,
           1,
           1,
           0,
           0,
           1,
           0,
           1,
           0,
           0,
           0,
           1,
           0,
           0,
           0,
           0,
           1,
           1,
           1,
           0,
           0,
           0,
           0,
           0,
           0,
           0,
           0,
           0,
           1,
           0,
           0,
           0,
           0,
           0,
           1,
           1,
           1,
           0,
           1,
           1,
           0,
           0,
           1,
           0,
           0,
           1,
           0,
           0,
           1,
           1,
           0,
           0,
           0,
           0,
           1,
           0,
           0,
           1,
           0,
           0,
           0,
           0,
           0,
           0,
           0,
           1,
           1,
           1,
           0,
           0,
           1,
           0,
           0,
           1,
           0,
           0,
           1,
           0,
           1,
           1,
           0,
           1,
           0,
           1,
           0,
           1,
           0,
           1,
           1,
           0,
           0,
           0,
           0,
           1,
           1,
           0,
           1,
           0,
           1,
           0,
           0,
           0,
           0,
           1,
           1,
           0,
           1,
           0,
           1,
           0,
           0,
           0,
           0,
           0,
           1,
           0,
           0,
           0,
           0,
           1,
           0,
           0,
           1,
           1,
           1,
           0,
           0,
           1,
           0,
           0,
           1,
           0,
           0,
           0,
           1,
           0,
           0,
           1,
           0,
           0,
           0,
           0,
           0,
           0,
           0,
           0,
           0,
           1,
           0,
           0,
           0,
           0,
           0,
           0,
           0,
           1,
           0,
           0,
           0,
           1,
           0,
           0,
           0,
           1,
           1,
           0,
           0,
           0,
           0,
           0,
           0,
           0,
           1,
           0,
           0,
           0,
           0,
           1,
           0,
           0,
           0,
           1,
           0,
           0,
           0,
           1,
           0,
           0,
           0,
           1,
           0,
           0,
           0,
           0,
           1,
           1,
           0,
           0,
           0,
           0,
           0,
           0,
           1,
           0,
           0,
           0,
           0,
           0,
           0,
           0,
           0,
           0,
           0,
           0,
           1,
           0,
           0,
           0,
           1,
           1,
           1,
           1,
           0,
           0,
           1,
           1,
           0,
           0,
           0,
           0,
           0,
           0,
           0,
           0,
           0,
           0,
           0,
           0,
           0,
           1,
           1,
           0,
           0,
           0,
           0,
           0,
           0,
           0,
           1,
           0,
           0,
           0,
           0,
           0,
           0,
           0,
           1,
           0,
           1,
           1,
           0,
           0,
           0,
           1,
           0,
           1,
           0,
           1,
           0,
           1,
           0,
           1,
           0,
           0,
           1,
           0,
           0,
           1,
           0,
           0,
           0,
           0,
           1,
           1,
           0,
           1,
           0,
           0,
           0,
           0,
           1,
           1,
           0,
           1,
           0,
           0,
           0,
           1,
           1,
           0,
           0,
           0,
           0,
           0,
           0,
           0,
           0,
           0,
           0,
           1,
           0,
           0,
           0,
           0,
           1,
           0,
           0,
           1,
           0,
           0,
           0,
           1,
           0,
           0,
           0,
           1,
           1,
           1,
           0,
           0,
           0,
           0,
           0,
           0,
           1,
           0,
           0,
           0,
           1,
           0,
           1,
           1,
           1,
           1,
           0,
           1,
           1,
           0,
           0,
           0,
           0,
           0,
           0,
           0,
           1,
           1,
           0,
           1,
           0,
           0,
           1,
           0,
           1,
           0,
           0,
           0,
           0,
           0,
           1,
           0,
           1,
           0,
           1,
           0,
           1,
           1,
           0,
           0,
           0,
           0,
           1,
           1,
           0,
           0,
           0,
           1,
           0,
           1,
           1,
           0,
           0,
           1,
           0,
           0,
           1,
           1,
           0,
           0,
           1,
           0,
           0,
           1,
           0,
           0,
           0,
           0,
           0,
           0,
           0,
           1,
           1,
           1,
           0,
           0,
           0,
           0,
           0,
           0,
           1,
           1,
           0,
           0,
           1,
           0,
           0,
           1,
           0,
           1,
           1,
           1,
           0,
           0,
           1,
           1,
           1,
           0,
           1,
           0,
           1,
           0,
           1,
           0,
           0,
           0,
           0,
           1,
           0
          ],
          "coloraxis": "coloraxis",
          "symbol": "circle"
         },
         "name": "",
         "showlegend": false,
         "type": "splom"
        }
       ],
       "layout": {
        "coloraxis": {
         "colorbar": {
          "title": {
           "text": "OC"
          }
         },
         "colorscale": [
          [
           0,
           "#0d0887"
          ],
          [
           0.1111111111111111,
           "#46039f"
          ],
          [
           0.2222222222222222,
           "#7201a8"
          ],
          [
           0.3333333333333333,
           "#9c179e"
          ],
          [
           0.4444444444444444,
           "#bd3786"
          ],
          [
           0.5555555555555556,
           "#d8576b"
          ],
          [
           0.6666666666666666,
           "#ed7953"
          ],
          [
           0.7777777777777778,
           "#fb9f3a"
          ],
          [
           0.8888888888888888,
           "#fdca26"
          ],
          [
           1,
           "#f0f921"
          ]
         ]
        },
        "dragmode": "select",
        "legend": {
         "tracegroupgap": 0
        },
        "template": {
         "data": {
          "bar": [
           {
            "error_x": {
             "color": "#2a3f5f"
            },
            "error_y": {
             "color": "#2a3f5f"
            },
            "marker": {
             "line": {
              "color": "#E5ECF6",
              "width": 0.5
             },
             "pattern": {
              "fillmode": "overlay",
              "size": 10,
              "solidity": 0.2
             }
            },
            "type": "bar"
           }
          ],
          "barpolar": [
           {
            "marker": {
             "line": {
              "color": "#E5ECF6",
              "width": 0.5
             },
             "pattern": {
              "fillmode": "overlay",
              "size": 10,
              "solidity": 0.2
             }
            },
            "type": "barpolar"
           }
          ],
          "carpet": [
           {
            "aaxis": {
             "endlinecolor": "#2a3f5f",
             "gridcolor": "white",
             "linecolor": "white",
             "minorgridcolor": "white",
             "startlinecolor": "#2a3f5f"
            },
            "baxis": {
             "endlinecolor": "#2a3f5f",
             "gridcolor": "white",
             "linecolor": "white",
             "minorgridcolor": "white",
             "startlinecolor": "#2a3f5f"
            },
            "type": "carpet"
           }
          ],
          "choropleth": [
           {
            "colorbar": {
             "outlinewidth": 0,
             "ticks": ""
            },
            "type": "choropleth"
           }
          ],
          "contour": [
           {
            "colorbar": {
             "outlinewidth": 0,
             "ticks": ""
            },
            "colorscale": [
             [
              0,
              "#0d0887"
             ],
             [
              0.1111111111111111,
              "#46039f"
             ],
             [
              0.2222222222222222,
              "#7201a8"
             ],
             [
              0.3333333333333333,
              "#9c179e"
             ],
             [
              0.4444444444444444,
              "#bd3786"
             ],
             [
              0.5555555555555556,
              "#d8576b"
             ],
             [
              0.6666666666666666,
              "#ed7953"
             ],
             [
              0.7777777777777778,
              "#fb9f3a"
             ],
             [
              0.8888888888888888,
              "#fdca26"
             ],
             [
              1,
              "#f0f921"
             ]
            ],
            "type": "contour"
           }
          ],
          "contourcarpet": [
           {
            "colorbar": {
             "outlinewidth": 0,
             "ticks": ""
            },
            "type": "contourcarpet"
           }
          ],
          "heatmap": [
           {
            "colorbar": {
             "outlinewidth": 0,
             "ticks": ""
            },
            "colorscale": [
             [
              0,
              "#0d0887"
             ],
             [
              0.1111111111111111,
              "#46039f"
             ],
             [
              0.2222222222222222,
              "#7201a8"
             ],
             [
              0.3333333333333333,
              "#9c179e"
             ],
             [
              0.4444444444444444,
              "#bd3786"
             ],
             [
              0.5555555555555556,
              "#d8576b"
             ],
             [
              0.6666666666666666,
              "#ed7953"
             ],
             [
              0.7777777777777778,
              "#fb9f3a"
             ],
             [
              0.8888888888888888,
              "#fdca26"
             ],
             [
              1,
              "#f0f921"
             ]
            ],
            "type": "heatmap"
           }
          ],
          "heatmapgl": [
           {
            "colorbar": {
             "outlinewidth": 0,
             "ticks": ""
            },
            "colorscale": [
             [
              0,
              "#0d0887"
             ],
             [
              0.1111111111111111,
              "#46039f"
             ],
             [
              0.2222222222222222,
              "#7201a8"
             ],
             [
              0.3333333333333333,
              "#9c179e"
             ],
             [
              0.4444444444444444,
              "#bd3786"
             ],
             [
              0.5555555555555556,
              "#d8576b"
             ],
             [
              0.6666666666666666,
              "#ed7953"
             ],
             [
              0.7777777777777778,
              "#fb9f3a"
             ],
             [
              0.8888888888888888,
              "#fdca26"
             ],
             [
              1,
              "#f0f921"
             ]
            ],
            "type": "heatmapgl"
           }
          ],
          "histogram": [
           {
            "marker": {
             "pattern": {
              "fillmode": "overlay",
              "size": 10,
              "solidity": 0.2
             }
            },
            "type": "histogram"
           }
          ],
          "histogram2d": [
           {
            "colorbar": {
             "outlinewidth": 0,
             "ticks": ""
            },
            "colorscale": [
             [
              0,
              "#0d0887"
             ],
             [
              0.1111111111111111,
              "#46039f"
             ],
             [
              0.2222222222222222,
              "#7201a8"
             ],
             [
              0.3333333333333333,
              "#9c179e"
             ],
             [
              0.4444444444444444,
              "#bd3786"
             ],
             [
              0.5555555555555556,
              "#d8576b"
             ],
             [
              0.6666666666666666,
              "#ed7953"
             ],
             [
              0.7777777777777778,
              "#fb9f3a"
             ],
             [
              0.8888888888888888,
              "#fdca26"
             ],
             [
              1,
              "#f0f921"
             ]
            ],
            "type": "histogram2d"
           }
          ],
          "histogram2dcontour": [
           {
            "colorbar": {
             "outlinewidth": 0,
             "ticks": ""
            },
            "colorscale": [
             [
              0,
              "#0d0887"
             ],
             [
              0.1111111111111111,
              "#46039f"
             ],
             [
              0.2222222222222222,
              "#7201a8"
             ],
             [
              0.3333333333333333,
              "#9c179e"
             ],
             [
              0.4444444444444444,
              "#bd3786"
             ],
             [
              0.5555555555555556,
              "#d8576b"
             ],
             [
              0.6666666666666666,
              "#ed7953"
             ],
             [
              0.7777777777777778,
              "#fb9f3a"
             ],
             [
              0.8888888888888888,
              "#fdca26"
             ],
             [
              1,
              "#f0f921"
             ]
            ],
            "type": "histogram2dcontour"
           }
          ],
          "mesh3d": [
           {
            "colorbar": {
             "outlinewidth": 0,
             "ticks": ""
            },
            "type": "mesh3d"
           }
          ],
          "parcoords": [
           {
            "line": {
             "colorbar": {
              "outlinewidth": 0,
              "ticks": ""
             }
            },
            "type": "parcoords"
           }
          ],
          "pie": [
           {
            "automargin": true,
            "type": "pie"
           }
          ],
          "scatter": [
           {
            "fillpattern": {
             "fillmode": "overlay",
             "size": 10,
             "solidity": 0.2
            },
            "type": "scatter"
           }
          ],
          "scatter3d": [
           {
            "line": {
             "colorbar": {
              "outlinewidth": 0,
              "ticks": ""
             }
            },
            "marker": {
             "colorbar": {
              "outlinewidth": 0,
              "ticks": ""
             }
            },
            "type": "scatter3d"
           }
          ],
          "scattercarpet": [
           {
            "marker": {
             "colorbar": {
              "outlinewidth": 0,
              "ticks": ""
             }
            },
            "type": "scattercarpet"
           }
          ],
          "scattergeo": [
           {
            "marker": {
             "colorbar": {
              "outlinewidth": 0,
              "ticks": ""
             }
            },
            "type": "scattergeo"
           }
          ],
          "scattergl": [
           {
            "marker": {
             "colorbar": {
              "outlinewidth": 0,
              "ticks": ""
             }
            },
            "type": "scattergl"
           }
          ],
          "scattermapbox": [
           {
            "marker": {
             "colorbar": {
              "outlinewidth": 0,
              "ticks": ""
             }
            },
            "type": "scattermapbox"
           }
          ],
          "scatterpolar": [
           {
            "marker": {
             "colorbar": {
              "outlinewidth": 0,
              "ticks": ""
             }
            },
            "type": "scatterpolar"
           }
          ],
          "scatterpolargl": [
           {
            "marker": {
             "colorbar": {
              "outlinewidth": 0,
              "ticks": ""
             }
            },
            "type": "scatterpolargl"
           }
          ],
          "scatterternary": [
           {
            "marker": {
             "colorbar": {
              "outlinewidth": 0,
              "ticks": ""
             }
            },
            "type": "scatterternary"
           }
          ],
          "surface": [
           {
            "colorbar": {
             "outlinewidth": 0,
             "ticks": ""
            },
            "colorscale": [
             [
              0,
              "#0d0887"
             ],
             [
              0.1111111111111111,
              "#46039f"
             ],
             [
              0.2222222222222222,
              "#7201a8"
             ],
             [
              0.3333333333333333,
              "#9c179e"
             ],
             [
              0.4444444444444444,
              "#bd3786"
             ],
             [
              0.5555555555555556,
              "#d8576b"
             ],
             [
              0.6666666666666666,
              "#ed7953"
             ],
             [
              0.7777777777777778,
              "#fb9f3a"
             ],
             [
              0.8888888888888888,
              "#fdca26"
             ],
             [
              1,
              "#f0f921"
             ]
            ],
            "type": "surface"
           }
          ],
          "table": [
           {
            "cells": {
             "fill": {
              "color": "#EBF0F8"
             },
             "line": {
              "color": "white"
             }
            },
            "header": {
             "fill": {
              "color": "#C8D4E3"
             },
             "line": {
              "color": "white"
             }
            },
            "type": "table"
           }
          ]
         },
         "layout": {
          "annotationdefaults": {
           "arrowcolor": "#2a3f5f",
           "arrowhead": 0,
           "arrowwidth": 1
          },
          "autotypenumbers": "strict",
          "coloraxis": {
           "colorbar": {
            "outlinewidth": 0,
            "ticks": ""
           }
          },
          "colorscale": {
           "diverging": [
            [
             0,
             "#8e0152"
            ],
            [
             0.1,
             "#c51b7d"
            ],
            [
             0.2,
             "#de77ae"
            ],
            [
             0.3,
             "#f1b6da"
            ],
            [
             0.4,
             "#fde0ef"
            ],
            [
             0.5,
             "#f7f7f7"
            ],
            [
             0.6,
             "#e6f5d0"
            ],
            [
             0.7,
             "#b8e186"
            ],
            [
             0.8,
             "#7fbc41"
            ],
            [
             0.9,
             "#4d9221"
            ],
            [
             1,
             "#276419"
            ]
           ],
           "sequential": [
            [
             0,
             "#0d0887"
            ],
            [
             0.1111111111111111,
             "#46039f"
            ],
            [
             0.2222222222222222,
             "#7201a8"
            ],
            [
             0.3333333333333333,
             "#9c179e"
            ],
            [
             0.4444444444444444,
             "#bd3786"
            ],
            [
             0.5555555555555556,
             "#d8576b"
            ],
            [
             0.6666666666666666,
             "#ed7953"
            ],
            [
             0.7777777777777778,
             "#fb9f3a"
            ],
            [
             0.8888888888888888,
             "#fdca26"
            ],
            [
             1,
             "#f0f921"
            ]
           ],
           "sequentialminus": [
            [
             0,
             "#0d0887"
            ],
            [
             0.1111111111111111,
             "#46039f"
            ],
            [
             0.2222222222222222,
             "#7201a8"
            ],
            [
             0.3333333333333333,
             "#9c179e"
            ],
            [
             0.4444444444444444,
             "#bd3786"
            ],
            [
             0.5555555555555556,
             "#d8576b"
            ],
            [
             0.6666666666666666,
             "#ed7953"
            ],
            [
             0.7777777777777778,
             "#fb9f3a"
            ],
            [
             0.8888888888888888,
             "#fdca26"
            ],
            [
             1,
             "#f0f921"
            ]
           ]
          },
          "colorway": [
           "#636efa",
           "#EF553B",
           "#00cc96",
           "#ab63fa",
           "#FFA15A",
           "#19d3f3",
           "#FF6692",
           "#B6E880",
           "#FF97FF",
           "#FECB52"
          ],
          "font": {
           "color": "#2a3f5f"
          },
          "geo": {
           "bgcolor": "white",
           "lakecolor": "white",
           "landcolor": "#E5ECF6",
           "showlakes": true,
           "showland": true,
           "subunitcolor": "white"
          },
          "hoverlabel": {
           "align": "left"
          },
          "hovermode": "closest",
          "mapbox": {
           "style": "light"
          },
          "paper_bgcolor": "white",
          "plot_bgcolor": "#E5ECF6",
          "polar": {
           "angularaxis": {
            "gridcolor": "white",
            "linecolor": "white",
            "ticks": ""
           },
           "bgcolor": "#E5ECF6",
           "radialaxis": {
            "gridcolor": "white",
            "linecolor": "white",
            "ticks": ""
           }
          },
          "scene": {
           "xaxis": {
            "backgroundcolor": "#E5ECF6",
            "gridcolor": "white",
            "gridwidth": 2,
            "linecolor": "white",
            "showbackground": true,
            "ticks": "",
            "zerolinecolor": "white"
           },
           "yaxis": {
            "backgroundcolor": "#E5ECF6",
            "gridcolor": "white",
            "gridwidth": 2,
            "linecolor": "white",
            "showbackground": true,
            "ticks": "",
            "zerolinecolor": "white"
           },
           "zaxis": {
            "backgroundcolor": "#E5ECF6",
            "gridcolor": "white",
            "gridwidth": 2,
            "linecolor": "white",
            "showbackground": true,
            "ticks": "",
            "zerolinecolor": "white"
           }
          },
          "shapedefaults": {
           "line": {
            "color": "#2a3f5f"
           }
          },
          "ternary": {
           "aaxis": {
            "gridcolor": "white",
            "linecolor": "white",
            "ticks": ""
           },
           "baxis": {
            "gridcolor": "white",
            "linecolor": "white",
            "ticks": ""
           },
           "bgcolor": "#E5ECF6",
           "caxis": {
            "gridcolor": "white",
            "linecolor": "white",
            "ticks": ""
           }
          },
          "title": {
           "x": 0.05
          },
          "xaxis": {
           "automargin": true,
           "gridcolor": "white",
           "linecolor": "white",
           "ticks": "",
           "title": {
            "standoff": 15
           },
           "zerolinecolor": "white",
           "zerolinewidth": 2
          },
          "yaxis": {
           "automargin": true,
           "gridcolor": "white",
           "linecolor": "white",
           "ticks": "",
           "title": {
            "standoff": 15
           },
           "zerolinecolor": "white",
           "zerolinewidth": 2
          }
         }
        },
        "title": {
         "text": "Diabetes Pair Plot"
        }
       }
      }
     },
     "metadata": {},
     "output_type": "display_data"
    }
   ],
   "source": [
    "# pair plot\n",
    "fig = px.scatter_matrix(imputation_df,color='Outcome', title='Diabetes Pair Plot', dimensions=['Pregnancies','Glucose','Insulin','Age','Outcome'],\n",
    "labels={'Pregnancies' : 'Pg', 'Glucose':'Gc', 'BloodPressure':'BP', 'SkinThickness':'ST', 'Insulin':'Is',\n",
    "       'Outcome':'OC'})\n",
    "fig.show()"
   ]
  },
  {
   "cell_type": "code",
   "execution_count": 172,
   "metadata": {},
   "outputs": [
    {
     "data": {
      "application/vnd.plotly.v1+json": {
       "config": {
        "plotlyServerURL": "https://plot.ly"
       },
       "data": [
        {
         "dimensions": [
          {
           "axis": {
            "matches": true
           },
           "label": "BMI",
           "values": [
            33.6,
            26.6,
            23.3,
            28.1,
            43.1,
            25.6,
            31,
            35.3,
            30.5,
            37.96,
            37.6,
            38,
            27.1,
            30.1,
            25.8,
            30,
            45.8,
            29.6,
            43.3,
            34.6,
            39.3,
            35.4,
            39.8,
            29,
            36.6,
            31.1,
            39.4,
            23.2,
            22.2,
            34.1,
            36,
            31.6,
            24.8,
            19.9,
            27.6,
            24,
            33.2,
            32.9,
            38.2,
            37.1,
            34,
            40.2,
            22.7,
            45.4,
            27.4,
            42,
            29.7,
            28,
            39.1,
            31.800000000000004,
            19.4,
            24.2,
            24.4,
            33.7,
            34.7,
            23,
            37.7,
            46.8,
            40.5,
            41.5,
            29.4,
            32.9,
            25,
            25.4,
            32.8,
            29,
            32.5,
            42.7,
            19.6,
            28.9,
            32.9,
            28.6,
            43.4,
            35.1,
            32,
            24.7,
            32.6,
            37.7,
            43.2,
            25,
            22.4,
            27.420000000000005,
            29.3,
            24.6,
            48.8,
            32.4,
            36.6,
            38.5,
            37.1,
            26.5,
            19.1,
            32,
            46.7,
            23.8,
            24.7,
            33.9,
            31.6,
            20.4,
            28.7,
            49.7,
            39,
            26.1,
            22.5,
            26.6,
            39.6,
            28.7,
            22.4,
            29.5,
            34.3,
            37.4,
            33.3,
            34,
            31.2,
            34,
            30.5,
            31.2,
            34,
            33.7,
            28.2,
            23.2,
            53.2,
            34.2,
            33.6,
            26.8,
            33.3,
            55,
            42.9,
            33.3,
            34.5,
            27.9,
            29.7,
            33.3,
            34.5,
            38.3,
            21.1,
            33.8,
            30.8,
            28.7,
            31.2,
            36.9,
            21.1,
            39.5,
            32.5,
            32.4,
            32.8,
            28.28,
            32.8,
            30.5,
            33.7,
            27.3,
            37.4,
            21.9,
            34.3,
            40.6,
            47.9,
            50,
            24.6,
            25.2,
            29,
            40.9,
            29.7,
            37.2,
            44.2,
            29.7,
            31.6,
            29.9,
            32.5,
            29.6,
            31.9,
            28.4,
            30.8,
            35.4,
            28.9,
            43.5,
            29.7,
            32.7,
            31.2,
            67.1,
            45,
            39.1,
            23.2,
            34.9,
            27.7,
            26.8,
            27.6,
            35.9,
            30.1,
            32,
            27.9,
            31.6,
            22.6,
            33.1,
            30.4,
            52.3,
            24.4,
            39.4,
            24.3,
            22.9,
            34.8,
            30.9,
            31,
            40.1,
            27.3,
            20.4,
            37.7,
            23.9,
            37.5,
            37.7,
            33.2,
            35.5,
            27.7,
            42.8,
            34.2,
            42.6,
            34.2,
            41.8,
            35.8,
            30,
            29,
            37.8,
            34.6,
            31.6,
            25.2,
            28.8,
            23.6,
            34.6,
            35.7,
            37.2,
            36.7,
            45.2,
            44,
            46.2,
            25.4,
            35,
            29.7,
            43.6,
            35.9,
            44.1,
            30.8,
            18.4,
            29.2,
            33.1,
            25.6,
            27.1,
            38.2,
            30,
            31.2,
            52.3,
            35.4,
            30.1,
            31.2,
            28,
            24.4,
            35.8,
            27.6,
            33.6,
            30.1,
            28.7,
            25.9,
            33.3,
            30.9,
            30,
            32.1,
            32.4,
            32,
            33.6,
            36.3,
            40,
            25.1,
            27.5,
            45.6,
            25.2,
            23,
            33.2,
            34.2,
            40.5,
            26.5,
            27.8,
            24.9,
            25.3,
            37.9,
            35.9,
            32.4,
            30.4,
            27,
            26,
            38.7,
            45.6,
            20.8,
            36.1,
            36.9,
            36.6,
            43.3,
            40.5,
            21.9,
            35.5,
            28,
            30.7,
            36.6,
            23.6,
            32.3,
            31.6,
            35.8,
            52.9,
            21,
            39.7,
            25.5,
            24.8,
            30.5,
            32.9,
            26.2,
            39.4,
            26.6,
            29.5,
            35.9,
            34.1,
            19.3,
            30.5,
            38.1,
            23.5,
            27.5,
            31.6,
            27.4,
            26.8,
            35.7,
            25.6,
            35.1,
            35.1,
            45.5,
            30.8,
            23.1,
            32.7,
            43.3,
            23.6,
            23.9,
            47.9,
            33.8,
            31.2,
            34.2,
            39.9,
            25.9,
            25.9,
            32,
            34.7,
            36.8,
            38.5,
            28.7,
            23.5,
            21.8,
            41,
            42.2,
            31.2,
            34.4,
            27.2,
            42.7,
            30.4,
            33.3,
            39.9,
            35.3,
            36.5,
            31.2,
            29.8,
            39.2,
            38.5,
            34.9,
            34,
            27.6,
            21,
            27.5,
            32.8,
            38.4,
            31.379999999999995,
            35.8,
            34.9,
            36.2,
            39.2,
            25.2,
            37.2,
            48.3,
            43.4,
            30.8,
            20,
            25.4,
            25.1,
            24.3,
            22.3,
            32.3,
            43.3,
            32,
            31.6,
            32,
            45.7,
            23.7,
            22.1,
            32.9,
            27.7,
            24.7,
            34.3,
            21.1,
            34.9,
            32,
            24.2,
            35,
            31.6,
            32.9,
            42.1,
            28.9,
            21.9,
            25.9,
            42.4,
            35.7,
            34.4,
            42.4,
            26.2,
            34.6,
            35.7,
            27.2,
            38.5,
            18.2,
            26.4,
            45.3,
            26,
            40.6,
            30.8,
            42.9,
            37,
            29.660000000000004,
            34.1,
            40.6,
            35,
            22.2,
            30.4,
            30,
            25.6,
            24.5,
            42.4,
            37.4,
            29.9,
            18.2,
            36.8,
            34.3,
            32.2,
            33.2,
            30.5,
            29.7,
            59.4,
            25.3,
            36.5,
            33.6,
            30.5,
            21.2,
            28.9,
            39.9,
            19.6,
            37.8,
            33.6,
            26.7,
            30.2,
            37.6,
            25.9,
            20.8,
            21.8,
            35.3,
            27.6,
            24,
            21.8,
            27.8,
            36.8,
            30,
            46.1,
            41.3,
            33.2,
            38.8,
            29.9,
            28.9,
            27.3,
            33.7,
            23.8,
            25.9,
            28,
            35.5,
            35.2,
            27.8,
            38.2,
            44.2,
            42.3,
            40.7,
            46.5,
            25.6,
            26.1,
            36.8,
            33.5,
            32.8,
            28.9,
            26.660000000000004,
            26.6,
            26,
            30.1,
            25.1,
            29.3,
            25.2,
            37.2,
            39,
            33.3,
            37.3,
            33.3,
            36.5,
            28.6,
            30.4,
            25,
            29.7,
            22.1,
            24.2,
            27.3,
            25.6,
            31.6,
            30.3,
            37.6,
            32.8,
            19.6,
            25,
            33.2,
            33.879999999999995,
            34.2,
            31.6,
            21.8,
            18.2,
            26.3,
            30.8,
            24.6,
            29.8,
            45.3,
            41.3,
            29.8,
            33.3,
            32.9,
            29.6,
            21.7,
            36.3,
            36.4,
            39.4,
            32.4,
            34.9,
            39.5,
            32,
            34.5,
            43.6,
            33.1,
            32.8,
            28.5,
            27.4,
            31.9,
            27.8,
            29.9,
            36.9,
            25.5,
            38.1,
            27.8,
            46.2,
            30.1,
            33.8,
            41.3,
            37.6,
            26.9,
            32.4,
            26.1,
            38.6,
            32,
            31.3,
            34.3,
            32.5,
            22.6,
            29.5,
            34.7,
            30.1,
            35.5,
            24,
            42.9,
            27,
            34.7,
            42.1,
            25,
            26.5,
            38.7,
            28.7,
            22.5,
            34.9,
            24.3,
            33.3,
            21.1,
            46.8,
            39.4,
            34.4,
            28.5,
            33.6,
            32,
            45.3,
            27.8,
            36.8,
            23.1,
            27.1,
            23.7,
            27.8,
            35.2,
            28.4,
            35.8,
            40,
            19.5,
            41.5,
            24,
            30.9,
            32.9,
            38.2,
            32.5,
            36.1,
            25.8,
            28.7,
            20.1,
            28.2,
            32.4,
            38.4,
            24.2,
            40.8,
            43.5,
            30.8,
            37.7,
            24.7,
            32.4,
            34.6,
            24.7,
            27.4,
            34.5,
            26.2,
            27.5,
            25.9,
            31.2,
            28.8,
            31.6,
            40.9,
            19.5,
            29.3,
            34.3,
            29.5,
            28,
            27.6,
            39.4,
            23.4,
            37.8,
            28.3,
            26.4,
            25.2,
            33.8,
            34.1,
            26.8,
            34.2,
            38.7,
            21.8,
            38.9,
            39,
            34.2,
            27.7,
            42.9,
            37.6,
            37.9,
            33.7,
            34.8,
            32.5,
            27.5,
            34,
            30.9,
            33.6,
            25.4,
            35.5,
            57.3,
            35.6,
            30.9,
            24.8,
            35.3,
            36,
            24.2,
            24.2,
            49.6,
            44.6,
            32.3,
            31.639999999999997,
            33.2,
            23.1,
            28.3,
            24.1,
            46.1,
            24.6,
            42.3,
            39.1,
            38.5,
            23.5,
            30.4,
            29.9,
            25,
            34.5,
            44.5,
            35.9,
            27.6,
            35,
            38.5,
            28.4,
            39.8,
            28.880000000000003,
            34.4,
            32.8,
            38,
            31.2,
            29.6,
            41.2,
            26.4,
            29.5,
            33.9,
            33.8,
            23.1,
            35.5,
            35.6,
            29.3,
            38.1,
            29.3,
            39.1,
            32.8,
            39.4,
            36.1,
            32.4,
            22.9,
            30.1,
            28.4,
            28.4,
            44.5,
            29,
            23.3,
            35.4,
            27.4,
            32,
            36.6,
            39.5,
            42.3,
            30.8,
            28.5,
            32.7,
            40.6,
            30,
            49.3,
            46.3,
            36.4,
            24.3,
            31.2,
            39,
            26,
            43.3,
            32.4,
            36.5,
            32,
            36.3,
            37.5,
            35.5,
            28.4,
            44,
            22.5,
            32.9,
            36.8,
            26.2,
            30.1,
            30.4
           ]
          },
          {
           "axis": {
            "matches": true
           },
           "label": "Gc",
           "values": [
            148,
            85,
            183,
            89,
            137,
            116,
            78,
            115,
            197,
            125,
            110,
            168,
            139,
            189,
            166,
            100,
            118,
            107,
            103,
            115,
            126,
            99,
            196,
            119,
            143,
            125,
            147,
            97,
            145,
            117,
            109,
            158,
            88,
            92,
            122,
            103,
            138,
            102,
            90,
            111,
            180,
            133,
            106,
            171,
            159,
            180,
            146,
            71,
            103,
            105,
            103,
            101,
            88,
            176,
            150,
            73,
            187,
            100,
            146,
            105,
            84,
            133,
            44,
            141,
            114,
            99,
            109,
            109,
            95,
            146,
            100,
            139,
            126,
            129,
            79,
            90.6,
            62,
            95,
            131,
            112,
            113,
            74,
            83,
            101,
            137,
            110,
            106,
            100,
            136,
            107,
            80,
            123,
            81,
            134,
            142,
            144,
            92,
            71,
            93,
            122,
            163,
            151,
            125,
            81,
            85,
            126,
            96,
            144,
            83,
            95,
            171,
            155,
            89,
            76,
            160,
            146,
            124,
            78,
            97,
            99,
            162,
            111,
            107,
            132,
            113,
            88,
            120,
            118,
            117,
            105,
            173,
            122,
            170,
            84,
            96,
            125,
            100,
            93,
            129,
            105,
            128,
            106,
            108,
            108,
            154,
            102,
            57,
            106,
            147,
            90,
            136,
            114,
            156,
            153,
            188,
            152,
            99,
            109,
            88,
            163,
            151,
            102,
            114,
            100,
            131,
            104,
            148,
            120,
            110,
            111,
            102,
            134,
            87,
            79,
            75,
            179,
            85,
            129,
            143,
            130,
            87,
            119,
            87.8,
            73,
            141,
            194,
            181,
            128,
            109,
            139,
            111,
            123,
            159,
            135,
            85,
            158,
            105,
            107,
            109,
            148,
            113,
            138,
            108,
            99,
            103,
            111,
            196,
            162,
            96,
            184,
            81,
            147,
            179,
            140,
            112,
            151,
            109,
            125,
            85,
            112,
            177,
            158,
            119,
            142,
            100,
            87,
            101,
            162,
            197,
            117,
            142,
            134,
            79,
            122,
            74,
            171,
            181,
            179,
            164,
            104,
            91,
            91,
            139,
            119,
            146,
            184,
            122,
            165,
            124,
            111,
            106,
            129,
            90,
            86,
            92,
            113,
            111,
            114,
            193,
            155,
            191,
            141,
            95,
            142,
            123,
            96,
            138,
            128,
            102,
            146,
            101,
            108,
            122,
            71,
            106,
            100,
            106,
            104,
            114,
            108,
            146,
            129,
            133,
            161,
            108,
            136,
            155,
            119,
            96,
            108,
            78,
            107,
            128,
            128,
            161,
            151,
            146,
            126,
            100,
            112,
            167,
            144,
            77,
            115,
            150,
            120,
            161,
            137,
            128,
            124,
            80,
            106,
            155,
            113,
            109,
            112,
            99,
            182,
            115,
            194,
            129,
            112,
            124,
            152,
            112,
            157,
            122,
            179,
            102,
            105,
            118,
            87,
            180,
            106,
            95,
            165,
            117,
            115,
            152,
            178,
            130,
            95,
            98.8,
            122,
            95,
            126,
            139,
            116,
            99,
            138.2,
            92,
            137,
            61,
            90,
            90,
            165,
            125,
            129,
            88,
            196,
            189,
            158,
            103,
            146,
            147,
            99,
            124,
            101,
            81,
            133,
            173,
            118,
            84,
            105,
            122,
            140,
            98,
            87,
            156,
            93,
            107,
            105,
            109,
            90,
            125,
            119,
            116,
            105,
            144,
            100,
            100,
            166,
            131,
            116,
            158,
            127,
            96,
            131,
            82,
            193,
            95,
            137,
            136,
            72,
            168,
            123,
            115,
            101,
            197,
            172,
            102,
            112,
            143,
            143,
            138,
            173,
            97,
            144,
            83,
            129,
            119,
            94,
            102,
            115,
            151,
            184,
            94,
            181,
            135,
            95,
            99,
            89,
            80,
            139,
            90,
            141,
            140,
            147,
            97,
            107,
            189,
            83,
            117,
            108,
            117,
            180,
            100,
            95,
            104,
            120,
            82,
            134,
            91,
            119,
            100,
            175,
            135,
            86,
            148,
            134,
            120,
            71,
            74,
            88,
            115,
            124,
            74,
            97,
            120,
            154,
            144,
            137,
            119,
            136,
            114,
            137,
            105,
            114,
            126,
            132,
            158,
            123,
            85,
            84,
            145,
            135,
            139,
            173,
            99,
            194,
            83,
            89,
            99,
            125,
            80,
            166,
            110,
            81,
            195,
            154,
            117,
            84,
            135.6,
            94,
            96,
            75,
            180,
            130,
            84,
            120,
            84,
            139,
            91,
            91,
            99,
            163,
            145,
            125,
            76,
            129,
            68,
            124,
            114,
            130,
            125,
            87,
            97,
            116,
            117,
            111,
            122,
            107,
            86,
            91,
            77,
            132,
            105,
            57,
            127,
            129,
            100,
            128,
            90,
            84,
            88,
            186,
            187,
            131,
            164,
            189,
            116,
            84,
            114,
            88,
            84,
            124,
            97,
            110,
            103,
            85,
            125,
            198,
            87,
            99,
            91,
            95,
            99,
            92,
            154,
            121,
            78,
            130,
            111,
            98,
            143,
            119,
            108,
            118,
            133,
            197,
            151,
            109,
            121,
            100,
            124,
            93,
            143,
            103,
            176,
            73,
            111,
            112,
            132,
            82,
            123,
            188,
            67,
            89,
            173,
            109,
            108,
            96,
            124,
            150,
            183,
            124,
            181,
            92,
            152,
            111,
            106,
            174,
            168,
            105,
            138,
            106,
            117,
            68,
            112,
            119,
            112,
            92,
            183,
            94,
            108,
            90,
            125,
            132,
            128,
            94,
            114,
            102,
            111,
            128,
            92,
            104,
            104,
            94,
            97,
            100,
            102,
            128,
            147,
            90,
            103,
            157,
            167,
            179,
            136,
            107,
            91,
            117,
            123,
            120,
            106,
            155,
            101,
            120,
            127,
            80,
            162,
            199,
            167,
            145,
            115,
            112,
            145,
            111,
            98,
            154,
            165,
            99,
            68,
            123,
            91,
            195,
            156,
            93,
            121,
            101,
            56,
            162,
            95,
            125,
            136,
            129,
            130,
            107,
            140,
            144,
            107,
            158,
            121,
            129,
            90,
            142,
            169,
            99,
            127,
            118,
            122,
            125,
            168,
            129,
            110,
            80,
            115,
            127,
            164,
            93,
            158,
            126,
            129,
            134,
            102,
            187,
            173,
            94,
            108,
            97,
            83,
            114,
            149,
            117,
            111,
            112,
            116,
            141,
            175,
            92,
            130,
            120,
            174,
            106,
            105,
            95,
            126,
            65,
            99,
            102,
            120,
            102,
            109,
            140,
            153,
            100,
            147,
            81,
            187,
            162,
            136,
            121,
            108,
            181,
            154,
            128,
            137,
            123,
            106,
            190,
            88,
            170,
            89,
            101,
            122,
            121,
            126,
            93
           ]
          },
          {
           "axis": {
            "matches": true
           },
           "label": "Is",
           "values": [
            0,
            58.6,
            0,
            94,
            168,
            85.4,
            88,
            87,
            543,
            0,
            82.6,
            0,
            139,
            846,
            175,
            0,
            230,
            0,
            83,
            96,
            235,
            93.8,
            0,
            0,
            146,
            115,
            0,
            140,
            110,
            50,
            38,
            245,
            54,
            53.8,
            124.4,
            192,
            113.6,
            0,
            0,
            207,
            70,
            70.6,
            21,
            240,
            160.4,
            0,
            116.2,
            45.2,
            0,
            150.8,
            82,
            36,
            23,
            300,
            342,
            67.4,
            304,
            110,
            62,
            142,
            68,
            0,
            26.8,
            128,
            0,
            61.2,
            0,
            50,
            38,
            100,
            90,
            140,
            0,
            270,
            58,
            132.8,
            31.4,
            113.4,
            0,
            100.8,
            51,
            45,
            71,
            92.2,
            0,
            125,
            0,
            71,
            110,
            85,
            75.2,
            176,
            48,
            0,
            64,
            228,
            79.8,
            76,
            64,
            220,
            0,
            224.8,
            81.2,
            40,
            64.6,
            152,
            14.4,
            140,
            18,
            36,
            135,
            495,
            37,
            47,
            175,
            0,
            0,
            74.2,
            117.6,
            51,
            100,
            113.6,
            100,
            134.2,
            0,
            99,
            135,
            94,
            145,
            0,
            168,
            0,
            225,
            23.8,
            49,
            140,
            50,
            92,
            125.8,
            325,
            212.2,
            35,
            63,
            0,
            284,
            65.2,
            31.4,
            119,
            147.2,
            62.4,
            204,
            17.4,
            155,
            485,
            0,
            0,
            94,
            135,
            53,
            114,
            177,
            105,
            285,
            84.8,
            0,
            156,
            120.4,
            125.4,
            88.2,
            78,
            0,
            130,
            51.2,
            48,
            55,
            130,
            42,
            130,
            136,
            0,
            57.4,
            92,
            23,
            41.4,
            98,
            0,
            495,
            58,
            114,
            160,
            149.2,
            94,
            0,
            0,
            107,
            210,
            145.6,
            48,
            99,
            318,
            45.6,
            62,
            55,
            44,
            190,
            55.4,
            280,
            0,
            87,
            0,
            54.8,
            0,
            129.6,
            130,
            175,
            271,
            129,
            120,
            0,
            0,
            478,
            0,
            95.6,
            190,
            56,
            32,
            98.2,
            0,
            744,
            53,
            0,
            370,
            37,
            144.6,
            45,
            0,
            192,
            0,
            0,
            61.2,
            66.6,
            88,
            0,
            176,
            194,
            0,
            109.2,
            680,
            402,
            70.8,
            64,
            103.6,
            55,
            109.4,
            258,
            0,
            87.2,
            65.2,
            375,
            150,
            130,
            0,
            78,
            57,
            0,
            67,
            0,
            146,
            129.2,
            0,
            0,
            56,
            79.8,
            45,
            100.4,
            57,
            0,
            116,
            131.2,
            278,
            0,
            122,
            155,
            0,
            0,
            135,
            545,
            220,
            49,
            75,
            40,
            74,
            182,
            194,
            198.4,
            120,
            360,
            215,
            184,
            52.6,
            0,
            135,
            42,
            0,
            108.4,
            105,
            132,
            148,
            180,
            205,
            60.2,
            148,
            96,
            85,
            0,
            94,
            64,
            0,
            140,
            0,
            231,
            0,
            0,
            29,
            91.2,
            168,
            156,
            86.8,
            120,
            68,
            155.6,
            52,
            0,
            52.2,
            58,
            255,
            69,
            0,
            171,
            0,
            105,
            73,
            0,
            135.2,
            105.8,
            108,
            83,
            99.4,
            74,
            0,
            54.6,
            49.6,
            32.4,
            43,
            80,
            0,
            167,
            0,
            54,
            249,
            325,
            123.8,
            21,
            0,
            293,
            83,
            0,
            123.4,
            66,
            140,
            465,
            89,
            66,
            94,
            158,
            325,
            84,
            75,
            0,
            72,
            82,
            74.4,
            182,
            59,
            110,
            50,
            0,
            0,
            285,
            81,
            196,
            0,
            415,
            87,
            0,
            275,
            115,
            0,
            51.4,
            0,
            0,
            65,
            88,
            39.2,
            0,
            165,
            0,
            125,
            0,
            579,
            94.2,
            176,
            310,
            61,
            167,
            474,
            81,
            0,
            51.6,
            115,
            170,
            76,
            78,
            79,
            210,
            277,
            54.6,
            180,
            145,
            180,
            128,
            85,
            60,
            112.6,
            48.4,
            0,
            26,
            169.4,
            70.6,
            120.8,
            0,
            50,
            120,
            0,
            0,
            14,
            70,
            92,
            64,
            63,
            95,
            0,
            210,
            77.2,
            105,
            0,
            89.4,
            71,
            237,
            60,
            56,
            55.2,
            49,
            44,
            41.4,
            105,
            36,
            100,
            0,
            140,
            93.2,
            0,
            98.4,
            184.2,
            106.8,
            117,
            191,
            110,
            75,
            90,
            328,
            95,
            49,
            125,
            0,
            250,
            480,
            265,
            43.8,
            85,
            66,
            71.2,
            37.4,
            122,
            46.8,
            181,
            23.8,
            76,
            145,
            193,
            71,
            107,
            0,
            79,
            64,
            46.4,
            90,
            170,
            76,
            185.2,
            0,
            210,
            123.6,
            66.4,
            86,
            105,
            165,
            51.6,
            72.4,
            326,
            66,
            130,
            69,
            0,
            140.6,
            61.8,
            82,
            105,
            188,
            69.8,
            106,
            136.6,
            65,
            29.6,
            56,
            0,
            86,
            46,
            210,
            155,
            215,
            190,
            0,
            56,
            76,
            225,
            207,
            166,
            67,
            63,
            90.6,
            106,
            101.2,
            44,
            115,
            215,
            80,
            77.4,
            64,
            46.4,
            0,
            274,
            77,
            54,
            60.6,
            88,
            18,
            126,
            126,
            165,
            35,
            117.8,
            44,
            120,
            330,
            63,
            130,
            0,
            105,
            0,
            0,
            80,
            131.2,
            77.4,
            600,
            58.4,
            0,
            94.8,
            156,
            46,
            0,
            140,
            0,
            115,
            230,
            185,
            27.8,
            25,
            0,
            120,
            87.6,
            54,
            65.4,
            126,
            0,
            80.4,
            293,
            41,
            272,
            182,
            158,
            194,
            321,
            110,
            144,
            80.8,
            29.8,
            15,
            0,
            0,
            160,
            54,
            83.4,
            115,
            102.8,
            54,
            166.6,
            124.2,
            28.8,
            75.8,
            0,
            90,
            160.4,
            183,
            25.2,
            0,
            65.6,
            66,
            91,
            46,
            105,
            148.2,
            0,
            29.6,
            152,
            440,
            144,
            159,
            130,
            117.6,
            100,
            106,
            77,
            121.4,
            135,
            540,
            90,
            200,
            49.6,
            70,
            13.4,
            0,
            231,
            130,
            0,
            132,
            0,
            0,
            190,
            100,
            168,
            129,
            49,
            240,
            74,
            0,
            0,
            108.4,
            0,
            265,
            45,
            0,
            105,
            0,
            122,
            205,
            219.2,
            101.8,
            180,
            180,
            44.8,
            0,
            95,
            125,
            51,
            480,
            125,
            121.2,
            155,
            95,
            200,
            0,
            0,
            47,
            100,
            58.8,
            0,
            335,
            0,
            160,
            387,
            22,
            0,
            291,
            58,
            392,
            185,
            96.2,
            178,
            0,
            55.6,
            200,
            127,
            105,
            50,
            50,
            180,
            148,
            229.4,
            68.8,
            79,
            0,
            120,
            165,
            0,
            89.6,
            120,
            35,
            160,
            0,
            150,
            94,
            116,
            0,
            140,
            105,
            0,
            57,
            200,
            0,
            0,
            74,
            106.4,
            510,
            0,
            110,
            65.6,
            0,
            166.2,
            0,
            16,
            0,
            45.2,
            180,
            127,
            112,
            0,
            66.6
           ]
          },
          {
           "axis": {
            "matches": true
           },
           "label": "DPF",
           "values": [
            0.627,
            0.351,
            0.672,
            0.167,
            2.288,
            0.201,
            0.248,
            0.134,
            0.158,
            0.232,
            0.191,
            0.537,
            1.441,
            0.398,
            0.587,
            0.484,
            0.551,
            0.254,
            0.183,
            0.529,
            0.704,
            0.388,
            0.451,
            0.263,
            0.254,
            0.205,
            0.257,
            0.487,
            0.245,
            0.337,
            0.546,
            0.851,
            0.267,
            0.188,
            0.512,
            0.966,
            0.42,
            0.665,
            0.503,
            1.39,
            0.271,
            0.696,
            0.235,
            0.721,
            0.294,
            1.893,
            0.564,
            0.586,
            0.344,
            0.305,
            0.491,
            0.526,
            0.342,
            0.467,
            0.718,
            0.248,
            0.254,
            0.962,
            1.781,
            0.173,
            0.304,
            0.27,
            0.587,
            0.699,
            0.258,
            0.203,
            0.855,
            0.845,
            0.334,
            0.189,
            0.867,
            0.411,
            0.583,
            0.231,
            0.396,
            0.14,
            0.391,
            0.37,
            0.27,
            0.307,
            0.14,
            0.102,
            0.767,
            0.237,
            0.227,
            0.698,
            0.178,
            0.324,
            0.153,
            0.165,
            0.258,
            0.443,
            0.261,
            0.277,
            0.761,
            0.255,
            0.13,
            0.323,
            0.356,
            0.325,
            1.222,
            0.179,
            0.262,
            0.283,
            0.93,
            0.801,
            0.207,
            0.287,
            0.336,
            0.247,
            0.199,
            0.543,
            0.192,
            0.391,
            0.588,
            0.539,
            0.22,
            0.654,
            0.443,
            0.223,
            0.759,
            0.26,
            0.404,
            0.186,
            0.278,
            0.496,
            0.452,
            0.261,
            0.403,
            0.741,
            0.361,
            1.114,
            0.356,
            0.457,
            0.647,
            0.088,
            0.597,
            0.532,
            0.703,
            0.159,
            0.268,
            0.286,
            0.318,
            0.272,
            0.237,
            0.572,
            0.096,
            1.4,
            0.218,
            0.085,
            0.399,
            0.432,
            1.189,
            0.687,
            0.137,
            0.337,
            0.637,
            0.833,
            0.229,
            0.817,
            0.294,
            0.204,
            0.167,
            0.368,
            0.743,
            0.722,
            0.256,
            0.709,
            0.471,
            0.495,
            0.18,
            0.542,
            0.773,
            0.678,
            0.37,
            0.719,
            0.382,
            0.319,
            0.19,
            0.956,
            0.084,
            0.725,
            0.299,
            0.268,
            0.244,
            0.745,
            0.615,
            1.321,
            0.64,
            0.361,
            0.142,
            0.374,
            0.383,
            0.578,
            0.136,
            0.395,
            0.187,
            0.678,
            0.905,
            0.15,
            0.874,
            0.236,
            0.787,
            0.235,
            0.324,
            0.407,
            0.605,
            0.151,
            0.289,
            0.355,
            0.29,
            0.375,
            0.164,
            0.431,
            0.26,
            0.742,
            0.514,
            0.464,
            1.224,
            0.261,
            1.072,
            0.805,
            0.209,
            0.687,
            0.666,
            0.101,
            0.198,
            0.652,
            2.329,
            0.089,
            0.645,
            0.238,
            0.583,
            0.394,
            0.293,
            0.479,
            0.586,
            0.686,
            0.831,
            0.582,
            0.192,
            0.446,
            0.402,
            1.318,
            0.329,
            1.213,
            0.258,
            0.427,
            0.282,
            0.143,
            0.38,
            0.284,
            0.249,
            0.238,
            0.926,
            0.543,
            0.557,
            0.092,
            0.655,
            1.353,
            0.299,
            0.761,
            0.612,
            0.2,
            0.226,
            0.997,
            0.933,
            1.101,
            0.078,
            0.24,
            1.136,
            0.128,
            0.254,
            0.422,
            0.251,
            0.677,
            0.296,
            0.454,
            0.744,
            0.881,
            0.334,
            0.28,
            0.262,
            0.165,
            0.259,
            0.647,
            0.619,
            0.808,
            0.34,
            0.263,
            0.434,
            0.757,
            1.224,
            0.613,
            0.254,
            0.692,
            0.337,
            0.52,
            0.412,
            0.84,
            0.839,
            0.422,
            0.156,
            0.209,
            0.207,
            0.215,
            0.326,
            0.143,
            1.391,
            0.875,
            0.313,
            0.605,
            0.433,
            0.626,
            1.127,
            0.315,
            0.284,
            0.345,
            0.15,
            0.129,
            0.527,
            0.197,
            0.254,
            0.731,
            0.148,
            0.123,
            0.692,
            0.2,
            0.127,
            0.122,
            1.476,
            0.166,
            0.282,
            0.137,
            0.26,
            0.259,
            0.932,
            0.343,
            0.893,
            0.331,
            0.472,
            0.673,
            0.389,
            0.29,
            0.485,
            0.349,
            0.654,
            0.187,
            0.279,
            0.346,
            0.237,
            0.252,
            0.243,
            0.58,
            0.559,
            0.302,
            0.962,
            0.569,
            0.378,
            0.875,
            0.583,
            0.207,
            0.305,
            0.52,
            0.385,
            0.499,
            0.368,
            0.252,
            0.306,
            0.234,
            2.137,
            1.731,
            0.545,
            0.225,
            0.816,
            0.528,
            0.299,
            0.509,
            0.238,
            1.021,
            0.821,
            0.236,
            0.947,
            1.268,
            0.221,
            0.205,
            0.66,
            0.239,
            0.452,
            0.949,
            0.444,
            0.34,
            0.389,
            0.463,
            0.803,
            1.6,
            0.944,
            0.196,
            0.389,
            0.241,
            0.161,
            0.151,
            0.286,
            0.28,
            0.135,
            0.52,
            0.376,
            0.336,
            1.191,
            0.702,
            0.674,
            0.528,
            1.076,
            0.256,
            0.534,
            0.258,
            1.095,
            0.554,
            0.624,
            0.219,
            0.507,
            0.561,
            0.496,
            0.421,
            0.516,
            0.264,
            0.256,
            0.328,
            0.284,
            0.233,
            0.108,
            0.551,
            0.527,
            0.167,
            1.138,
            0.205,
            0.244,
            0.434,
            0.147,
            0.727,
            0.435,
            0.497,
            0.23,
            0.955,
            0.38,
            2.42,
            0.658,
            0.33,
            0.51,
            0.285,
            0.415,
            0.542,
            0.381,
            0.832,
            0.498,
            0.212,
            0.687,
            0.364,
            1.001,
            0.46,
            0.733,
            0.416,
            0.705,
            0.258,
            1.022,
            0.452,
            0.269,
            0.6,
            0.183,
            0.571,
            0.607,
            0.17,
            0.259,
            0.21,
            0.126,
            0.231,
            0.711,
            0.466,
            0.162,
            0.419,
            0.344,
            0.197,
            0.306,
            0.233,
            0.63,
            0.365,
            0.536,
            1.159,
            0.294,
            0.551,
            0.629,
            0.292,
            0.145,
            1.144,
            0.174,
            0.304,
            0.292,
            0.547,
            0.163,
            0.839,
            0.313,
            0.267,
            0.727,
            0.738,
            0.238,
            0.263,
            0.314,
            0.692,
            0.968,
            0.409,
            0.297,
            0.207,
            0.2,
            0.525,
            0.154,
            0.268,
            0.771,
            0.304,
            0.18,
            0.582,
            0.187,
            0.305,
            0.189,
            0.652,
            0.151,
            0.444,
            0.299,
            0.107,
            0.493,
            0.66,
            0.717,
            0.686,
            0.917,
            0.501,
            1.251,
            0.302,
            0.197,
            0.735,
            0.804,
            0.968,
            0.661,
            0.549,
            0.825,
            0.159,
            0.365,
            0.423,
            1.034,
            0.16,
            0.341,
            0.68,
            0.204,
            0.591,
            0.247,
            0.422,
            0.471,
            0.161,
            0.218,
            0.237,
            0.126,
            0.3,
            0.121,
            0.502,
            0.401,
            0.497,
            0.601,
            0.748,
            0.412,
            0.085,
            0.338,
            0.203,
            0.27,
            0.268,
            0.43,
            0.198,
            0.892,
            0.28,
            0.813,
            0.693,
            0.245,
            0.575,
            0.371,
            0.206,
            0.259,
            0.19,
            0.687,
            0.417,
            0.129,
            0.249,
            1.154,
            0.342,
            0.925,
            0.175,
            0.402,
            1.699,
            0.733,
            0.682,
            0.194,
            0.559,
            0.088,
            0.407,
            0.4,
            0.19,
            0.1,
            0.692,
            0.212,
            0.514,
            1.258,
            0.482,
            0.27,
            0.138,
            0.292,
            0.593,
            0.787,
            0.878,
            0.557,
            0.207,
            0.157,
            0.257,
            1.282,
            0.141,
            0.246,
            1.698,
            1.461,
            0.347,
            0.158,
            0.362,
            0.206,
            0.393,
            0.144,
            0.148,
            0.732,
            0.238,
            0.343,
            0.115,
            0.167,
            0.465,
            0.153,
            0.649,
            0.871,
            0.149,
            0.695,
            0.303,
            0.178,
            0.61,
            0.73,
            0.134,
            0.447,
            0.455,
            0.26,
            0.133,
            0.234,
            0.466,
            0.269,
            0.455,
            0.142,
            0.24,
            0.155,
            1.162,
            0.19,
            1.292,
            0.182,
            1.394,
            0.165,
            0.637,
            0.245,
            0.217,
            0.235,
            0.141,
            0.43,
            0.164,
            0.631,
            0.551,
            0.285,
            0.88,
            0.587,
            0.328,
            0.23,
            0.263,
            0.127,
            0.614,
            0.332,
            0.364,
            0.366,
            0.536,
            0.64,
            0.591,
            0.314,
            0.181,
            0.828,
            0.335,
            0.856,
            0.257,
            0.886,
            0.439,
            0.191,
            0.128,
            0.268,
            0.253,
            0.598,
            0.904,
            0.483,
            0.565,
            0.905,
            0.304,
            0.118,
            0.177,
            0.261,
            0.176,
            0.148,
            0.674,
            0.295,
            0.439,
            0.441,
            0.352,
            0.121,
            0.826,
            0.97,
            0.595,
            0.415,
            0.378,
            0.317,
            0.289,
            0.349,
            0.251,
            0.265,
            0.236,
            0.496,
            0.433,
            0.326,
            0.141,
            0.323,
            0.259,
            0.646,
            0.426,
            0.56,
            0.284,
            0.515,
            0.6,
            0.453,
            0.293,
            0.785,
            0.4,
            0.219,
            0.734,
            1.174,
            0.488,
            0.358,
            1.096,
            0.408,
            0.178,
            1.182,
            0.261,
            0.223,
            0.222,
            0.443,
            1.057,
            0.391,
            0.258,
            0.197,
            0.278,
            0.766,
            0.403,
            0.142,
            0.171,
            0.34,
            0.245,
            0.349,
            0.315
           ]
          },
          {
           "axis": {
            "matches": true
           },
           "label": "ST",
           "values": [
            35,
            29,
            33,
            23,
            35,
            20.6,
            32,
            34.4,
            45,
            31.2,
            28.4,
            31,
            22.6,
            23,
            19,
            29,
            47,
            26.6,
            38,
            30,
            41,
            29.4,
            26.6,
            35,
            33,
            26,
            34.4,
            15,
            19,
            25.6,
            26,
            36,
            11,
            16.4,
            31,
            33,
            33,
            37,
            42,
            47,
            25,
            32,
            18,
            24,
            28.4,
            39,
            30.6,
            27,
            32,
            26.4,
            11,
            15,
            21,
            34,
            42,
            10,
            39,
            60,
            40.8,
            41,
            24.2,
            31.8,
            28.8,
            34,
            38,
            27,
            30,
            32.2,
            13,
            27,
            20,
            35,
            35.2,
            20,
            30,
            20,
            29,
            33,
            35.6,
            22,
            13,
            22.6,
            26,
            28,
            37.6,
            29,
            54,
            25,
            32,
            19,
            14.4,
            15,
            40,
            24.2,
            18,
            27,
            28,
            18,
            30,
            51,
            35,
            25.8,
            26.6,
            18,
            33.8,
            29,
            26.4,
            28,
            31,
            25,
            33,
            26,
            34,
            30.4,
            32,
            24.6,
            31.6,
            23.4,
            23,
            15,
            56,
            39,
            30,
            24.8,
            28.2,
            42,
            30,
            36,
            24,
            25.4,
            14,
            31.2,
            37,
            31,
            13,
            20,
            26,
            25,
            29.6,
            29,
            23,
            30,
            26,
            39.6,
            31,
            23,
            37,
            35,
            26.2,
            17,
            50,
            20.8,
            28,
            42,
            33,
            44,
            15,
            21,
            19,
            41,
            38,
            40,
            34,
            23,
            33.6,
            18,
            25,
            29.6,
            33.6,
            12,
            30,
            23,
            23,
            42,
            24,
            42,
            26.8,
            46,
            41.8,
            33.6,
            22.4,
            18,
            20,
            23.4,
            28.6,
            28,
            36,
            41,
            39,
            35,
            15.2,
            44,
            34,
            34.4,
            20,
            41,
            21.2,
            13,
            44,
            27,
            16,
            37.8,
            20,
            16,
            32,
            28,
            29,
            34.8,
            27,
            33,
            22,
            54,
            31,
            26,
            32,
            40,
            41,
            30,
            22,
            38,
            29,
            24,
            25.6,
            33,
            15,
            27,
            36.6,
            38,
            39,
            31,
            41.4,
            37,
            25,
            31.4,
            28,
            36.6,
            21,
            27,
            21,
            14.6,
            24,
            32,
            31.6,
            22,
            35,
            15,
            30.8,
            33,
            33,
            19,
            30.8,
            23.4,
            14,
            32,
            7,
            35,
            39,
            22,
            16,
            28,
            15,
            28.8,
            32,
            15,
            29.6,
            18,
            35.8,
            42,
            17.2,
            28.8,
            37,
            32,
            28.2,
            50,
            42,
            52,
            24,
            23,
            21.2,
            10,
            35.8,
            28,
            15,
            30.4,
            29,
            26,
            44,
            39,
            17,
            43,
            29,
            30,
            37,
            45,
            25.4,
            31,
            38,
            29,
            25,
            21.6,
            29.2,
            33,
            41,
            37.8,
            29,
            37,
            23,
            14,
            19,
            28,
            30,
            37,
            17,
            10,
            31,
            22,
            11,
            34,
            39,
            41.2,
            12,
            30,
            20,
            33,
            32,
            21,
            32,
            34.8,
            36,
            32,
            19,
            16,
            32.4,
            27.8,
            18,
            43,
            36.4,
            28.4,
            34,
            30.4,
            13,
            21,
            35,
            28.6,
            33,
            36,
            19,
            16,
            19,
            32,
            37.8,
            28.8,
            28,
            12,
            31,
            25.8,
            40,
            30,
            40,
            36,
            33,
            27.4,
            37,
            25.2,
            25,
            28,
            29.4,
            17,
            16,
            28,
            48,
            23,
            22,
            40,
            43,
            43,
            15,
            37,
            38.6,
            39,
            30,
            22,
            8,
            18,
            24,
            13,
            29,
            36,
            26,
            23,
            29,
            31.8,
            14,
            12,
            31.6,
            24,
            34,
            40,
            17.4,
            31,
            34.4,
            27.6,
            41,
            25,
            33.2,
            32,
            27.4,
            22.8,
            33,
            49,
            39,
            30,
            23,
            22,
            35,
            33,
            21,
            32,
            21.2,
            29,
            41,
            18,
            46,
            22,
            32,
            39,
            27.8,
            30,
            46,
            25,
            20.4,
            16,
            11,
            28.2,
            8,
            39.8,
            33,
            27,
            15,
            37.6,
            25,
            23,
            27,
            27.2,
            12,
            63,
            12,
            45,
            37,
            18,
            13,
            38.2,
            32,
            22.8,
            28,
            30,
            28,
            28,
            48,
            33,
            22,
            24.8,
            40,
            30,
            24,
            13,
            10,
            36,
            29.2,
            41,
            40,
            38,
            27,
            33.4,
            24.8,
            27,
            45,
            17,
            38,
            31,
            30,
            37,
            22,
            31,
            39.8,
            42,
            41,
            32,
            17,
            48.4,
            28,
            30,
            38,
            18,
            22.4,
            30.4,
            22.2,
            15,
            33,
            32,
            19,
            32,
            41,
            25,
            39,
            28.6,
            26,
            23,
            23,
            22,
            31,
            17,
            27.2,
            20.6,
            19,
            18,
            34,
            32.8,
            31,
            7,
            32,
            33,
            29.2,
            33.8,
            25.2,
            18,
            19,
            15,
            31,
            22.8,
            18,
            39.2,
            52,
            24.8,
            30,
            37.4,
            26,
            31.8,
            37,
            49,
            40,
            25,
            32,
            23,
            29,
            35,
            27,
            21,
            43,
            31,
            28,
            30,
            21,
            24,
            23,
            33,
            40,
            32.4,
            40,
            25,
            26.6,
            32,
            34,
            19,
            29.8,
            14,
            30,
            32,
            29,
            30,
            33.2,
            26.6,
            31,
            17,
            30,
            47,
            20,
            28.4,
            29.6,
            99,
            46,
            27,
            17,
            34.8,
            24,
            11,
            34.8,
            21.6,
            27,
            18.6,
            40,
            50,
            35,
            22,
            45,
            14,
            32.8,
            19,
            35.2,
            18,
            19,
            17.2,
            36,
            29,
            32.4,
            32,
            42,
            25,
            39,
            13,
            21,
            22,
            42,
            28,
            26,
            25.4,
            24,
            13,
            24,
            28.2,
            42,
            20,
            26,
            27,
            32.4,
            47,
            18,
            30,
            30.4,
            22,
            25.8,
            40,
            16,
            17,
            18.4,
            37.2,
            28,
            18,
            32,
            12,
            17,
            25.2,
            28.2,
            22.8,
            30,
            35,
            17,
            36,
            35,
            25,
            25,
            23,
            40,
            17.4,
            28,
            27,
            35,
            48,
            33.6,
            31,
            29.8,
            43,
            46,
            46,
            39,
            45,
            18,
            27,
            33,
            30,
            26,
            10,
            23,
            35,
            31.4,
            33.4,
            29.8,
            29,
            27.6,
            17,
            28,
            36,
            39,
            32.8,
            23.4,
            26,
            19.8,
            19,
            26,
            46,
            25.2,
            36.4,
            32,
            49,
            16.8,
            24,
            19,
            17.6,
            11,
            33,
            27,
            31,
            29,
            37.8,
            20,
            36,
            26.2,
            21,
            31.4,
            32,
            13,
            27,
            36,
            20,
            24.8,
            33,
            39,
            18,
            46,
            27,
            19,
            36,
            29,
            30,
            27.6,
            40,
            29,
            26,
            30.8,
            22.4,
            23,
            25.2,
            37,
            27,
            24.8,
            32,
            27,
            23,
            17,
            35.8,
            37,
            20,
            18,
            34.8,
            37,
            33,
            41,
            41,
            22,
            33.8,
            36,
            39,
            24,
            44,
            32,
            39,
            41,
            31.8,
            34.6,
            41.4,
            26,
            31,
            19.8,
            48,
            27,
            23,
            33.2,
            31
           ]
          }
         ],
         "hovertemplate": "%{xaxis.title.text}=%{x}<br>%{yaxis.title.text}=%{y}<br>OC=%{marker.color}<extra></extra>",
         "legendgroup": "",
         "marker": {
          "color": [
           1,
           0,
           1,
           0,
           1,
           0,
           1,
           0,
           1,
           1,
           0,
           1,
           0,
           1,
           1,
           1,
           1,
           1,
           0,
           1,
           0,
           0,
           1,
           1,
           1,
           1,
           1,
           0,
           0,
           0,
           0,
           1,
           0,
           0,
           0,
           0,
           0,
           1,
           1,
           1,
           0,
           0,
           0,
           1,
           0,
           1,
           0,
           0,
           1,
           0,
           0,
           0,
           0,
           1,
           0,
           0,
           1,
           0,
           0,
           0,
           0,
           1,
           0,
           0,
           1,
           0,
           1,
           0,
           0,
           0,
           1,
           0,
           1,
           0,
           0,
           0,
           0,
           0,
           1,
           0,
           0,
           0,
           0,
           0,
           1,
           0,
           0,
           0,
           1,
           0,
           0,
           0,
           0,
           1,
           0,
           0,
           0,
           0,
           0,
           1,
           1,
           0,
           0,
           0,
           0,
           0,
           0,
           0,
           0,
           1,
           1,
           1,
           0,
           0,
           1,
           1,
           1,
           0,
           0,
           0,
           1,
           0,
           0,
           0,
           1,
           1,
           0,
           0,
           1,
           1,
           1,
           1,
           1,
           0,
           0,
           0,
           0,
           0,
           0,
           0,
           0,
           0,
           0,
           1,
           0,
           0,
           0,
           0,
           0,
           0,
           0,
           0,
           1,
           0,
           1,
           1,
           0,
           0,
           0,
           1,
           0,
           0,
           0,
           0,
           1,
           1,
           0,
           0,
           0,
           0,
           1,
           1,
           0,
           0,
           0,
           1,
           0,
           1,
           0,
           1,
           0,
           0,
           0,
           0,
           0,
           1,
           1,
           1,
           1,
           1,
           0,
           0,
           1,
           1,
           0,
           1,
           0,
           1,
           1,
           1,
           0,
           0,
           0,
           0,
           0,
           0,
           1,
           1,
           0,
           1,
           0,
           0,
           0,
           1,
           1,
           1,
           1,
           0,
           1,
           1,
           1,
           1,
           0,
           0,
           0,
           0,
           0,
           1,
           0,
           0,
           1,
           1,
           0,
           0,
           0,
           1,
           1,
           1,
           1,
           0,
           0,
           0,
           1,
           1,
           0,
           1,
           0,
           0,
           0,
           0,
           0,
           0,
           0,
           0,
           1,
           1,
           0,
           0,
           0,
           1,
           0,
           1,
           0,
           0,
           1,
           0,
           1,
           0,
           0,
           1,
           1,
           0,
           0,
           0,
           0,
           0,
           1,
           0,
           0,
           0,
           1,
           0,
           0,
           1,
           1,
           0,
           0,
           1,
           0,
           0,
           0,
           1,
           1,
           1,
           0,
           0,
           1,
           0,
           1,
           0,
           1,
           1,
           0,
           1,
           0,
           0,
           1,
           0,
           1,
           1,
           0,
           0,
           1,
           0,
           1,
           0,
           0,
           1,
           0,
           1,
           0,
           1,
           1,
           1,
           0,
           0,
           1,
           0,
           1,
           0,
           0,
           0,
           1,
           0,
           0,
           0,
           0,
           1,
           1,
           1,
           0,
           0,
           0,
           0,
           0,
           0,
           0,
           0,
           0,
           1,
           0,
           0,
           0,
           0,
           0,
           1,
           1,
           1,
           0,
           1,
           1,
           0,
           0,
           1,
           0,
           0,
           1,
           0,
           0,
           1,
           1,
           0,
           0,
           0,
           0,
           1,
           0,
           0,
           1,
           0,
           0,
           0,
           0,
           0,
           0,
           0,
           1,
           1,
           1,
           0,
           0,
           1,
           0,
           0,
           1,
           0,
           0,
           1,
           0,
           1,
           1,
           0,
           1,
           0,
           1,
           0,
           1,
           0,
           1,
           1,
           0,
           0,
           0,
           0,
           1,
           1,
           0,
           1,
           0,
           1,
           0,
           0,
           0,
           0,
           1,
           1,
           0,
           1,
           0,
           1,
           0,
           0,
           0,
           0,
           0,
           1,
           0,
           0,
           0,
           0,
           1,
           0,
           0,
           1,
           1,
           1,
           0,
           0,
           1,
           0,
           0,
           1,
           0,
           0,
           0,
           1,
           0,
           0,
           1,
           0,
           0,
           0,
           0,
           0,
           0,
           0,
           0,
           0,
           1,
           0,
           0,
           0,
           0,
           0,
           0,
           0,
           1,
           0,
           0,
           0,
           1,
           0,
           0,
           0,
           1,
           1,
           0,
           0,
           0,
           0,
           0,
           0,
           0,
           1,
           0,
           0,
           0,
           0,
           1,
           0,
           0,
           0,
           1,
           0,
           0,
           0,
           1,
           0,
           0,
           0,
           1,
           0,
           0,
           0,
           0,
           1,
           1,
           0,
           0,
           0,
           0,
           0,
           0,
           1,
           0,
           0,
           0,
           0,
           0,
           0,
           0,
           0,
           0,
           0,
           0,
           1,
           0,
           0,
           0,
           1,
           1,
           1,
           1,
           0,
           0,
           1,
           1,
           0,
           0,
           0,
           0,
           0,
           0,
           0,
           0,
           0,
           0,
           0,
           0,
           0,
           1,
           1,
           0,
           0,
           0,
           0,
           0,
           0,
           0,
           1,
           0,
           0,
           0,
           0,
           0,
           0,
           0,
           1,
           0,
           1,
           1,
           0,
           0,
           0,
           1,
           0,
           1,
           0,
           1,
           0,
           1,
           0,
           1,
           0,
           0,
           1,
           0,
           0,
           1,
           0,
           0,
           0,
           0,
           1,
           1,
           0,
           1,
           0,
           0,
           0,
           0,
           1,
           1,
           0,
           1,
           0,
           0,
           0,
           1,
           1,
           0,
           0,
           0,
           0,
           0,
           0,
           0,
           0,
           0,
           0,
           1,
           0,
           0,
           0,
           0,
           1,
           0,
           0,
           1,
           0,
           0,
           0,
           1,
           0,
           0,
           0,
           1,
           1,
           1,
           0,
           0,
           0,
           0,
           0,
           0,
           1,
           0,
           0,
           0,
           1,
           0,
           1,
           1,
           1,
           1,
           0,
           1,
           1,
           0,
           0,
           0,
           0,
           0,
           0,
           0,
           1,
           1,
           0,
           1,
           0,
           0,
           1,
           0,
           1,
           0,
           0,
           0,
           0,
           0,
           1,
           0,
           1,
           0,
           1,
           0,
           1,
           1,
           0,
           0,
           0,
           0,
           1,
           1,
           0,
           0,
           0,
           1,
           0,
           1,
           1,
           0,
           0,
           1,
           0,
           0,
           1,
           1,
           0,
           0,
           1,
           0,
           0,
           1,
           0,
           0,
           0,
           0,
           0,
           0,
           0,
           1,
           1,
           1,
           0,
           0,
           0,
           0,
           0,
           0,
           1,
           1,
           0,
           0,
           1,
           0,
           0,
           1,
           0,
           1,
           1,
           1,
           0,
           0,
           1,
           1,
           1,
           0,
           1,
           0,
           1,
           0,
           1,
           0,
           0,
           0,
           0,
           1,
           0
          ],
          "coloraxis": "coloraxis",
          "symbol": "circle"
         },
         "name": "",
         "showlegend": false,
         "type": "splom"
        }
       ],
       "layout": {
        "coloraxis": {
         "colorbar": {
          "title": {
           "text": "OC"
          }
         },
         "colorscale": [
          [
           0,
           "#0d0887"
          ],
          [
           0.1111111111111111,
           "#46039f"
          ],
          [
           0.2222222222222222,
           "#7201a8"
          ],
          [
           0.3333333333333333,
           "#9c179e"
          ],
          [
           0.4444444444444444,
           "#bd3786"
          ],
          [
           0.5555555555555556,
           "#d8576b"
          ],
          [
           0.6666666666666666,
           "#ed7953"
          ],
          [
           0.7777777777777778,
           "#fb9f3a"
          ],
          [
           0.8888888888888888,
           "#fdca26"
          ],
          [
           1,
           "#f0f921"
          ]
         ]
        },
        "dragmode": "select",
        "legend": {
         "tracegroupgap": 0
        },
        "template": {
         "data": {
          "bar": [
           {
            "error_x": {
             "color": "#2a3f5f"
            },
            "error_y": {
             "color": "#2a3f5f"
            },
            "marker": {
             "line": {
              "color": "#E5ECF6",
              "width": 0.5
             },
             "pattern": {
              "fillmode": "overlay",
              "size": 10,
              "solidity": 0.2
             }
            },
            "type": "bar"
           }
          ],
          "barpolar": [
           {
            "marker": {
             "line": {
              "color": "#E5ECF6",
              "width": 0.5
             },
             "pattern": {
              "fillmode": "overlay",
              "size": 10,
              "solidity": 0.2
             }
            },
            "type": "barpolar"
           }
          ],
          "carpet": [
           {
            "aaxis": {
             "endlinecolor": "#2a3f5f",
             "gridcolor": "white",
             "linecolor": "white",
             "minorgridcolor": "white",
             "startlinecolor": "#2a3f5f"
            },
            "baxis": {
             "endlinecolor": "#2a3f5f",
             "gridcolor": "white",
             "linecolor": "white",
             "minorgridcolor": "white",
             "startlinecolor": "#2a3f5f"
            },
            "type": "carpet"
           }
          ],
          "choropleth": [
           {
            "colorbar": {
             "outlinewidth": 0,
             "ticks": ""
            },
            "type": "choropleth"
           }
          ],
          "contour": [
           {
            "colorbar": {
             "outlinewidth": 0,
             "ticks": ""
            },
            "colorscale": [
             [
              0,
              "#0d0887"
             ],
             [
              0.1111111111111111,
              "#46039f"
             ],
             [
              0.2222222222222222,
              "#7201a8"
             ],
             [
              0.3333333333333333,
              "#9c179e"
             ],
             [
              0.4444444444444444,
              "#bd3786"
             ],
             [
              0.5555555555555556,
              "#d8576b"
             ],
             [
              0.6666666666666666,
              "#ed7953"
             ],
             [
              0.7777777777777778,
              "#fb9f3a"
             ],
             [
              0.8888888888888888,
              "#fdca26"
             ],
             [
              1,
              "#f0f921"
             ]
            ],
            "type": "contour"
           }
          ],
          "contourcarpet": [
           {
            "colorbar": {
             "outlinewidth": 0,
             "ticks": ""
            },
            "type": "contourcarpet"
           }
          ],
          "heatmap": [
           {
            "colorbar": {
             "outlinewidth": 0,
             "ticks": ""
            },
            "colorscale": [
             [
              0,
              "#0d0887"
             ],
             [
              0.1111111111111111,
              "#46039f"
             ],
             [
              0.2222222222222222,
              "#7201a8"
             ],
             [
              0.3333333333333333,
              "#9c179e"
             ],
             [
              0.4444444444444444,
              "#bd3786"
             ],
             [
              0.5555555555555556,
              "#d8576b"
             ],
             [
              0.6666666666666666,
              "#ed7953"
             ],
             [
              0.7777777777777778,
              "#fb9f3a"
             ],
             [
              0.8888888888888888,
              "#fdca26"
             ],
             [
              1,
              "#f0f921"
             ]
            ],
            "type": "heatmap"
           }
          ],
          "heatmapgl": [
           {
            "colorbar": {
             "outlinewidth": 0,
             "ticks": ""
            },
            "colorscale": [
             [
              0,
              "#0d0887"
             ],
             [
              0.1111111111111111,
              "#46039f"
             ],
             [
              0.2222222222222222,
              "#7201a8"
             ],
             [
              0.3333333333333333,
              "#9c179e"
             ],
             [
              0.4444444444444444,
              "#bd3786"
             ],
             [
              0.5555555555555556,
              "#d8576b"
             ],
             [
              0.6666666666666666,
              "#ed7953"
             ],
             [
              0.7777777777777778,
              "#fb9f3a"
             ],
             [
              0.8888888888888888,
              "#fdca26"
             ],
             [
              1,
              "#f0f921"
             ]
            ],
            "type": "heatmapgl"
           }
          ],
          "histogram": [
           {
            "marker": {
             "pattern": {
              "fillmode": "overlay",
              "size": 10,
              "solidity": 0.2
             }
            },
            "type": "histogram"
           }
          ],
          "histogram2d": [
           {
            "colorbar": {
             "outlinewidth": 0,
             "ticks": ""
            },
            "colorscale": [
             [
              0,
              "#0d0887"
             ],
             [
              0.1111111111111111,
              "#46039f"
             ],
             [
              0.2222222222222222,
              "#7201a8"
             ],
             [
              0.3333333333333333,
              "#9c179e"
             ],
             [
              0.4444444444444444,
              "#bd3786"
             ],
             [
              0.5555555555555556,
              "#d8576b"
             ],
             [
              0.6666666666666666,
              "#ed7953"
             ],
             [
              0.7777777777777778,
              "#fb9f3a"
             ],
             [
              0.8888888888888888,
              "#fdca26"
             ],
             [
              1,
              "#f0f921"
             ]
            ],
            "type": "histogram2d"
           }
          ],
          "histogram2dcontour": [
           {
            "colorbar": {
             "outlinewidth": 0,
             "ticks": ""
            },
            "colorscale": [
             [
              0,
              "#0d0887"
             ],
             [
              0.1111111111111111,
              "#46039f"
             ],
             [
              0.2222222222222222,
              "#7201a8"
             ],
             [
              0.3333333333333333,
              "#9c179e"
             ],
             [
              0.4444444444444444,
              "#bd3786"
             ],
             [
              0.5555555555555556,
              "#d8576b"
             ],
             [
              0.6666666666666666,
              "#ed7953"
             ],
             [
              0.7777777777777778,
              "#fb9f3a"
             ],
             [
              0.8888888888888888,
              "#fdca26"
             ],
             [
              1,
              "#f0f921"
             ]
            ],
            "type": "histogram2dcontour"
           }
          ],
          "mesh3d": [
           {
            "colorbar": {
             "outlinewidth": 0,
             "ticks": ""
            },
            "type": "mesh3d"
           }
          ],
          "parcoords": [
           {
            "line": {
             "colorbar": {
              "outlinewidth": 0,
              "ticks": ""
             }
            },
            "type": "parcoords"
           }
          ],
          "pie": [
           {
            "automargin": true,
            "type": "pie"
           }
          ],
          "scatter": [
           {
            "fillpattern": {
             "fillmode": "overlay",
             "size": 10,
             "solidity": 0.2
            },
            "type": "scatter"
           }
          ],
          "scatter3d": [
           {
            "line": {
             "colorbar": {
              "outlinewidth": 0,
              "ticks": ""
             }
            },
            "marker": {
             "colorbar": {
              "outlinewidth": 0,
              "ticks": ""
             }
            },
            "type": "scatter3d"
           }
          ],
          "scattercarpet": [
           {
            "marker": {
             "colorbar": {
              "outlinewidth": 0,
              "ticks": ""
             }
            },
            "type": "scattercarpet"
           }
          ],
          "scattergeo": [
           {
            "marker": {
             "colorbar": {
              "outlinewidth": 0,
              "ticks": ""
             }
            },
            "type": "scattergeo"
           }
          ],
          "scattergl": [
           {
            "marker": {
             "colorbar": {
              "outlinewidth": 0,
              "ticks": ""
             }
            },
            "type": "scattergl"
           }
          ],
          "scattermapbox": [
           {
            "marker": {
             "colorbar": {
              "outlinewidth": 0,
              "ticks": ""
             }
            },
            "type": "scattermapbox"
           }
          ],
          "scatterpolar": [
           {
            "marker": {
             "colorbar": {
              "outlinewidth": 0,
              "ticks": ""
             }
            },
            "type": "scatterpolar"
           }
          ],
          "scatterpolargl": [
           {
            "marker": {
             "colorbar": {
              "outlinewidth": 0,
              "ticks": ""
             }
            },
            "type": "scatterpolargl"
           }
          ],
          "scatterternary": [
           {
            "marker": {
             "colorbar": {
              "outlinewidth": 0,
              "ticks": ""
             }
            },
            "type": "scatterternary"
           }
          ],
          "surface": [
           {
            "colorbar": {
             "outlinewidth": 0,
             "ticks": ""
            },
            "colorscale": [
             [
              0,
              "#0d0887"
             ],
             [
              0.1111111111111111,
              "#46039f"
             ],
             [
              0.2222222222222222,
              "#7201a8"
             ],
             [
              0.3333333333333333,
              "#9c179e"
             ],
             [
              0.4444444444444444,
              "#bd3786"
             ],
             [
              0.5555555555555556,
              "#d8576b"
             ],
             [
              0.6666666666666666,
              "#ed7953"
             ],
             [
              0.7777777777777778,
              "#fb9f3a"
             ],
             [
              0.8888888888888888,
              "#fdca26"
             ],
             [
              1,
              "#f0f921"
             ]
            ],
            "type": "surface"
           }
          ],
          "table": [
           {
            "cells": {
             "fill": {
              "color": "#EBF0F8"
             },
             "line": {
              "color": "white"
             }
            },
            "header": {
             "fill": {
              "color": "#C8D4E3"
             },
             "line": {
              "color": "white"
             }
            },
            "type": "table"
           }
          ]
         },
         "layout": {
          "annotationdefaults": {
           "arrowcolor": "#2a3f5f",
           "arrowhead": 0,
           "arrowwidth": 1
          },
          "autotypenumbers": "strict",
          "coloraxis": {
           "colorbar": {
            "outlinewidth": 0,
            "ticks": ""
           }
          },
          "colorscale": {
           "diverging": [
            [
             0,
             "#8e0152"
            ],
            [
             0.1,
             "#c51b7d"
            ],
            [
             0.2,
             "#de77ae"
            ],
            [
             0.3,
             "#f1b6da"
            ],
            [
             0.4,
             "#fde0ef"
            ],
            [
             0.5,
             "#f7f7f7"
            ],
            [
             0.6,
             "#e6f5d0"
            ],
            [
             0.7,
             "#b8e186"
            ],
            [
             0.8,
             "#7fbc41"
            ],
            [
             0.9,
             "#4d9221"
            ],
            [
             1,
             "#276419"
            ]
           ],
           "sequential": [
            [
             0,
             "#0d0887"
            ],
            [
             0.1111111111111111,
             "#46039f"
            ],
            [
             0.2222222222222222,
             "#7201a8"
            ],
            [
             0.3333333333333333,
             "#9c179e"
            ],
            [
             0.4444444444444444,
             "#bd3786"
            ],
            [
             0.5555555555555556,
             "#d8576b"
            ],
            [
             0.6666666666666666,
             "#ed7953"
            ],
            [
             0.7777777777777778,
             "#fb9f3a"
            ],
            [
             0.8888888888888888,
             "#fdca26"
            ],
            [
             1,
             "#f0f921"
            ]
           ],
           "sequentialminus": [
            [
             0,
             "#0d0887"
            ],
            [
             0.1111111111111111,
             "#46039f"
            ],
            [
             0.2222222222222222,
             "#7201a8"
            ],
            [
             0.3333333333333333,
             "#9c179e"
            ],
            [
             0.4444444444444444,
             "#bd3786"
            ],
            [
             0.5555555555555556,
             "#d8576b"
            ],
            [
             0.6666666666666666,
             "#ed7953"
            ],
            [
             0.7777777777777778,
             "#fb9f3a"
            ],
            [
             0.8888888888888888,
             "#fdca26"
            ],
            [
             1,
             "#f0f921"
            ]
           ]
          },
          "colorway": [
           "#636efa",
           "#EF553B",
           "#00cc96",
           "#ab63fa",
           "#FFA15A",
           "#19d3f3",
           "#FF6692",
           "#B6E880",
           "#FF97FF",
           "#FECB52"
          ],
          "font": {
           "color": "#2a3f5f"
          },
          "geo": {
           "bgcolor": "white",
           "lakecolor": "white",
           "landcolor": "#E5ECF6",
           "showlakes": true,
           "showland": true,
           "subunitcolor": "white"
          },
          "hoverlabel": {
           "align": "left"
          },
          "hovermode": "closest",
          "mapbox": {
           "style": "light"
          },
          "paper_bgcolor": "white",
          "plot_bgcolor": "#E5ECF6",
          "polar": {
           "angularaxis": {
            "gridcolor": "white",
            "linecolor": "white",
            "ticks": ""
           },
           "bgcolor": "#E5ECF6",
           "radialaxis": {
            "gridcolor": "white",
            "linecolor": "white",
            "ticks": ""
           }
          },
          "scene": {
           "xaxis": {
            "backgroundcolor": "#E5ECF6",
            "gridcolor": "white",
            "gridwidth": 2,
            "linecolor": "white",
            "showbackground": true,
            "ticks": "",
            "zerolinecolor": "white"
           },
           "yaxis": {
            "backgroundcolor": "#E5ECF6",
            "gridcolor": "white",
            "gridwidth": 2,
            "linecolor": "white",
            "showbackground": true,
            "ticks": "",
            "zerolinecolor": "white"
           },
           "zaxis": {
            "backgroundcolor": "#E5ECF6",
            "gridcolor": "white",
            "gridwidth": 2,
            "linecolor": "white",
            "showbackground": true,
            "ticks": "",
            "zerolinecolor": "white"
           }
          },
          "shapedefaults": {
           "line": {
            "color": "#2a3f5f"
           }
          },
          "ternary": {
           "aaxis": {
            "gridcolor": "white",
            "linecolor": "white",
            "ticks": ""
           },
           "baxis": {
            "gridcolor": "white",
            "linecolor": "white",
            "ticks": ""
           },
           "bgcolor": "#E5ECF6",
           "caxis": {
            "gridcolor": "white",
            "linecolor": "white",
            "ticks": ""
           }
          },
          "title": {
           "x": 0.05
          },
          "xaxis": {
           "automargin": true,
           "gridcolor": "white",
           "linecolor": "white",
           "ticks": "",
           "title": {
            "standoff": 15
           },
           "zerolinecolor": "white",
           "zerolinewidth": 2
          },
          "yaxis": {
           "automargin": true,
           "gridcolor": "white",
           "linecolor": "white",
           "ticks": "",
           "title": {
            "standoff": 15
           },
           "zerolinecolor": "white",
           "zerolinewidth": 2
          }
         }
        },
        "title": {
         "text": "Diabetes Pair Plot"
        }
       }
      }
     },
     "metadata": {},
     "output_type": "display_data"
    }
   ],
   "source": [
    "# pair plot\n",
    "fig = px.scatter_matrix(imputation_df,color='Outcome', title='Diabetes Pair Plot', dimensions=['BMI','Glucose','Insulin','DPF','SkinThickness'],\n",
    "labels={'Pregnancies' : 'Pg', 'Glucose':'Gc', 'BloodPressure':'BP', 'SkinThickness':'ST', 'Insulin':'Is',\n",
    "       'Outcome':'OC'})\n",
    "fig.show()"
   ]
  },
  {
   "cell_type": "code",
   "execution_count": 173,
   "metadata": {},
   "outputs": [
    {
     "data": {
      "text/plain": [
       "Index(['Pregnancies', 'Glucose', 'BloodPressure', 'SkinThickness', 'Insulin',\n",
       "       'BMI', 'DPF', 'Age', 'Outcome'],\n",
       "      dtype='object')"
      ]
     },
     "execution_count": 173,
     "metadata": {},
     "output_type": "execute_result"
    }
   ],
   "source": [
    "imputation_df.columns"
   ]
  },
  {
   "cell_type": "code",
   "execution_count": 179,
   "metadata": {},
   "outputs": [
    {
     "data": {
      "application/vnd.plotly.v1+json": {
       "config": {
        "plotlyServerURL": "https://plot.ly"
       },
       "data": [
        {
         "hovertemplate": "Age=21.0<br>SkinThickness=%{x}<br>Pregnancies=%{y}<br>BMI=%{marker.size}<br>Outcome=%{marker.color}<extra></extra>",
         "legendgroup": "",
         "marker": {
          "color": [
           1,
           0,
           0,
           0,
           0,
           0,
           0,
           0,
           0,
           0,
           0,
           0,
           0,
           1,
           1,
           0,
           0,
           0,
           0,
           0,
           0,
           0,
           1,
           0,
           1,
           0,
           0,
           0,
           0,
           0,
           0,
           0,
           0,
           0,
           0,
           0,
           0,
           0,
           0,
           0,
           0,
           0,
           0,
           0,
           0,
           0,
           0,
           0,
           0,
           0,
           0,
           0,
           0,
           0,
           0,
           0,
           0,
           0,
           0,
           0,
           0,
           0,
           0
          ],
          "coloraxis": "coloraxis",
          "size": [
           33.6,
           29.4,
           22.5,
           27.7,
           43.5,
           30.8,
           23,
           24.7,
           32.4,
           24.7,
           28.7,
           26.2,
           35.7,
           34.6,
           34.6,
           24.8,
           27.4,
           40.6,
           33.2,
           23.7,
           24.3,
           19.1,
           42.9,
           38.6,
           42.1,
           24.7,
           35.8,
           25.4,
           21.8,
           31,
           31.379999999999995,
           22.6,
           27.8,
           21,
           35.8,
           42.7,
           18.2,
           26,
           22.6,
           25.1,
           38.1,
           25.2,
           26.4,
           33.2,
           21.8,
           24.6,
           25.2,
           28.6,
           29.2,
           30.4,
           22.1,
           40.7,
           29.7,
           30.8,
           18.2,
           36.6,
           25.4,
           36.9,
           28.28,
           30.8,
           27.4,
           23.2,
           28.1
          ],
          "sizemode": "area",
          "sizeref": 0.16774999999999998,
          "symbol": "circle"
         },
         "mode": "markers",
         "name": "",
         "orientation": "v",
         "showlegend": false,
         "type": "scatter",
         "x": [
          35,
          24.2,
          26.6,
          20,
          27,
          32.4,
          10,
          18,
          30,
          22,
          29,
          22,
          32,
          35,
          29,
          14,
          28,
          46,
          27,
          14,
          21.2,
          14.4,
          28.4,
          30,
          46,
          18,
          22,
          8,
          13,
          16,
          23,
          15.2,
          19,
          17,
          32,
          31,
          19,
          18,
          26.6,
          17.2,
          36,
          32,
          20,
          50,
          18,
          15,
          19,
          23,
          24,
          23,
          17,
          41,
          23,
          26,
          15,
          17,
          10,
          29,
          23,
          22,
          27,
          15,
          23
         ],
         "xaxis": "x",
         "y": [
          1,
          2,
          0,
          1,
          0,
          2,
          1,
          0,
          0,
          4,
          1,
          1,
          2,
          0,
          0,
          0,
          1,
          0,
          1,
          1,
          1,
          1,
          2,
          1,
          0,
          2,
          0,
          1,
          0,
          0,
          0,
          3,
          1,
          0,
          1,
          3,
          1,
          2,
          2,
          0,
          1,
          2,
          0,
          1,
          3,
          2,
          2,
          1,
          1,
          2,
          0,
          1,
          2,
          0,
          1,
          2,
          1,
          0,
          0,
          2,
          0,
          4,
          1
         ],
         "yaxis": "y"
        }
       ],
       "frames": [
        {
         "data": [
          {
           "hovertemplate": "Age=21.0<br>SkinThickness=%{x}<br>Pregnancies=%{y}<br>BMI=%{marker.size}<br>Outcome=%{marker.color}<extra></extra>",
           "legendgroup": "",
           "marker": {
            "color": [
             1,
             0,
             0,
             0,
             0,
             0,
             0,
             0,
             0,
             0,
             0,
             0,
             0,
             1,
             1,
             0,
             0,
             0,
             0,
             0,
             0,
             0,
             1,
             0,
             1,
             0,
             0,
             0,
             0,
             0,
             0,
             0,
             0,
             0,
             0,
             0,
             0,
             0,
             0,
             0,
             0,
             0,
             0,
             0,
             0,
             0,
             0,
             0,
             0,
             0,
             0,
             0,
             0,
             0,
             0,
             0,
             0,
             0,
             0,
             0,
             0,
             0,
             0
            ],
            "coloraxis": "coloraxis",
            "size": [
             33.6,
             29.4,
             22.5,
             27.7,
             43.5,
             30.8,
             23,
             24.7,
             32.4,
             24.7,
             28.7,
             26.2,
             35.7,
             34.6,
             34.6,
             24.8,
             27.4,
             40.6,
             33.2,
             23.7,
             24.3,
             19.1,
             42.9,
             38.6,
             42.1,
             24.7,
             35.8,
             25.4,
             21.8,
             31,
             31.379999999999995,
             22.6,
             27.8,
             21,
             35.8,
             42.7,
             18.2,
             26,
             22.6,
             25.1,
             38.1,
             25.2,
             26.4,
             33.2,
             21.8,
             24.6,
             25.2,
             28.6,
             29.2,
             30.4,
             22.1,
             40.7,
             29.7,
             30.8,
             18.2,
             36.6,
             25.4,
             36.9,
             28.28,
             30.8,
             27.4,
             23.2,
             28.1
            ],
            "sizemode": "area",
            "sizeref": 0.16774999999999998,
            "symbol": "circle"
           },
           "mode": "markers",
           "name": "",
           "orientation": "v",
           "showlegend": false,
           "type": "scatter",
           "x": [
            35,
            24.2,
            26.6,
            20,
            27,
            32.4,
            10,
            18,
            30,
            22,
            29,
            22,
            32,
            35,
            29,
            14,
            28,
            46,
            27,
            14,
            21.2,
            14.4,
            28.4,
            30,
            46,
            18,
            22,
            8,
            13,
            16,
            23,
            15.2,
            19,
            17,
            32,
            31,
            19,
            18,
            26.6,
            17.2,
            36,
            32,
            20,
            50,
            18,
            15,
            19,
            23,
            24,
            23,
            17,
            41,
            23,
            26,
            15,
            17,
            10,
            29,
            23,
            22,
            27,
            15,
            23
           ],
           "xaxis": "x",
           "y": [
            1,
            2,
            0,
            1,
            0,
            2,
            1,
            0,
            0,
            4,
            1,
            1,
            2,
            0,
            0,
            0,
            1,
            0,
            1,
            1,
            1,
            1,
            2,
            1,
            0,
            2,
            0,
            1,
            0,
            0,
            0,
            3,
            1,
            0,
            1,
            3,
            1,
            2,
            2,
            0,
            1,
            2,
            0,
            1,
            3,
            2,
            2,
            1,
            1,
            2,
            0,
            1,
            2,
            0,
            1,
            2,
            1,
            0,
            0,
            2,
            0,
            4,
            1
           ],
           "yaxis": "y"
          }
         ],
         "name": "21.0"
        },
        {
         "data": [
          {
           "hovertemplate": "Age=22.0<br>SkinThickness=%{x}<br>Pregnancies=%{y}<br>BMI=%{marker.size}<br>Outcome=%{marker.color}<extra></extra>",
           "legendgroup": "",
           "marker": {
            "color": [
             0,
             0,
             0,
             0,
             0,
             0,
             0,
             0,
             0,
             1,
             0,
             1,
             0,
             0,
             0,
             0,
             0,
             1,
             0,
             0,
             0,
             0,
             0,
             0,
             0,
             0,
             0,
             1,
             0,
             0,
             0,
             0,
             0,
             0,
             0,
             0,
             1,
             0,
             0,
             1,
             0,
             0,
             0,
             1,
             0,
             0,
             1,
             0,
             0,
             0,
             0,
             1,
             0,
             0,
             0,
             0,
             0,
             0,
             0,
             1,
             1,
             0,
             0,
             0,
             0,
             0,
             0,
             0,
             0,
             0,
             0,
             0
            ],
            "coloraxis": "coloraxis",
            "size": [
             27.8,
             38.8,
             33.2,
             26.1,
             20,
             32.5,
             28.7,
             29,
             28.2,
             34.3,
             26.1,
             33.6,
             27.3,
             32.2,
             42.4,
             32.5,
             30,
             35.7,
             27.2,
             37.2,
             29.8,
             30.8,
             20.4,
             26.660000000000004,
             32,
             34.7,
             21.8,
             42.9,
             29.5,
             57.3,
             24.8,
             25.3,
             24.2,
             44.6,
             23.2,
             23.1,
             44,
             33.1,
             34.4,
             25.6,
             32.4,
             22.9,
             30.1,
             28.4,
             29,
             28.5,
             31.2,
             28.4,
             25,
             34.2,
             25.4,
             37.8,
             25.2,
             24.6,
             27.420000000000005,
             22.4,
             22.5,
             24.7,
             27.5,
             32,
             40,
             34.6,
             28.7,
             32,
             27.3,
             41.5,
             25.9,
             23.9,
             19.4,
             39.4,
             27.5,
             28
            ],
            "sizemode": "area",
            "sizeref": 0.16774999999999998,
            "symbol": "circle"
           },
           "mode": "markers",
           "name": "",
           "orientation": "v",
           "showlegend": false,
           "type": "scatter",
           "x": [
            10,
            27,
            38,
            14,
            22,
            26,
            25,
            19,
            23,
            40,
            25.8,
            37,
            20.6,
            23,
            23,
            25,
            11,
            33,
            21,
            37,
            18,
            31,
            18,
            22.4,
            30,
            17,
            35,
            43,
            31,
            35,
            11,
            10,
            28,
            39,
            15,
            19.8,
            41.4,
            32,
            21,
            31.6,
            26,
            30.8,
            22.4,
            25.2,
            27,
            18,
            36,
            26,
            17.6,
            28,
            25,
            36,
            15,
            28,
            22.6,
            13,
            11,
            20,
            16,
            14,
            42,
            27,
            19,
            35,
            17,
            41,
            13,
            18,
            11,
            37,
            17,
            27
           ],
           "xaxis": "x",
           "y": [
            0,
            0,
            0,
            2,
            0,
            2,
            0,
            2,
            4,
            0,
            1,
            0,
            2,
            2,
            1,
            3,
            1,
            3,
            1,
            1,
            2,
            0,
            1,
            3,
            1,
            2,
            2,
            1,
            3,
            3,
            3,
            2,
            2,
            0,
            1,
            3,
            4,
            4,
            2,
            3,
            0,
            2,
            2,
            8,
            2,
            1,
            4,
            2,
            0,
            1,
            1,
            0,
            0,
            0,
            2,
            3,
            1,
            1,
            3,
            0,
            1,
            1,
            1,
            1,
            2,
            0,
            1,
            1,
            1,
            0,
            1,
            2
           ],
           "yaxis": "y"
          }
         ],
         "name": "22.0"
        },
        {
         "data": [
          {
           "hovertemplate": "Age=23.0<br>SkinThickness=%{x}<br>Pregnancies=%{y}<br>BMI=%{marker.size}<br>Outcome=%{marker.color}<extra></extra>",
           "legendgroup": "",
           "marker": {
            "color": [
             0,
             0,
             0,
             1,
             0,
             1,
             1,
             1,
             0,
             0,
             0,
             0,
             0,
             0,
             0,
             0,
             0,
             0,
             0,
             0,
             0,
             0,
             0,
             0,
             1,
             0,
             0,
             0,
             0,
             1,
             0,
             0,
             0,
             0,
             0,
             0,
             0,
             1
            ],
            "coloraxis": "coloraxis",
            "size": [
             43.5,
             40.6,
             30.1,
             28.9,
             52.3,
             22.9,
             44.1,
             45.5,
             29.7,
             22.2,
             21.2,
             34.9,
             27.8,
             25.2,
             23.5,
             30.4,
             33.3,
             30.1,
             29.9,
             24,
             28.7,
             20.1,
             26.2,
             36.3,
             32.9,
             31.6,
             25.2,
             31.2,
             33.6,
             33.3,
             26.4,
             35.1,
             24.1,
             24.2,
             38.2,
             32.8,
             39.1,
             38
            ],
            "sizemode": "area",
            "sizeref": 0.16774999999999998,
            "symbol": "circle"
           },
           "mode": "markers",
           "name": "",
           "orientation": "v",
           "showlegend": false,
           "type": "scatter",
           "x": [
            42,
            42,
            19,
            38.2,
            33,
            13,
            27,
            36,
            28,
            20.4,
            13,
            18,
            23,
            21,
            16,
            31,
            36,
            30,
            24,
            13,
            30,
            13,
            16,
            37,
            37.4,
            18,
            25,
            34,
            30,
            28.2,
            25,
            20,
            26,
            17,
            31,
            31,
            32,
            32
           ],
           "xaxis": "x",
           "y": [
            1,
            1,
            1,
            2,
            0,
            3,
            0,
            2,
            3,
            2,
            1,
            0,
            0,
            1,
            3,
            1,
            1,
            1,
            1,
            1,
            6,
            2,
            2,
            0,
            4,
            2,
            1,
            1,
            2,
            0,
            0,
            4,
            1,
            2,
            0,
            4,
            2,
            2
           ],
           "yaxis": "y"
          }
         ],
         "name": "23.0"
        },
        {
         "data": [
          {
           "hovertemplate": "Age=24.0<br>SkinThickness=%{x}<br>Pregnancies=%{y}<br>BMI=%{marker.size}<br>Outcome=%{marker.color}<extra></extra>",
           "legendgroup": "",
           "marker": {
            "color": [
             1,
             0,
             0,
             0,
             0,
             0,
             0,
             0,
             0,
             0,
             1,
             0,
             0,
             0,
             0,
             0,
             0,
             0,
             0,
             1,
             0,
             0,
             1,
             1,
             0,
             0,
             0,
             0,
             1,
             0,
             0,
             0,
             1,
             0,
             0,
             0,
             0,
             0,
             0,
             0,
             0,
             0,
             0,
             0,
             0,
             1
            ],
            "coloraxis": "coloraxis",
            "size": [
             44.5,
             30.9,
             25.4,
             25.9,
             42.8,
             27.2,
             27.1,
             37.4,
             24.4,
             32.1,
             32.4,
             34.8,
             34.5,
             25.6,
             40,
             35.5,
             31.2,
             34.3,
             39.4,
             37.2,
             30.7,
             45.2,
             40.5,
             42.6,
             31.800000000000004,
             30.2,
             36.8,
             33.2,
             33.3,
             45.3,
             34.2,
             26.6,
             42.3,
             28.9,
             33.3,
             22.3,
             26.3,
             31.6,
             37.6,
             25.6,
             30.8,
             26.5,
             37.8,
             25,
             31.6,
             37.4
            ],
            "sizemode": "area",
            "sizeref": 0.16774999999999998,
            "symbol": "circle"
           },
           "mode": "markers",
           "name": "",
           "orientation": "v",
           "showlegend": false,
           "type": "scatter",
           "x": [
            37,
            21,
            34,
            16,
            54,
            12,
            19,
            50,
            14,
            32,
            28.2,
            45,
            40,
            21,
            42,
            46,
            13,
            25.2,
            50,
            38,
            29,
            31,
            45,
            26,
            26.4,
            28,
            28,
            27,
            33,
            39.2,
            39,
            18,
            42,
            24.8,
            30,
            13,
            15,
            28,
            34,
            19,
            30,
            19,
            28,
            22,
            25.2,
            25
           ],
           "xaxis": "x",
           "y": [
            2,
            3,
            2,
            1,
            0,
            1,
            1,
            1,
            2,
            4,
            0,
            1,
            0,
            1,
            2,
            1,
            3,
            4,
            2,
            3,
            0,
            0,
            1,
            0,
            7,
            5,
            2,
            4,
            3,
            0,
            6,
            1,
            0,
            4,
            1,
            1,
            3,
            2,
            1,
            3,
            1,
            1,
            2,
            2,
            3,
            0
           ],
           "yaxis": "y"
          }
         ],
         "name": "24.0"
        },
        {
         "data": [
          {
           "hovertemplate": "Age=25.0<br>SkinThickness=%{x}<br>Pregnancies=%{y}<br>BMI=%{marker.size}<br>Outcome=%{marker.color}<extra></extra>",
           "legendgroup": "",
           "marker": {
            "color": [
             0,
             1,
             0,
             0,
             0,
             1,
             0,
             0,
             1,
             0,
             0,
             0,
             0,
             0,
             1,
             0,
             0,
             0,
             0,
             0,
             0,
             0,
             0,
             1,
             1,
             0,
             0,
             0,
             1,
             0,
             1,
             0,
             0,
             1,
             0,
             1,
             0,
             1,
             0,
             0,
             0,
             0,
             1,
             1,
             1,
             0,
             0,
             0
            ],
            "coloraxis": "coloraxis",
            "size": [
             33.2,
             36,
             28.7,
             21.1,
             23.5,
             59.4,
             30.1,
             36.1,
             36.3,
             26,
             39.9,
             36.8,
             40.5,
             35.3,
             31.6,
             25,
             35.5,
             28.5,
             19.5,
             24.3,
             27.7,
             31.9,
             21.1,
             34.9,
             36.6,
             32.7,
             21.9,
             34.4,
             31.6,
             29.5,
             30.5,
             34.9,
             29.660000000000004,
             38.7,
             39.5,
             38.4,
             25.1,
             35.8,
             34,
             27.7,
             28.9,
             33.7,
             42,
             53.2,
             31.6,
             34.3,
             19.6,
             35.8
            ],
            "sizemode": "area",
            "sizeref": 0.16774999999999998,
            "symbol": "circle"
           },
           "mode": "markers",
           "name": "",
           "orientation": "v",
           "showlegend": false,
           "type": "scatter",
           "x": [
            26,
            27.6,
            22,
            18.6,
            16.8,
            63,
            15,
            29,
            35.8,
            24,
            32,
            36,
            52,
            29,
            33,
            32,
            47,
            22,
            25,
            24,
            24,
            30,
            17.4,
            31,
            30,
            16,
            22.8,
            30,
            30,
            10,
            19,
            40,
            27.8,
            27,
            23,
            48,
            18,
            41,
            30.4,
            22,
            23,
            23.4,
            39,
            56,
            35,
            31,
            13,
            32
           ],
           "xaxis": "x",
           "y": [
            2,
            3,
            2,
            0,
            2,
            0,
            2,
            1,
            0,
            3,
            0,
            0,
            2,
            0,
            2,
            2,
            1,
            2,
            1,
            1,
            2,
            3,
            3,
            3,
            0,
            2,
            0,
            1,
            3,
            3,
            0,
            2,
            0,
            2,
            4,
            3,
            1,
            5,
            4,
            2,
            2,
            5,
            0,
            0,
            5,
            3,
            1,
            0
           ],
           "yaxis": "y"
          }
         ],
         "name": "25.0"
        },
        {
         "data": [
          {
           "hovertemplate": "Age=26.0<br>SkinThickness=%{x}<br>Pregnancies=%{y}<br>BMI=%{marker.size}<br>Outcome=%{marker.color}<extra></extra>",
           "legendgroup": "",
           "marker": {
            "color": [
             0,
             1,
             0,
             0,
             1,
             1,
             0,
             0,
             0,
             0,
             0,
             0,
             0,
             0,
             0,
             0,
             0,
             0,
             0,
             0,
             0,
             1,
             0,
             0,
             0,
             1,
             0,
             1,
             1,
             0,
             0,
             1,
             0
            ],
            "coloraxis": "coloraxis",
            "size": [
             21.1,
             31,
             20.8,
             45.3,
             43.6,
             55,
             21.8,
             47.9,
             42.1,
             32.5,
             34.1,
             30.5,
             30.8,
             36.5,
             35.7,
             23.6,
             35.9,
             44.5,
             34,
             23.1,
             37.5,
             43.2,
             38.5,
             24.2,
             33.2,
             43.3,
             33.879999999999995,
             49.6,
             34.8,
             40.6,
             21.8,
             67.1,
             28.6
            ],
            "sizemode": "area",
            "sizeref": 0.16774999999999998,
            "symbol": "circle"
           },
           "mode": "markers",
           "name": "",
           "orientation": "v",
           "showlegend": false,
           "type": "scatter",
           "x": [
            13,
            32,
            17,
            41,
            36.6,
            42,
            19,
            43,
            32,
            28,
            22,
            18,
            20,
            45,
            36.6,
            15,
            27,
            33,
            25,
            18,
            34.6,
            35.6,
            25,
            15,
            33,
            44,
            29.2,
            36,
            44,
            46,
            24.8,
            46,
            35
           ],
           "xaxis": "x",
           "y": [
            2,
            3,
            4,
            1,
            4,
            1,
            3,
            0,
            2,
            6,
            2,
            0,
            3,
            0,
            0,
            1,
            2,
            4,
            3,
            1,
            1,
            0,
            2,
            1,
            3,
            0,
            6,
            0,
            4,
            0,
            1,
            0,
            5
           ],
           "yaxis": "y"
          }
         ],
         "name": "26.0"
        },
        {
         "data": [
          {
           "hovertemplate": "Age=27.0<br>SkinThickness=%{x}<br>Pregnancies=%{y}<br>BMI=%{marker.size}<br>Outcome=%{marker.color}<extra></extra>",
           "legendgroup": "",
           "marker": {
            "color": [
             0,
             1,
             0,
             0,
             0,
             0,
             0,
             0,
             0,
             0,
             1,
             0,
             0,
             1,
             0,
             0,
             0,
             0,
             1,
             0,
             0,
             1,
             0,
             1,
             0,
             0,
             1,
             0,
             0,
             0,
             1,
             0
            ],
            "coloraxis": "coloraxis",
            "size": [
             22.4,
             38.2,
             37.7,
             25.8,
             28.4,
             39.3,
             23.9,
             44.2,
             18.2,
             20.4,
             32.3,
             26.8,
             28.9,
             45.7,
             41.5,
             26.8,
             33.8,
             25,
             34.2,
             18.4,
             46.1,
             49.3,
             36.8,
             30,
             29.3,
             39.6,
             26.6,
             32.4,
             32.4,
             27.6,
             32.4,
             28
            ],
            "sizemode": "area",
            "sizeref": 0.16774999999999998,
            "symbol": "circle"
           },
           "mode": "markers",
           "name": "",
           "orientation": "v",
           "showlegend": false,
           "type": "scatter",
           "x": [
            26.4,
            42,
            33,
            25.4,
            20,
            41,
            28,
            34,
            21.2,
            16,
            32.8,
            17.4,
            27,
            31.8,
            39,
            23.4,
            23,
            27,
            31,
            14.6,
            41,
            41,
            27,
            28.8,
            17,
            33.8,
            17,
            29,
            29.8,
            30,
            25,
            23.4
           ],
           "xaxis": "x",
           "y": [
            1,
            2,
            5,
            3,
            4,
            3,
            5,
            0,
            1,
            2,
            4,
            2,
            4,
            5,
            0,
            5,
            1,
            6,
            3,
            0,
            6,
            1,
            2,
            3,
            0,
            2,
            2,
            2,
            0,
            3,
            3,
            2
           ],
           "yaxis": "y"
          }
         ],
         "name": "27.0"
        },
        {
         "data": [
          {
           "hovertemplate": "Age=28.0<br>SkinThickness=%{x}<br>Pregnancies=%{y}<br>BMI=%{marker.size}<br>Outcome=%{marker.color}<extra></extra>",
           "legendgroup": "",
           "marker": {
            "color": [
             1,
             1,
             0,
             0,
             0,
             1,
             0,
             0,
             0,
             0,
             1,
             0,
             0,
             0,
             0,
             0,
             1,
             0,
             0,
             0,
             1,
             0,
             0,
             0,
             0,
             0,
             0,
             1,
             0,
             0,
             1,
             1,
             0,
             0,
             1
            ],
            "coloraxis": "coloraxis",
            "size": [
             33.3,
             26.4,
             24.2,
             19.5,
             39.8,
             32.9,
             33.1,
             34.5,
             36.9,
             37.2,
             37.9,
             39,
             27.8,
             34.1,
             40.1,
             38.1,
             31.6,
             36.9,
             25.6,
             29.9,
             31.6,
             35.4,
             23.7,
             25.3,
             41.3,
             19.9,
             31.6,
             52.9,
             38.4,
             35.7,
             41.3,
             27.5,
             35.5,
             36.2,
             42.4
            ],
            "sizemode": "area",
            "sizeref": 0.16774999999999998,
            "symbol": "circle"
           },
           "mode": "markers",
           "name": "",
           "orientation": "v",
           "showlegend": false,
           "type": "scatter",
           "x": [
            40,
            29,
            20,
            12,
            36,
            20,
            21,
            11,
            23,
            32,
            35.8,
            39,
            22,
            40,
            37.8,
            39,
            36,
            29,
            17,
            27,
            18,
            32,
            17.2,
            12,
            40,
            16.4,
            23,
            37.8,
            42,
            39,
            32,
            28.8,
            31,
            43,
            49
           ],
           "xaxis": "x",
           "y": [
            1,
            3,
            2,
            1,
            6,
            2,
            4,
            4,
            1,
            3,
            0,
            1,
            4,
            5,
            1,
            3,
            3,
            5,
            4,
            5,
            3,
            4,
            6,
            1,
            1,
            6,
            3,
            5,
            2,
            6,
            0,
            2,
            6,
            2,
            1
           ],
           "yaxis": "y"
          }
         ],
         "name": "28.0"
        },
        {
         "data": [
          {
           "hovertemplate": "Age=29.0<br>SkinThickness=%{x}<br>Pregnancies=%{y}<br>BMI=%{marker.size}<br>Outcome=%{marker.color}<extra></extra>",
           "legendgroup": "",
           "marker": {
            "color": [
             0,
             0,
             1,
             1,
             0,
             1,
             1,
             1,
             0,
             0,
             0,
             0,
             0,
             0,
             0,
             1,
             0,
             0,
             1,
             1,
             0,
             0,
             1,
             0,
             1,
             1,
             0,
             1,
             1
            ],
            "coloraxis": "coloraxis",
            "size": [
             35.2,
             29.7,
             26.5,
             39.4,
             38.2,
             33.7,
             30.5,
             31.2,
             28.3,
             24.3,
             35.3,
             31.9,
             41.3,
             39.7,
             32,
             30.9,
             28.4,
             25.6,
             28,
             35.4,
             35,
             42.2,
             45.6,
             31.2,
             36.5,
             29,
             37.7,
             27.6,
             42.4
            ],
            "sizemode": "area",
            "sizeref": 0.16774999999999998,
            "symbol": "circle"
           },
           "mode": "markers",
           "name": "",
           "orientation": "v",
           "showlegend": false,
           "type": "scatter",
           "x": [
            37,
            30.6,
            24,
            41,
            35,
            45,
            34,
            33,
            19,
            21.6,
            34.4,
            33.6,
            52,
            37,
            29,
            27,
            12,
            28.2,
            38,
            23,
            31.4,
            37.8,
            39,
            29.6,
            36,
            35,
            47,
            29.4,
            39.8
           ],
           "xaxis": "x",
           "y": [
            0,
            1,
            7,
            5,
            2,
            2,
            3,
            5,
            1,
            6,
            10,
            4,
            1,
            2,
            1,
            4,
            3,
            2,
            2,
            6,
            4,
            4,
            1,
            0,
            1,
            9,
            4,
            6,
            0
           ],
           "yaxis": "y"
          }
         ],
         "name": "29.0"
        },
        {
         "data": [
          {
           "hovertemplate": "Age=30.0<br>SkinThickness=%{x}<br>Pregnancies=%{y}<br>BMI=%{marker.size}<br>Outcome=%{marker.color}<extra></extra>",
           "legendgroup": "",
           "marker": {
            "color": [
             0,
             1,
             0,
             1,
             0,
             0,
             0,
             0,
             1,
             1,
             0,
             0,
             1,
             0,
             0,
             0,
             1,
             0,
             0,
             0,
             0
            ],
            "coloraxis": "coloraxis",
            "size": [
             39.4,
             29.7,
             26,
             34.5,
             28.7,
             30.1,
             34,
             24.4,
             32.9,
             32.3,
             25.6,
             27.8,
             35.1,
             19.3,
             38.1,
             31.2,
             28.880000000000003,
             34.9,
             37.6,
             42.9,
             26.2
            ],
            "sizemode": "area",
            "sizeref": 0.16774999999999998,
            "symbol": "circle"
           },
           "mode": "markers",
           "name": "",
           "orientation": "v",
           "showlegend": false,
           "type": "scatter",
           "x": [
            35,
            12,
            22.2,
            37,
            24,
            39,
            28,
            21,
            28,
            29.2,
            20.6,
            36,
            32,
            11,
            40,
            28.8,
            26.2,
            25,
            28.4,
            30,
            23
           ],
           "xaxis": "x",
           "y": [
            2,
            4,
            5,
            3,
            6,
            3,
            5,
            5,
            2,
            0,
            5,
            1,
            1,
            3,
            1,
            4,
            10,
            4,
            4,
            3,
            5
           ],
           "yaxis": "y"
          }
         ],
         "name": "30.0"
        },
        {
         "data": [
          {
           "hovertemplate": "Age=31.0<br>SkinThickness=%{x}<br>Pregnancies=%{y}<br>BMI=%{marker.size}<br>Outcome=%{marker.color}<extra></extra>",
           "legendgroup": "",
           "marker": {
            "color": [
             1,
             1,
             0,
             1,
             0,
             0,
             0,
             1,
             0,
             1,
             0,
             0,
             1,
             1,
             0,
             1,
             0,
             1,
             0,
             1,
             0,
             1,
             1,
             1
            ],
            "coloraxis": "coloraxis",
            "size": [
             39.1,
             32,
             27.5,
             32.9,
             36.8,
             36.7,
             28,
             43.3,
             29.8,
             45.8,
             46.8,
             33.8,
             33.8,
             29.6,
             24.6,
             37,
             26.6,
             44.2,
             25.9,
             30.9,
             23.8,
             27.9,
             29.9,
             49.7
            ],
            "sizemode": "area",
            "sizeref": 0.16774999999999998,
            "symbol": "circle"
           },
           "mode": "markers",
           "name": "",
           "orientation": "v",
           "showlegend": false,
           "type": "scatter",
           "x": [
            32,
            34.4,
            12,
            31.6,
            37.6,
            39,
            22.8,
            37,
            24.8,
            47,
            60,
            20,
            39,
            26.6,
            22.8,
            39,
            29,
            39.8,
            18.4,
            33.4,
            17,
            39,
            19,
            51
           ],
           "xaxis": "x",
           "y": [
            7,
            4,
            4,
            4,
            6,
            4,
            4,
            2,
            6,
            0,
            0,
            2,
            3,
            7,
            0,
            4,
            1,
            0,
            10,
            6,
            7,
            8,
            3,
            1
           ],
           "yaxis": "y"
          }
         ],
         "name": "31.0"
        },
        {
         "data": [
          {
           "hovertemplate": "Age=32.0<br>SkinThickness=%{x}<br>Pregnancies=%{y}<br>BMI=%{marker.size}<br>Outcome=%{marker.color}<extra></extra>",
           "legendgroup": "",
           "marker": {
            "color": [
             0,
             0,
             1,
             1,
             1,
             0,
             1,
             1,
             1,
             1,
             0,
             0,
             0,
             1,
             0,
             1
            ],
            "coloraxis": "coloraxis",
            "size": [
             26.9,
             46.3,
             23.3,
             30.8,
             40.9,
             29,
             31.6,
             36.4,
             30,
             29,
             30,
             23.2,
             29.5,
             48.3,
             27.3,
             34.6
            ],
            "sizemode": "area",
            "sizeref": 0.16774999999999998,
            "symbol": "circle"
           },
           "mode": "markers",
           "name": "",
           "orientation": "v",
           "showlegend": false,
           "type": "scatter",
           "x": [
            19,
            41,
            33,
            21,
            32,
            27,
            33.6,
            49,
            29,
            22,
            30,
            22.4,
            24.8,
            38.6,
            20,
            30
           ],
           "xaxis": "x",
           "y": [
            6,
            1,
            8,
            9,
            7,
            5,
            0,
            3,
            7,
            5,
            6,
            6,
            3,
            4,
            0,
            1
           ],
           "yaxis": "y"
          }
         ],
         "name": "32.0"
        },
        {
         "data": [
          {
           "hovertemplate": "Age=33.0<br>SkinThickness=%{x}<br>Pregnancies=%{y}<br>BMI=%{marker.size}<br>Outcome=%{marker.color}<extra></extra>",
           "legendgroup": "",
           "marker": {
            "color": [
             0,
             1,
             0,
             1,
             1,
             1,
             0,
             1,
             1,
             1,
             0,
             1,
             0,
             1,
             0,
             0,
             1
            ],
            "coloraxis": "coloraxis",
            "size": [
             22.5,
             32,
             24,
             29.7,
             34.3,
             27.1,
             43.3,
             33.3,
             30.5,
             43.1,
             34.7,
             34.2,
             32.8,
             39,
             36.1,
             29.7,
             23.4
            ],
            "sizemode": "area",
            "sizeref": 0.16774999999999998,
            "symbol": "circle"
           },
           "mode": "markers",
           "name": "",
           "orientation": "v",
           "showlegend": false,
           "type": "scatter",
           "x": [
            19.8,
            41,
            33,
            14,
            30,
            22,
            38,
            31.2,
            27.2,
            35,
            28.6,
            34,
            38,
            35,
            43,
            24,
            17
           ],
           "xaxis": "x",
           "y": [
            9,
            1,
            4,
            4,
            0,
            6,
            1,
            9,
            8,
            0,
            5,
            9,
            4,
            1,
            5,
            2,
            1
           ],
           "yaxis": "y"
          }
         ],
         "name": "33.0"
        },
        {
         "data": [
          {
           "hovertemplate": "Age=34.0<br>SkinThickness=%{x}<br>Pregnancies=%{y}<br>BMI=%{marker.size}<br>Outcome=%{marker.color}<extra></extra>",
           "legendgroup": "",
           "marker": {
            "color": [
             0,
             0,
             0,
             1,
             1,
             0,
             0,
             1,
             1,
             0,
             0,
             0,
             0,
             0
            ],
            "coloraxis": "coloraxis",
            "size": [
             33.6,
             32,
             24.6,
             28.4,
             38,
             38.7,
             29.6,
             33.9,
             27.4,
             29.3,
             35.4,
             24,
             30.9,
             30.5
            ],
            "sizemode": "area",
            "sizeref": 0.16774999999999998,
            "symbol": "circle"
           },
           "mode": "markers",
           "name": "",
           "orientation": "v",
           "showlegend": false,
           "type": "scatter",
           "x": [
            45,
            15,
            25.2,
            23,
            31,
            44,
            29.6,
            33,
            25.8,
            19,
            33,
            24,
            15,
            35
           ],
           "xaxis": "x",
           "y": [
            6,
            4,
            8,
            3,
            10,
            5,
            4,
            7,
            7,
            4,
            9,
            10,
            3,
            2
           ],
           "yaxis": "y"
          }
         ],
         "name": "34.0"
        },
        {
         "data": [
          {
           "hovertemplate": "Age=35.0<br>SkinThickness=%{x}<br>Pregnancies=%{y}<br>BMI=%{marker.size}<br>Outcome=%{marker.color}<extra></extra>",
           "legendgroup": "",
           "marker": {
            "color": [
             1,
             0,
             1,
             1,
             0,
             0,
             0,
             0,
             1,
             1
            ],
            "coloraxis": "coloraxis",
            "size": [
             35.5,
             43.4,
             36.5,
             32,
             30.1,
             35.8,
             33.2,
             24,
             32.3,
             35
            ],
            "sizemode": "area",
            "sizeref": 0.16774999999999998,
            "symbol": "circle"
           },
           "mode": "markers",
           "name": "",
           "orientation": "v",
           "showlegend": false,
           "type": "scatter",
           "x": [
            30,
            39,
            26,
            29.6,
            25,
            41,
            33,
            20,
            29,
            41
           ],
           "xaxis": "x",
           "y": [
            3,
            0,
            0,
            4,
            11,
            5,
            11,
            6,
            5,
            5
           ],
           "yaxis": "y"
          }
         ],
         "name": "35.0"
        },
        {
         "data": [
          {
           "hovertemplate": "Age=36.0<br>SkinThickness=%{x}<br>Pregnancies=%{y}<br>BMI=%{marker.size}<br>Outcome=%{marker.color}<extra></extra>",
           "legendgroup": "",
           "marker": {
            "color": [
             1,
             1,
             0,
             1,
             0,
             1,
             1,
             0,
             1,
             1,
             0,
             0,
             1,
             1,
             1,
             0
            ],
            "coloraxis": "coloraxis",
            "size": [
             28.4,
             27.4,
             25,
             34.2,
             25.9,
             30.4,
             32.7,
             27,
             30.8,
             42.9,
             29.3,
             24.5,
             32.9,
             50,
             36.4,
             29.7
            ],
            "sizemode": "area",
            "sizeref": 0.16774999999999998,
            "symbol": "circle"
           },
           "mode": "markers",
           "name": "",
           "orientation": "v",
           "showlegend": false,
           "type": "scatter",
           "x": [
            32.4,
            20,
            28.8,
            32,
            21,
            34,
            42,
            29.6,
            30,
            32,
            26,
            8,
            22,
            44,
            22,
            38
           ],
           "xaxis": "x",
           "y": [
            4,
            0,
            5,
            9,
            1,
            7,
            8,
            10,
            6,
            8,
            7,
            1,
            3,
            7,
            3,
            4
           ],
           "yaxis": "y"
          }
         ],
         "name": "36.0"
        },
        {
         "data": [
          {
           "hovertemplate": "Age=37.0<br>SkinThickness=%{x}<br>Pregnancies=%{y}<br>BMI=%{marker.size}<br>Outcome=%{marker.color}<extra></extra>",
           "legendgroup": "",
           "marker": {
            "color": [
             1,
             0,
             0,
             1,
             0,
             0,
             0,
             0,
             0,
             0,
             1,
             1,
             0,
             0,
             0,
             0,
             1,
             1,
             0
            ],
            "coloraxis": "coloraxis",
            "size": [
             36.5,
             25.5,
             32.4,
             48.8,
             30.8,
             35.1,
             28.5,
             25.2,
             21,
             29.5,
             34.5,
             39.1,
             27.6,
             21.9,
             40.2,
             22.1,
             41,
             38.5,
             31.3
            ],
            "sizemode": "area",
            "sizeref": 0.16774999999999998,
            "symbol": "circle"
           },
           "mode": "markers",
           "name": "",
           "orientation": "v",
           "showlegend": false,
           "type": "scatter",
           "x": [
            39,
            33,
            15,
            37.6,
            32,
            34.8,
            31,
            25.6,
            29,
            28,
            35,
            33.6,
            30,
            20.8,
            32,
            12,
            32,
            32,
            29
           ],
           "xaxis": "x",
           "y": [
            1,
            7,
            7,
            5,
            6,
            10,
            4,
            7,
            3,
            4,
            8,
            5,
            5,
            4,
            7,
            4,
            5,
            4,
            4
           ],
           "yaxis": "y"
          }
         ],
         "name": "37.0"
        },
        {
         "data": [
          {
           "hovertemplate": "Age=38.0<br>SkinThickness=%{x}<br>Pregnancies=%{y}<br>BMI=%{marker.size}<br>Outcome=%{marker.color}<extra></extra>",
           "legendgroup": "",
           "marker": {
            "color": [
             1,
             1,
             1,
             1,
             1,
             0,
             1,
             0,
             0,
             0,
             0,
             1,
             0,
             1,
             1,
             1
            ],
            "coloraxis": "coloraxis",
            "size": [
             34,
             30,
             45.6,
             31.2,
             33.6,
             30.4,
             34.1,
             33.3,
             39.5,
             31.6,
             39.4,
             32.5,
             34.1,
             41.2,
             41.8,
             36.8
            ],
            "sizemode": "area",
            "sizeref": 0.16774999999999998,
            "symbol": "circle"
           },
           "mode": "markers",
           "name": "",
           "orientation": "v",
           "showlegend": false,
           "type": "scatter",
           "x": [
            31.6,
            29.2,
            37,
            37.2,
            30,
            16,
            30,
            28.6,
            30,
            25,
            40,
            30,
            25.6,
            36,
            40,
            35.2
           ],
           "xaxis": "x",
           "y": [
            5,
            8,
            10,
            13,
            14,
            3,
            1,
            10,
            5,
            9,
            4,
            0,
            5,
            10,
            12,
            1
           ],
           "yaxis": "y"
          }
         ],
         "name": "38.0"
        },
        {
         "data": [
          {
           "hovertemplate": "Age=39.0<br>SkinThickness=%{x}<br>Pregnancies=%{y}<br>BMI=%{marker.size}<br>Outcome=%{marker.color}<extra></extra>",
           "legendgroup": "",
           "marker": {
            "color": [
             0,
             1,
             0,
             0,
             0,
             0,
             0,
             1,
             0,
             0,
             0,
             1
            ],
            "coloraxis": "coloraxis",
            "size": [
             25.9,
             30.5,
             32,
             32.5,
             35.3,
             35.9,
             29.3,
             32.9,
             38.3,
             24.7,
             40.6,
             25.9
            ],
            "sizemode": "area",
            "sizeref": 0.16774999999999998,
            "symbol": "circle"
           },
           "mode": "markers",
           "name": "",
           "orientation": "v",
           "showlegend": false,
           "type": "scatter",
           "x": [
            38,
            32,
            41,
            33.2,
            40,
            28,
            32,
            31.8,
            31,
            34,
            37,
            33
           ],
           "xaxis": "x",
           "y": [
            8,
            7,
            7,
            3,
            8,
            10,
            6,
            8,
            8,
            3,
            13,
            8
           ],
           "yaxis": "y"
          }
         ],
         "name": "39.0"
        },
        {
         "data": [
          {
           "hovertemplate": "Age=40.0<br>SkinThickness=%{x}<br>Pregnancies=%{y}<br>BMI=%{marker.size}<br>Outcome=%{marker.color}<extra></extra>",
           "legendgroup": "",
           "marker": {
            "color": [
             0,
             1,
             1,
             1,
             0,
             1,
             1,
             0,
             0,
             1,
             0,
             0,
             0
            ],
            "coloraxis": "coloraxis",
            "size": [
             27.4,
             33.7,
             37.9,
             38.2,
             29.6,
             27.5,
             34.5,
             33.1,
             27.6,
             52.3,
             33.9,
             37.3,
             23
            ],
            "sizemode": "area",
            "sizeref": 0.16774999999999998,
            "symbol": "circle"
           },
           "mode": "markers",
           "name": "",
           "orientation": "v",
           "showlegend": false,
           "type": "scatter",
           "x": [
            28.4,
            39,
            46,
            42,
            27,
            27,
            24,
            44,
            28.6,
            34.4,
            27,
            39,
            28.2
           ],
           "xaxis": "x",
           "y": [
            7,
            6,
            9,
            7,
            5,
            10,
            1,
            9,
            4,
            11,
            6,
            3,
            3
           ],
           "yaxis": "y"
          }
         ],
         "name": "40.0"
        },
        {
         "data": [
          {
           "hovertemplate": "Age=41.0<br>SkinThickness=%{x}<br>Pregnancies=%{y}<br>BMI=%{marker.size}<br>Outcome=%{marker.color}<extra></extra>",
           "legendgroup": "",
           "marker": {
            "color": [
             1,
             1,
             0,
             0,
             1,
             0,
             0,
             0,
             0,
             1,
             1,
             1,
             1,
             0,
             1,
             1,
             1,
             1,
             1,
             0,
             1,
             0
            ],
            "coloraxis": "coloraxis",
            "size": [
             35.9,
             29.9,
             37.4,
             32.8,
             32.9,
             38.9,
             32.6,
             33.3,
             31.2,
             34.3,
             37.7,
             34.9,
             39.8,
             38.5,
             35.5,
             39.9,
             43.3,
             39,
             37.8,
             26.2,
             31.1,
             32.8
            ],
            "sizemode": "area",
            "sizeref": 0.16774999999999998,
            "symbol": "circle"
           },
           "mode": "markers",
           "name": "",
           "orientation": "v",
           "showlegend": false,
           "type": "scatter",
           "x": [
            28,
            18,
            33,
            37,
            33.2,
            48,
            29,
            25,
            30.8,
            25,
            39,
            34.8,
            26.6,
            37.8,
            33,
            30.4,
            32.4,
            41,
            38,
            30,
            26,
            31
           ],
           "xaxis": "x",
           "y": [
            7,
            6,
            12,
            9,
            5,
            1,
            7,
            7,
            10,
            0,
            7,
            8,
            7,
            2,
            7,
            7,
            1,
            6,
            5,
            6,
            10,
            13
           ],
           "yaxis": "y"
          }
         ],
         "name": "41.0"
        },
        {
         "data": [
          {
           "hovertemplate": "Age=42.0<br>SkinThickness=%{x}<br>Pregnancies=%{y}<br>BMI=%{marker.size}<br>Outcome=%{marker.color}<extra></extra>",
           "legendgroup": "",
           "marker": {
            "color": [
             0,
             1,
             0,
             1,
             0,
             0,
             0,
             1,
             0,
             1,
             0,
             1,
             0,
             0,
             1,
             1,
             0,
             0
            ],
            "coloraxis": "coloraxis",
            "size": [
             34.7,
             32.4,
             33.5,
             34.3,
             32,
             31.2,
             31.2,
             39.5,
             24.4,
             29.3,
             39.1,
             28.3,
             46.7,
             32,
             32.8,
             43.4,
             38.7,
             46.2
            ],
            "sizemode": "area",
            "sizeref": 0.16774999999999998,
            "symbol": "circle"
           },
           "mode": "markers",
           "name": "",
           "orientation": "v",
           "showlegend": false,
           "type": "scatter",
           "x": [
            42,
            39.6,
            30,
            28,
            23,
            26.8,
            30.8,
            35.8,
            20,
            29,
            30,
            35,
            40,
            29,
            38,
            35.2,
            34.8,
            40
           ],
           "xaxis": "x",
           "y": [
            7,
            10,
            2,
            9,
            8,
            6,
            9,
            1,
            8,
            1,
            5,
            11,
            7,
            1,
            7,
            13,
            8,
            11
           ],
           "yaxis": "y"
          }
         ],
         "name": "42.0"
        },
        {
         "data": [
          {
           "hovertemplate": "Age=43.0<br>SkinThickness=%{x}<br>Pregnancies=%{y}<br>BMI=%{marker.size}<br>Outcome=%{marker.color}<extra></extra>",
           "legendgroup": "",
           "marker": {
            "color": [
             1,
             1,
             1,
             0,
             1,
             1,
             1,
             0,
             1,
             1,
             1,
             1,
             1
            ],
            "coloraxis": "coloraxis",
            "size": [
             26.8,
             35,
             37.6,
             34,
             37.1,
             30.4,
             39.4,
             33.6,
             38.5,
             44,
             35.9,
             39.4,
             47.9
            ],
            "sizemode": "area",
            "sizeref": 0.16774999999999998,
            "symbol": "circle"
           },
           "mode": "markers",
           "name": "",
           "orientation": "v",
           "showlegend": false,
           "type": "scatter",
           "x": [
            33,
            25,
            46,
            33,
            32,
            24,
            34.4,
            18,
            49,
            31,
            31,
            40,
            33
           ],
           "xaxis": "x",
           "y": [
            13,
            1,
            8,
            6,
            15,
            7,
            7,
            5,
            7,
            9,
            7,
            8,
            8
           ],
           "yaxis": "y"
          }
         ],
         "name": "43.0"
        },
        {
         "data": [
          {
           "hovertemplate": "Age=44.0<br>SkinThickness=%{x}<br>Pregnancies=%{y}<br>BMI=%{marker.size}<br>Outcome=%{marker.color}<extra></extra>",
           "legendgroup": "",
           "marker": {
            "color": [
             1,
             1,
             0,
             1,
             0,
             1,
             0,
             1
            ],
            "coloraxis": "coloraxis",
            "size": [
             42.3,
             31.2,
             33.8,
             34.4,
             23.6,
             39.9,
             40.5,
             27.6
            ],
            "sizemode": "area",
            "sizeref": 0.16774999999999998,
            "symbol": "circle"
           },
           "mode": "markers",
           "name": "",
           "orientation": "v",
           "showlegend": false,
           "type": "scatter",
           "x": [
            36.4,
            28.4,
            36.4,
            35,
            27.8,
            30,
            40.8,
            7
           ],
           "xaxis": "x",
           "y": [
            13,
            5,
            0,
            3,
            12,
            13,
            0,
            12
           ],
           "yaxis": "y"
          }
         ],
         "name": "44.0"
        },
        {
         "data": [
          {
           "hovertemplate": "Age=45.0<br>SkinThickness=%{x}<br>Pregnancies=%{y}<br>BMI=%{marker.size}<br>Outcome=%{marker.color}<extra></extra>",
           "legendgroup": "",
           "marker": {
            "color": [
             0,
             0,
             1,
             0,
             1,
             1,
             1,
             0,
             1,
             1,
             0,
             0,
             0,
             1,
             1
            ],
            "coloraxis": "coloraxis",
            "size": [
             32.8,
             30.9,
             32.8,
             27.6,
             43.3,
             32.8,
             46.8,
             37.2,
             34.2,
             32.4,
             36.6,
             40.8,
             34.6,
             28.9,
             32.7
            ],
            "sizemode": "area",
            "sizeref": 0.16774999999999998,
            "symbol": "circle"
           },
           "mode": "markers",
           "name": "",
           "orientation": "v",
           "showlegend": false,
           "type": "scatter",
           "x": [
            27.6,
            30,
            31.4,
            31,
            36,
            28,
            40,
            40,
            33.8,
            32,
            54,
            26,
            30.4,
            18,
            34.8
           ],
           "xaxis": "x",
           "y": [
            1,
            9,
            9,
            10,
            8,
            1,
            11,
            7,
            9,
            8,
            13,
            6,
            5,
            4,
            9
           ],
           "yaxis": "y"
          }
         ],
         "name": "45.0"
        },
        {
         "data": [
          {
           "hovertemplate": "Age=46.0<br>SkinThickness=%{x}<br>Pregnancies=%{y}<br>BMI=%{marker.size}<br>Outcome=%{marker.color}<extra></extra>",
           "legendgroup": "",
           "marker": {
            "color": [
             0,
             0,
             1,
             0,
             1,
             1,
             0,
             1,
             0,
             1,
             1,
             0,
             1
            ],
            "coloraxis": "coloraxis",
            "size": [
             32,
             34.4,
             46.2,
             29.6,
             32.9,
             36.6,
             30,
             29.7,
             23.1,
             28.9,
             46.1,
             45.3,
             34
            ],
            "sizemode": "area",
            "sizeref": 0.16774999999999998,
            "symbol": "circle"
           },
           "mode": "markers",
           "name": "",
           "orientation": "v",
           "showlegend": false,
           "type": "scatter",
           "x": [
            32,
            28,
            37,
            26,
            37,
            25,
            33,
            31,
            19,
            27.4,
            46,
            32.8,
            26
           ],
           "xaxis": "x",
           "y": [
            6,
            3,
            6,
            0,
            9,
            14,
            12,
            12,
            8,
            4,
            1,
            0,
            8
           ],
           "yaxis": "y"
          }
         ],
         "name": "46.0"
        },
        {
         "data": [
          {
           "hovertemplate": "Age=47.0<br>SkinThickness=%{x}<br>Pregnancies=%{y}<br>BMI=%{marker.size}<br>Outcome=%{marker.color}<extra></extra>",
           "legendgroup": "",
           "marker": {
            "color": [
             0,
             1,
             1,
             0,
             1,
             1
            ],
            "coloraxis": "coloraxis",
            "size": [
             45,
             30.1,
             25.5,
             35.5,
             40.9,
             30.4
            ],
            "sizemode": "area",
            "sizeref": 0.16774999999999998,
            "symbol": "circle"
           },
           "mode": "markers",
           "name": "",
           "orientation": "v",
           "showlegend": false,
           "type": "scatter",
           "x": [
            41.8,
            33.2,
            23,
            23,
            41,
            30.4
           ],
           "xaxis": "x",
           "y": [
            5,
            1,
            10,
            10,
            17,
            7
           ],
           "yaxis": "y"
          }
         ],
         "name": "47.0"
        },
        {
         "data": [
          {
           "hovertemplate": "Age=48.0<br>SkinThickness=%{x}<br>Pregnancies=%{y}<br>BMI=%{marker.size}<br>Outcome=%{marker.color}<extra></extra>",
           "legendgroup": "",
           "marker": {
            "color": [
             1,
             0,
             0,
             0,
             0
            ],
            "coloraxis": "coloraxis",
            "size": [
             42.3,
             35.3,
             22.7,
             28.8,
             20.8
            ],
            "sizemode": "area",
            "sizeref": 0.16774999999999998,
            "symbol": "circle"
           },
           "mode": "markers",
           "name": "",
           "orientation": "v",
           "showlegend": false,
           "type": "scatter",
           "x": [
            37,
            40,
            18,
            28,
            22
           ],
           "xaxis": "x",
           "y": [
            11,
            12,
            7,
            5,
            9
           ],
           "yaxis": "y"
          }
         ],
         "name": "48.0"
        },
        {
         "data": [
          {
           "hovertemplate": "Age=49.0<br>SkinThickness=%{x}<br>Pregnancies=%{y}<br>BMI=%{marker.size}<br>Outcome=%{marker.color}<extra></extra>",
           "legendgroup": "",
           "marker": {
            "color": [
             1,
             0,
             1,
             1,
             0
            ],
            "coloraxis": "coloraxis",
            "size": [
             30,
             38.5,
             30.4,
             27.6,
             33.6
            ],
            "sizemode": "area",
            "sizeref": 0.16774999999999998,
            "symbol": "circle"
           },
           "mode": "markers",
           "name": "",
           "orientation": "v",
           "showlegend": false,
           "type": "scatter",
           "x": [
            15,
            36,
            25.8,
            31,
            26
           ],
           "xaxis": "x",
           "y": [
            9,
            8,
            9,
            6,
            6
           ],
           "yaxis": "y"
          }
         ],
         "name": "49.0"
        },
        {
         "data": [
          {
           "hovertemplate": "Age=50.0<br>SkinThickness=%{x}<br>Pregnancies=%{y}<br>BMI=%{marker.size}<br>Outcome=%{marker.color}<extra></extra>",
           "legendgroup": "",
           "marker": {
            "color": [
             0,
             1,
             1,
             1,
             1,
             0,
             0,
             1
            ],
            "coloraxis": "coloraxis",
            "size": [
             35.4,
             36.1,
             28.2,
             29.5,
             24.3,
             29.9,
             32.8,
             33.6
            ],
            "sizemode": "area",
            "sizeref": 0.16774999999999998,
            "symbol": "circle"
           },
           "mode": "markers",
           "name": "",
           "orientation": "v",
           "showlegend": false,
           "type": "scatter",
           "x": [
            29.4,
            26,
            24,
            28.2,
            33.8,
            33.4,
            43,
            35
           ],
           "xaxis": "x",
           "y": [
            8,
            11,
            9,
            6,
            6,
            7,
            1,
            6
           ],
           "yaxis": "y"
          }
         ],
         "name": "50.0"
        },
        {
         "data": [
          {
           "hovertemplate": "Age=51.0<br>SkinThickness=%{x}<br>Pregnancies=%{y}<br>BMI=%{marker.size}<br>Outcome=%{marker.color}<extra></extra>",
           "legendgroup": "",
           "marker": {
            "color": [
             0,
             1,
             1,
             1,
             1,
             1,
             0,
             0
            ],
            "coloraxis": "coloraxis",
            "size": [
             26,
             25.8,
             33.3,
             35.9,
             36.6,
             37.6,
             39,
             37.6
            ],
            "sizemode": "area",
            "sizeref": 0.16774999999999998,
            "symbol": "circle"
           },
           "mode": "markers",
           "name": "",
           "orientation": "v",
           "showlegend": false,
           "type": "scatter",
           "x": [
            26,
            19,
            28,
            21,
            33,
            48,
            33.6,
            32.8
           ],
           "xaxis": "x",
           "y": [
            7,
            5,
            11,
            7,
            11,
            10,
            11,
            7
           ],
           "yaxis": "y"
          }
         ],
         "name": "51.0"
        },
        {
         "data": [
          {
           "hovertemplate": "Age=52.0<br>SkinThickness=%{x}<br>Pregnancies=%{y}<br>BMI=%{marker.size}<br>Outcome=%{marker.color}<extra></extra>",
           "legendgroup": "",
           "marker": {
            "color": [
             1,
             1,
             0,
             1,
             1,
             1,
             1,
             1
            ],
            "coloraxis": "coloraxis",
            "size": [
             35.6,
             28.7,
             34.2,
             36.3,
             27,
             33.3,
             35,
             37.7
            ],
            "sizemode": "area",
            "sizeref": 0.16774999999999998,
            "symbol": "circle"
           },
           "mode": "markers",
           "name": "",
           "orientation": "v",
           "showlegend": false,
           "type": "scatter",
           "x": [
            27,
            24,
            42,
            31.8,
            29,
            27,
            29,
            34.8
           ],
           "xaxis": "x",
           "y": [
            5,
            8,
            13,
            0,
            2,
            3,
            1,
            5
           ],
           "yaxis": "y"
          }
         ],
         "name": "52.0"
        },
        {
         "data": [
          {
           "hovertemplate": "Age=53.0<br>SkinThickness=%{x}<br>Pregnancies=%{y}<br>BMI=%{marker.size}<br>Outcome=%{marker.color}<extra></extra>",
           "legendgroup": "",
           "marker": {
            "color": [
             1,
             1,
             0,
             1,
             1
            ],
            "coloraxis": "coloraxis",
            "size": [
             43.6,
             30.3,
             23.3,
             24.8,
             30.5
            ],
            "sizemode": "area",
            "sizeref": 0.16774999999999998,
            "symbol": "circle"
           },
           "mode": "markers",
           "name": "",
           "orientation": "v",
           "showlegend": false,
           "type": "scatter",
           "x": [
            27,
            34,
            24.8,
            29.8,
            45
           ],
           "xaxis": "x",
           "y": [
            5,
            9,
            2,
            9,
            2
           ],
           "yaxis": "y"
          }
         ],
         "name": "53.0"
        },
        {
         "data": [
          {
           "hovertemplate": "Age=54.0<br>SkinThickness=%{x}<br>Pregnancies=%{y}<br>BMI=%{marker.size}<br>Outcome=%{marker.color}<extra></extra>",
           "legendgroup": "",
           "marker": {
            "color": [
             1,
             0,
             1,
             1,
             1,
             0
            ],
            "coloraxis": "coloraxis",
            "size": [
             37.96,
             42.7,
             33.8,
             35.2,
             45.4,
             27.7
            ],
            "sizemode": "area",
            "sizeref": 0.16774999999999998,
            "symbol": "circle"
           },
           "mode": "markers",
           "name": "",
           "orientation": "v",
           "showlegend": false,
           "type": "scatter",
           "x": [
            31.2,
            32.2,
            26.6,
            29,
            24,
            29.8
           ],
           "xaxis": "x",
           "y": [
            8,
            2,
            6,
            7,
            9,
            10
           ],
           "yaxis": "y"
          }
         ],
         "name": "54.0"
        },
        {
         "data": [
          {
           "hovertemplate": "Age=55.0<br>SkinThickness=%{x}<br>Pregnancies=%{y}<br>BMI=%{marker.size}<br>Outcome=%{marker.color}<extra></extra>",
           "legendgroup": "",
           "marker": {
            "color": [
             0,
             1,
             0,
             0
            ],
            "coloraxis": "coloraxis",
            "size": [
             37.7,
             25.1,
             24.2,
             21.1
            ],
            "sizemode": "area",
            "sizeref": 0.16774999999999998,
            "symbol": "circle"
           },
           "mode": "markers",
           "name": "",
           "orientation": "v",
           "showlegend": false,
           "type": "scatter",
           "x": [
            32,
            33,
            27.6,
            23
           ],
           "xaxis": "x",
           "y": [
            6,
            7,
            6,
            3
           ],
           "yaxis": "y"
          }
         ],
         "name": "55.0"
        },
        {
         "data": [
          {
           "hovertemplate": "Age=56.0<br>SkinThickness=%{x}<br>Pregnancies=%{y}<br>BMI=%{marker.size}<br>Outcome=%{marker.color}<extra></extra>",
           "legendgroup": "",
           "marker": {
            "color": [
             1,
             0,
             1
            ],
            "coloraxis": "coloraxis",
            "size": [
             37.1,
             23.1,
             34.9
            ],
            "sizemode": "area",
            "sizeref": 0.16774999999999998,
            "symbol": "circle"
           },
           "mode": "markers",
           "name": "",
           "orientation": "v",
           "showlegend": false,
           "type": "scatter",
           "x": [
            47,
            18,
            32
           ],
           "xaxis": "x",
           "y": [
            4,
            10,
            10
           ],
           "yaxis": "y"
          }
         ],
         "name": "56.0"
        },
        {
         "data": [
          {
           "hovertemplate": "Age=57.0<br>SkinThickness=%{x}<br>Pregnancies=%{y}<br>BMI=%{marker.size}<br>Outcome=%{marker.color}<extra></extra>",
           "legendgroup": "",
           "marker": {
            "color": [
             0,
             0,
             1,
             0,
             0
            ],
            "coloraxis": "coloraxis",
            "size": [
             22.2,
             36.8,
             37.5,
             27.1,
             24.9
            ],
            "sizemode": "area",
            "sizeref": 0.16774999999999998,
            "symbol": "circle"
           },
           "mode": "markers",
           "name": "",
           "orientation": "v",
           "showlegend": false,
           "type": "scatter",
           "x": [
            19,
            33,
            29,
            22.6,
            21.2
           ],
           "xaxis": "x",
           "y": [
            13,
            8,
            8,
            10,
            5
           ],
           "yaxis": "y"
          }
         ],
         "name": "57.0"
        },
        {
         "data": [
          {
           "hovertemplate": "Age=58.0<br>SkinThickness=%{x}<br>Pregnancies=%{y}<br>BMI=%{marker.size}<br>Outcome=%{marker.color}<extra></extra>",
           "legendgroup": "",
           "marker": {
            "color": [
             0,
             0,
             1,
             0,
             0,
             1,
             1
            ],
            "coloraxis": "coloraxis",
            "size": [
             23.6,
             24.2,
             39.2,
             27.8,
             46.5,
             33.7,
             32
            ],
            "sizemode": "area",
            "sizeref": 0.16774999999999998,
            "symbol": "circle"
           },
           "mode": "markers",
           "name": "",
           "orientation": "v",
           "showlegend": false,
           "type": "scatter",
           "x": [
            21.6,
            27.2,
            43,
            32.4,
            32,
            34,
            26
           ],
           "xaxis": "x",
           "y": [
            8,
            9,
            12,
            8,
            0,
            8,
            5
           ],
           "yaxis": "y"
          }
         ],
         "name": "58.0"
        },
        {
         "data": [
          {
           "hovertemplate": "Age=59.0<br>SkinThickness=%{x}<br>Pregnancies=%{y}<br>BMI=%{marker.size}<br>Outcome=%{marker.color}<extra></extra>",
           "legendgroup": "",
           "marker": {
            "color": [
             1,
             0,
             1
            ],
            "coloraxis": "coloraxis",
            "size": [
             30.1,
             27.3,
             23.5
            ],
            "sizemode": "area",
            "sizeref": 0.16774999999999998,
            "symbol": "circle"
           },
           "mode": "markers",
           "name": "",
           "orientation": "v",
           "showlegend": false,
           "type": "scatter",
           "x": [
            23,
            27,
            41.2
           ],
           "xaxis": "x",
           "y": [
            1,
            0,
            6
           ],
           "yaxis": "y"
          }
         ],
         "name": "59.0"
        },
        {
         "data": [
          {
           "hovertemplate": "Age=60.0<br>SkinThickness=%{x}<br>Pregnancies=%{y}<br>BMI=%{marker.size}<br>Outcome=%{marker.color}<extra></extra>",
           "legendgroup": "",
           "marker": {
            "color": [
             1,
             0,
             0,
             0,
             1
            ],
            "coloraxis": "coloraxis",
            "size": [
             30.1,
             36,
             19.6,
             34.2,
             23.8
            ],
            "sizemode": "area",
            "sizeref": 0.16774999999999998,
            "symbol": "circle"
           },
           "mode": "markers",
           "name": "",
           "orientation": "v",
           "showlegend": false,
           "type": "scatter",
           "x": [
            36,
            26,
            7,
            31,
            24.2
           ],
           "xaxis": "x",
           "y": [
            8,
            5,
            6,
            7,
            4
           ],
           "yaxis": "y"
          }
         ],
         "name": "60.0"
        },
        {
         "data": [
          {
           "hovertemplate": "Age=61.0<br>SkinThickness=%{x}<br>Pregnancies=%{y}<br>BMI=%{marker.size}<br>Outcome=%{marker.color}<extra></extra>",
           "legendgroup": "",
           "marker": {
            "color": [
             0,
             1
            ],
            "coloraxis": "coloraxis",
            "size": [
             28.8,
             31.2
            ],
            "sizemode": "area",
            "sizeref": 0.16774999999999998,
            "symbol": "circle"
           },
           "mode": "markers",
           "name": "",
           "orientation": "v",
           "showlegend": false,
           "type": "scatter",
           "x": [
            33,
            24.6
           ],
           "xaxis": "x",
           "y": [
            7,
            4
           ],
           "yaxis": "y"
          }
         ],
         "name": "61.0"
        },
        {
         "data": [
          {
           "hovertemplate": "Age=62.0<br>SkinThickness=%{x}<br>Pregnancies=%{y}<br>BMI=%{marker.size}<br>Outcome=%{marker.color}<extra></extra>",
           "legendgroup": "",
           "marker": {
            "color": [
             1,
             0,
             1,
             0
            ],
            "coloraxis": "coloraxis",
            "size": [
             27.9,
             26.7,
             34.7,
             26.5
            ],
            "sizemode": "area",
            "sizeref": 0.16774999999999998,
            "symbol": "circle"
           },
           "mode": "markers",
           "name": "",
           "orientation": "v",
           "showlegend": false,
           "type": "scatter",
           "x": [
            25.4,
            28,
            99,
            17
           ],
           "xaxis": "x",
           "y": [
            0,
            1,
            2,
            12
           ],
           "yaxis": "y"
          }
         ],
         "name": "62.0"
        },
        {
         "data": [
          {
           "hovertemplate": "Age=63.0<br>SkinThickness=%{x}<br>Pregnancies=%{y}<br>BMI=%{marker.size}<br>Outcome=%{marker.color}<extra></extra>",
           "legendgroup": "",
           "marker": {
            "color": [
             0,
             0,
             0,
             0
            ],
            "coloraxis": "coloraxis",
            "size": [
             32.9,
             32.4,
             28,
             29.8
            ],
            "sizemode": "area",
            "sizeref": 0.16774999999999998,
            "symbol": "circle"
           },
           "mode": "markers",
           "name": "",
           "orientation": "v",
           "showlegend": false,
           "type": "scatter",
           "x": [
            48,
            15,
            31,
            27.4
           ],
           "xaxis": "x",
           "y": [
            10,
            3,
            4,
            5
           ],
           "yaxis": "y"
          }
         ],
         "name": "63.0"
        },
        {
         "data": [
          {
           "hovertemplate": "Age=64.0<br>SkinThickness=%{x}<br>Pregnancies=%{y}<br>BMI=%{marker.size}<br>Outcome=%{marker.color}<extra></extra>",
           "legendgroup": "",
           "marker": {
            "color": [
             0
            ],
            "coloraxis": "coloraxis",
            "size": [
             25
            ],
            "sizemode": "area",
            "sizeref": 0.16774999999999998,
            "symbol": "circle"
           },
           "mode": "markers",
           "name": "",
           "orientation": "v",
           "showlegend": false,
           "type": "scatter",
           "x": [
            22
           ],
           "xaxis": "x",
           "y": [
            8
           ],
           "yaxis": "y"
          }
         ],
         "name": "64.0"
        },
        {
         "data": [
          {
           "hovertemplate": "Age=65.0<br>SkinThickness=%{x}<br>Pregnancies=%{y}<br>BMI=%{marker.size}<br>Outcome=%{marker.color}<extra></extra>",
           "legendgroup": "",
           "marker": {
            "color": [
             0,
             0,
             0
            ],
            "coloraxis": "coloraxis",
            "size": [
             21.9,
             39.2,
             33.7
            ],
            "sizemode": "area",
            "sizeref": 0.16774999999999998,
            "symbol": "circle"
           },
           "mode": "markers",
           "name": "",
           "orientation": "v",
           "showlegend": false,
           "type": "scatter",
           "x": [
            25.4,
            37,
            26.2
           ],
           "xaxis": "x",
           "y": [
            0,
            5,
            5
           ],
           "yaxis": "y"
          }
         ],
         "name": "65.0"
        },
        {
         "data": [
          {
           "hovertemplate": "Age=66.0<br>SkinThickness=%{x}<br>Pregnancies=%{y}<br>BMI=%{marker.size}<br>Outcome=%{marker.color}<extra></extra>",
           "legendgroup": "",
           "marker": {
            "color": [
             1,
             0,
             0,
             1
            ],
            "coloraxis": "coloraxis",
            "size": [
             31.6,
             27.8,
             26.6,
             35.5
            ],
            "sizemode": "area",
            "sizeref": 0.16774999999999998,
            "symbol": "circle"
           },
           "mode": "markers",
           "name": "",
           "orientation": "v",
           "showlegend": false,
           "type": "scatter",
           "x": [
            24,
            21,
            30.4,
            41.4
           ],
           "xaxis": "x",
           "y": [
            2,
            6,
            6,
            6
           ],
           "yaxis": "y"
          }
         ],
         "name": "66.0"
        },
        {
         "data": [
          {
           "hovertemplate": "Age=67.0<br>SkinThickness=%{x}<br>Pregnancies=%{y}<br>BMI=%{marker.size}<br>Outcome=%{marker.color}<extra></extra>",
           "legendgroup": "",
           "marker": {
            "color": [
             0,
             0,
             1
            ],
            "coloraxis": "coloraxis",
            "size": [
             26.1,
             21.7,
             38.5
            ],
            "sizemode": "area",
            "sizeref": 0.16774999999999998,
            "symbol": "circle"
           },
           "mode": "markers",
           "name": "",
           "orientation": "v",
           "showlegend": false,
           "type": "scatter",
           "x": [
            48.4,
            31.8,
            25.2
           ],
           "xaxis": "x",
           "y": [
            8,
            0,
            4
           ],
           "yaxis": "y"
          }
         ],
         "name": "67.0"
        },
        {
         "data": [
          {
           "hovertemplate": "Age=68.0<br>SkinThickness=%{x}<br>Pregnancies=%{y}<br>BMI=%{marker.size}<br>Outcome=%{marker.color}<extra></extra>",
           "legendgroup": "",
           "marker": {
            "color": [
             0
            ],
            "coloraxis": "coloraxis",
            "size": [
             35.6
            ],
            "sizemode": "area",
            "sizeref": 0.16774999999999998,
            "symbol": "circle"
           },
           "mode": "markers",
           "name": "",
           "orientation": "v",
           "showlegend": false,
           "type": "scatter",
           "x": [
            31.4
           ],
           "xaxis": "x",
           "y": [
            8
           ],
           "yaxis": "y"
          }
         ],
         "name": "68.0"
        },
        {
         "data": [
          {
           "hovertemplate": "Age=69.0<br>SkinThickness=%{x}<br>Pregnancies=%{y}<br>BMI=%{marker.size}<br>Outcome=%{marker.color}<extra></extra>",
           "legendgroup": "",
           "marker": {
            "color": [
             0,
             0
            ],
            "coloraxis": "coloraxis",
            "size": [
             26.8,
             31.639999999999997
            ],
            "sizemode": "area",
            "sizeref": 0.16774999999999998,
            "symbol": "circle"
           },
           "mode": "markers",
           "name": "",
           "orientation": "v",
           "showlegend": false,
           "type": "scatter",
           "x": [
            24.8,
            23.4
           ],
           "xaxis": "x",
           "y": [
            5,
            5
           ],
           "yaxis": "y"
          }
         ],
         "name": "69.0"
        },
        {
         "data": [
          {
           "hovertemplate": "Age=70.0<br>SkinThickness=%{x}<br>Pregnancies=%{y}<br>BMI=%{marker.size}<br>Outcome=%{marker.color}<extra></extra>",
           "legendgroup": "",
           "marker": {
            "color": [
             1
            ],
            "coloraxis": "coloraxis",
            "size": [
             32.5
            ],
            "sizemode": "area",
            "sizeref": 0.16774999999999998,
            "symbol": "circle"
           },
           "mode": "markers",
           "name": "",
           "orientation": "v",
           "showlegend": false,
           "type": "scatter",
           "x": [
            18
           ],
           "xaxis": "x",
           "y": [
            4
           ],
           "yaxis": "y"
          }
         ],
         "name": "70.0"
        },
        {
         "data": [
          {
           "hovertemplate": "Age=72.0<br>SkinThickness=%{x}<br>Pregnancies=%{y}<br>BMI=%{marker.size}<br>Outcome=%{marker.color}<extra></extra>",
           "legendgroup": "",
           "marker": {
            "color": [
             0
            ],
            "coloraxis": "coloraxis",
            "size": [
             19.6
            ],
            "sizemode": "area",
            "sizeref": 0.16774999999999998,
            "symbol": "circle"
           },
           "mode": "markers",
           "name": "",
           "orientation": "v",
           "showlegend": false,
           "type": "scatter",
           "x": [
            22.8
           ],
           "xaxis": "x",
           "y": [
            2
           ],
           "yaxis": "y"
          }
         ],
         "name": "72.0"
        },
        {
         "data": [
          {
           "hovertemplate": "Age=81.0<br>SkinThickness=%{x}<br>Pregnancies=%{y}<br>BMI=%{marker.size}<br>Outcome=%{marker.color}<extra></extra>",
           "legendgroup": "",
           "marker": {
            "color": [
             0
            ],
            "coloraxis": "coloraxis",
            "size": [
             25.9
            ],
            "sizemode": "area",
            "sizeref": 0.16774999999999998,
            "symbol": "circle"
           },
           "mode": "markers",
           "name": "",
           "orientation": "v",
           "showlegend": false,
           "type": "scatter",
           "x": [
            33
           ],
           "xaxis": "x",
           "y": [
            9
           ],
           "yaxis": "y"
          }
         ],
         "name": "81.0"
        }
       ],
       "layout": {
        "coloraxis": {
         "colorbar": {
          "title": {
           "text": "Outcome"
          }
         },
         "colorscale": [
          [
           0,
           "#0d0887"
          ],
          [
           0.1111111111111111,
           "#46039f"
          ],
          [
           0.2222222222222222,
           "#7201a8"
          ],
          [
           0.3333333333333333,
           "#9c179e"
          ],
          [
           0.4444444444444444,
           "#bd3786"
          ],
          [
           0.5555555555555556,
           "#d8576b"
          ],
          [
           0.6666666666666666,
           "#ed7953"
          ],
          [
           0.7777777777777778,
           "#fb9f3a"
          ],
          [
           0.8888888888888888,
           "#fdca26"
          ],
          [
           1,
           "#f0f921"
          ]
         ]
        },
        "legend": {
         "itemsizing": "constant",
         "tracegroupgap": 0
        },
        "sliders": [
         {
          "active": 0,
          "currentvalue": {
           "prefix": "Age="
          },
          "len": 0.9,
          "pad": {
           "b": 10,
           "t": 60
          },
          "steps": [
           {
            "args": [
             [
              "21.0"
             ],
             {
              "frame": {
               "duration": 0,
               "redraw": false
              },
              "fromcurrent": true,
              "mode": "immediate",
              "transition": {
               "duration": 0,
               "easing": "linear"
              }
             }
            ],
            "label": "21.0",
            "method": "animate"
           },
           {
            "args": [
             [
              "22.0"
             ],
             {
              "frame": {
               "duration": 0,
               "redraw": false
              },
              "fromcurrent": true,
              "mode": "immediate",
              "transition": {
               "duration": 0,
               "easing": "linear"
              }
             }
            ],
            "label": "22.0",
            "method": "animate"
           },
           {
            "args": [
             [
              "23.0"
             ],
             {
              "frame": {
               "duration": 0,
               "redraw": false
              },
              "fromcurrent": true,
              "mode": "immediate",
              "transition": {
               "duration": 0,
               "easing": "linear"
              }
             }
            ],
            "label": "23.0",
            "method": "animate"
           },
           {
            "args": [
             [
              "24.0"
             ],
             {
              "frame": {
               "duration": 0,
               "redraw": false
              },
              "fromcurrent": true,
              "mode": "immediate",
              "transition": {
               "duration": 0,
               "easing": "linear"
              }
             }
            ],
            "label": "24.0",
            "method": "animate"
           },
           {
            "args": [
             [
              "25.0"
             ],
             {
              "frame": {
               "duration": 0,
               "redraw": false
              },
              "fromcurrent": true,
              "mode": "immediate",
              "transition": {
               "duration": 0,
               "easing": "linear"
              }
             }
            ],
            "label": "25.0",
            "method": "animate"
           },
           {
            "args": [
             [
              "26.0"
             ],
             {
              "frame": {
               "duration": 0,
               "redraw": false
              },
              "fromcurrent": true,
              "mode": "immediate",
              "transition": {
               "duration": 0,
               "easing": "linear"
              }
             }
            ],
            "label": "26.0",
            "method": "animate"
           },
           {
            "args": [
             [
              "27.0"
             ],
             {
              "frame": {
               "duration": 0,
               "redraw": false
              },
              "fromcurrent": true,
              "mode": "immediate",
              "transition": {
               "duration": 0,
               "easing": "linear"
              }
             }
            ],
            "label": "27.0",
            "method": "animate"
           },
           {
            "args": [
             [
              "28.0"
             ],
             {
              "frame": {
               "duration": 0,
               "redraw": false
              },
              "fromcurrent": true,
              "mode": "immediate",
              "transition": {
               "duration": 0,
               "easing": "linear"
              }
             }
            ],
            "label": "28.0",
            "method": "animate"
           },
           {
            "args": [
             [
              "29.0"
             ],
             {
              "frame": {
               "duration": 0,
               "redraw": false
              },
              "fromcurrent": true,
              "mode": "immediate",
              "transition": {
               "duration": 0,
               "easing": "linear"
              }
             }
            ],
            "label": "29.0",
            "method": "animate"
           },
           {
            "args": [
             [
              "30.0"
             ],
             {
              "frame": {
               "duration": 0,
               "redraw": false
              },
              "fromcurrent": true,
              "mode": "immediate",
              "transition": {
               "duration": 0,
               "easing": "linear"
              }
             }
            ],
            "label": "30.0",
            "method": "animate"
           },
           {
            "args": [
             [
              "31.0"
             ],
             {
              "frame": {
               "duration": 0,
               "redraw": false
              },
              "fromcurrent": true,
              "mode": "immediate",
              "transition": {
               "duration": 0,
               "easing": "linear"
              }
             }
            ],
            "label": "31.0",
            "method": "animate"
           },
           {
            "args": [
             [
              "32.0"
             ],
             {
              "frame": {
               "duration": 0,
               "redraw": false
              },
              "fromcurrent": true,
              "mode": "immediate",
              "transition": {
               "duration": 0,
               "easing": "linear"
              }
             }
            ],
            "label": "32.0",
            "method": "animate"
           },
           {
            "args": [
             [
              "33.0"
             ],
             {
              "frame": {
               "duration": 0,
               "redraw": false
              },
              "fromcurrent": true,
              "mode": "immediate",
              "transition": {
               "duration": 0,
               "easing": "linear"
              }
             }
            ],
            "label": "33.0",
            "method": "animate"
           },
           {
            "args": [
             [
              "34.0"
             ],
             {
              "frame": {
               "duration": 0,
               "redraw": false
              },
              "fromcurrent": true,
              "mode": "immediate",
              "transition": {
               "duration": 0,
               "easing": "linear"
              }
             }
            ],
            "label": "34.0",
            "method": "animate"
           },
           {
            "args": [
             [
              "35.0"
             ],
             {
              "frame": {
               "duration": 0,
               "redraw": false
              },
              "fromcurrent": true,
              "mode": "immediate",
              "transition": {
               "duration": 0,
               "easing": "linear"
              }
             }
            ],
            "label": "35.0",
            "method": "animate"
           },
           {
            "args": [
             [
              "36.0"
             ],
             {
              "frame": {
               "duration": 0,
               "redraw": false
              },
              "fromcurrent": true,
              "mode": "immediate",
              "transition": {
               "duration": 0,
               "easing": "linear"
              }
             }
            ],
            "label": "36.0",
            "method": "animate"
           },
           {
            "args": [
             [
              "37.0"
             ],
             {
              "frame": {
               "duration": 0,
               "redraw": false
              },
              "fromcurrent": true,
              "mode": "immediate",
              "transition": {
               "duration": 0,
               "easing": "linear"
              }
             }
            ],
            "label": "37.0",
            "method": "animate"
           },
           {
            "args": [
             [
              "38.0"
             ],
             {
              "frame": {
               "duration": 0,
               "redraw": false
              },
              "fromcurrent": true,
              "mode": "immediate",
              "transition": {
               "duration": 0,
               "easing": "linear"
              }
             }
            ],
            "label": "38.0",
            "method": "animate"
           },
           {
            "args": [
             [
              "39.0"
             ],
             {
              "frame": {
               "duration": 0,
               "redraw": false
              },
              "fromcurrent": true,
              "mode": "immediate",
              "transition": {
               "duration": 0,
               "easing": "linear"
              }
             }
            ],
            "label": "39.0",
            "method": "animate"
           },
           {
            "args": [
             [
              "40.0"
             ],
             {
              "frame": {
               "duration": 0,
               "redraw": false
              },
              "fromcurrent": true,
              "mode": "immediate",
              "transition": {
               "duration": 0,
               "easing": "linear"
              }
             }
            ],
            "label": "40.0",
            "method": "animate"
           },
           {
            "args": [
             [
              "41.0"
             ],
             {
              "frame": {
               "duration": 0,
               "redraw": false
              },
              "fromcurrent": true,
              "mode": "immediate",
              "transition": {
               "duration": 0,
               "easing": "linear"
              }
             }
            ],
            "label": "41.0",
            "method": "animate"
           },
           {
            "args": [
             [
              "42.0"
             ],
             {
              "frame": {
               "duration": 0,
               "redraw": false
              },
              "fromcurrent": true,
              "mode": "immediate",
              "transition": {
               "duration": 0,
               "easing": "linear"
              }
             }
            ],
            "label": "42.0",
            "method": "animate"
           },
           {
            "args": [
             [
              "43.0"
             ],
             {
              "frame": {
               "duration": 0,
               "redraw": false
              },
              "fromcurrent": true,
              "mode": "immediate",
              "transition": {
               "duration": 0,
               "easing": "linear"
              }
             }
            ],
            "label": "43.0",
            "method": "animate"
           },
           {
            "args": [
             [
              "44.0"
             ],
             {
              "frame": {
               "duration": 0,
               "redraw": false
              },
              "fromcurrent": true,
              "mode": "immediate",
              "transition": {
               "duration": 0,
               "easing": "linear"
              }
             }
            ],
            "label": "44.0",
            "method": "animate"
           },
           {
            "args": [
             [
              "45.0"
             ],
             {
              "frame": {
               "duration": 0,
               "redraw": false
              },
              "fromcurrent": true,
              "mode": "immediate",
              "transition": {
               "duration": 0,
               "easing": "linear"
              }
             }
            ],
            "label": "45.0",
            "method": "animate"
           },
           {
            "args": [
             [
              "46.0"
             ],
             {
              "frame": {
               "duration": 0,
               "redraw": false
              },
              "fromcurrent": true,
              "mode": "immediate",
              "transition": {
               "duration": 0,
               "easing": "linear"
              }
             }
            ],
            "label": "46.0",
            "method": "animate"
           },
           {
            "args": [
             [
              "47.0"
             ],
             {
              "frame": {
               "duration": 0,
               "redraw": false
              },
              "fromcurrent": true,
              "mode": "immediate",
              "transition": {
               "duration": 0,
               "easing": "linear"
              }
             }
            ],
            "label": "47.0",
            "method": "animate"
           },
           {
            "args": [
             [
              "48.0"
             ],
             {
              "frame": {
               "duration": 0,
               "redraw": false
              },
              "fromcurrent": true,
              "mode": "immediate",
              "transition": {
               "duration": 0,
               "easing": "linear"
              }
             }
            ],
            "label": "48.0",
            "method": "animate"
           },
           {
            "args": [
             [
              "49.0"
             ],
             {
              "frame": {
               "duration": 0,
               "redraw": false
              },
              "fromcurrent": true,
              "mode": "immediate",
              "transition": {
               "duration": 0,
               "easing": "linear"
              }
             }
            ],
            "label": "49.0",
            "method": "animate"
           },
           {
            "args": [
             [
              "50.0"
             ],
             {
              "frame": {
               "duration": 0,
               "redraw": false
              },
              "fromcurrent": true,
              "mode": "immediate",
              "transition": {
               "duration": 0,
               "easing": "linear"
              }
             }
            ],
            "label": "50.0",
            "method": "animate"
           },
           {
            "args": [
             [
              "51.0"
             ],
             {
              "frame": {
               "duration": 0,
               "redraw": false
              },
              "fromcurrent": true,
              "mode": "immediate",
              "transition": {
               "duration": 0,
               "easing": "linear"
              }
             }
            ],
            "label": "51.0",
            "method": "animate"
           },
           {
            "args": [
             [
              "52.0"
             ],
             {
              "frame": {
               "duration": 0,
               "redraw": false
              },
              "fromcurrent": true,
              "mode": "immediate",
              "transition": {
               "duration": 0,
               "easing": "linear"
              }
             }
            ],
            "label": "52.0",
            "method": "animate"
           },
           {
            "args": [
             [
              "53.0"
             ],
             {
              "frame": {
               "duration": 0,
               "redraw": false
              },
              "fromcurrent": true,
              "mode": "immediate",
              "transition": {
               "duration": 0,
               "easing": "linear"
              }
             }
            ],
            "label": "53.0",
            "method": "animate"
           },
           {
            "args": [
             [
              "54.0"
             ],
             {
              "frame": {
               "duration": 0,
               "redraw": false
              },
              "fromcurrent": true,
              "mode": "immediate",
              "transition": {
               "duration": 0,
               "easing": "linear"
              }
             }
            ],
            "label": "54.0",
            "method": "animate"
           },
           {
            "args": [
             [
              "55.0"
             ],
             {
              "frame": {
               "duration": 0,
               "redraw": false
              },
              "fromcurrent": true,
              "mode": "immediate",
              "transition": {
               "duration": 0,
               "easing": "linear"
              }
             }
            ],
            "label": "55.0",
            "method": "animate"
           },
           {
            "args": [
             [
              "56.0"
             ],
             {
              "frame": {
               "duration": 0,
               "redraw": false
              },
              "fromcurrent": true,
              "mode": "immediate",
              "transition": {
               "duration": 0,
               "easing": "linear"
              }
             }
            ],
            "label": "56.0",
            "method": "animate"
           },
           {
            "args": [
             [
              "57.0"
             ],
             {
              "frame": {
               "duration": 0,
               "redraw": false
              },
              "fromcurrent": true,
              "mode": "immediate",
              "transition": {
               "duration": 0,
               "easing": "linear"
              }
             }
            ],
            "label": "57.0",
            "method": "animate"
           },
           {
            "args": [
             [
              "58.0"
             ],
             {
              "frame": {
               "duration": 0,
               "redraw": false
              },
              "fromcurrent": true,
              "mode": "immediate",
              "transition": {
               "duration": 0,
               "easing": "linear"
              }
             }
            ],
            "label": "58.0",
            "method": "animate"
           },
           {
            "args": [
             [
              "59.0"
             ],
             {
              "frame": {
               "duration": 0,
               "redraw": false
              },
              "fromcurrent": true,
              "mode": "immediate",
              "transition": {
               "duration": 0,
               "easing": "linear"
              }
             }
            ],
            "label": "59.0",
            "method": "animate"
           },
           {
            "args": [
             [
              "60.0"
             ],
             {
              "frame": {
               "duration": 0,
               "redraw": false
              },
              "fromcurrent": true,
              "mode": "immediate",
              "transition": {
               "duration": 0,
               "easing": "linear"
              }
             }
            ],
            "label": "60.0",
            "method": "animate"
           },
           {
            "args": [
             [
              "61.0"
             ],
             {
              "frame": {
               "duration": 0,
               "redraw": false
              },
              "fromcurrent": true,
              "mode": "immediate",
              "transition": {
               "duration": 0,
               "easing": "linear"
              }
             }
            ],
            "label": "61.0",
            "method": "animate"
           },
           {
            "args": [
             [
              "62.0"
             ],
             {
              "frame": {
               "duration": 0,
               "redraw": false
              },
              "fromcurrent": true,
              "mode": "immediate",
              "transition": {
               "duration": 0,
               "easing": "linear"
              }
             }
            ],
            "label": "62.0",
            "method": "animate"
           },
           {
            "args": [
             [
              "63.0"
             ],
             {
              "frame": {
               "duration": 0,
               "redraw": false
              },
              "fromcurrent": true,
              "mode": "immediate",
              "transition": {
               "duration": 0,
               "easing": "linear"
              }
             }
            ],
            "label": "63.0",
            "method": "animate"
           },
           {
            "args": [
             [
              "64.0"
             ],
             {
              "frame": {
               "duration": 0,
               "redraw": false
              },
              "fromcurrent": true,
              "mode": "immediate",
              "transition": {
               "duration": 0,
               "easing": "linear"
              }
             }
            ],
            "label": "64.0",
            "method": "animate"
           },
           {
            "args": [
             [
              "65.0"
             ],
             {
              "frame": {
               "duration": 0,
               "redraw": false
              },
              "fromcurrent": true,
              "mode": "immediate",
              "transition": {
               "duration": 0,
               "easing": "linear"
              }
             }
            ],
            "label": "65.0",
            "method": "animate"
           },
           {
            "args": [
             [
              "66.0"
             ],
             {
              "frame": {
               "duration": 0,
               "redraw": false
              },
              "fromcurrent": true,
              "mode": "immediate",
              "transition": {
               "duration": 0,
               "easing": "linear"
              }
             }
            ],
            "label": "66.0",
            "method": "animate"
           },
           {
            "args": [
             [
              "67.0"
             ],
             {
              "frame": {
               "duration": 0,
               "redraw": false
              },
              "fromcurrent": true,
              "mode": "immediate",
              "transition": {
               "duration": 0,
               "easing": "linear"
              }
             }
            ],
            "label": "67.0",
            "method": "animate"
           },
           {
            "args": [
             [
              "68.0"
             ],
             {
              "frame": {
               "duration": 0,
               "redraw": false
              },
              "fromcurrent": true,
              "mode": "immediate",
              "transition": {
               "duration": 0,
               "easing": "linear"
              }
             }
            ],
            "label": "68.0",
            "method": "animate"
           },
           {
            "args": [
             [
              "69.0"
             ],
             {
              "frame": {
               "duration": 0,
               "redraw": false
              },
              "fromcurrent": true,
              "mode": "immediate",
              "transition": {
               "duration": 0,
               "easing": "linear"
              }
             }
            ],
            "label": "69.0",
            "method": "animate"
           },
           {
            "args": [
             [
              "70.0"
             ],
             {
              "frame": {
               "duration": 0,
               "redraw": false
              },
              "fromcurrent": true,
              "mode": "immediate",
              "transition": {
               "duration": 0,
               "easing": "linear"
              }
             }
            ],
            "label": "70.0",
            "method": "animate"
           },
           {
            "args": [
             [
              "72.0"
             ],
             {
              "frame": {
               "duration": 0,
               "redraw": false
              },
              "fromcurrent": true,
              "mode": "immediate",
              "transition": {
               "duration": 0,
               "easing": "linear"
              }
             }
            ],
            "label": "72.0",
            "method": "animate"
           },
           {
            "args": [
             [
              "81.0"
             ],
             {
              "frame": {
               "duration": 0,
               "redraw": false
              },
              "fromcurrent": true,
              "mode": "immediate",
              "transition": {
               "duration": 0,
               "easing": "linear"
              }
             }
            ],
            "label": "81.0",
            "method": "animate"
           }
          ],
          "x": 0.1,
          "xanchor": "left",
          "y": 0,
          "yanchor": "top"
         }
        ],
        "template": {
         "data": {
          "bar": [
           {
            "error_x": {
             "color": "#2a3f5f"
            },
            "error_y": {
             "color": "#2a3f5f"
            },
            "marker": {
             "line": {
              "color": "#E5ECF6",
              "width": 0.5
             },
             "pattern": {
              "fillmode": "overlay",
              "size": 10,
              "solidity": 0.2
             }
            },
            "type": "bar"
           }
          ],
          "barpolar": [
           {
            "marker": {
             "line": {
              "color": "#E5ECF6",
              "width": 0.5
             },
             "pattern": {
              "fillmode": "overlay",
              "size": 10,
              "solidity": 0.2
             }
            },
            "type": "barpolar"
           }
          ],
          "carpet": [
           {
            "aaxis": {
             "endlinecolor": "#2a3f5f",
             "gridcolor": "white",
             "linecolor": "white",
             "minorgridcolor": "white",
             "startlinecolor": "#2a3f5f"
            },
            "baxis": {
             "endlinecolor": "#2a3f5f",
             "gridcolor": "white",
             "linecolor": "white",
             "minorgridcolor": "white",
             "startlinecolor": "#2a3f5f"
            },
            "type": "carpet"
           }
          ],
          "choropleth": [
           {
            "colorbar": {
             "outlinewidth": 0,
             "ticks": ""
            },
            "type": "choropleth"
           }
          ],
          "contour": [
           {
            "colorbar": {
             "outlinewidth": 0,
             "ticks": ""
            },
            "colorscale": [
             [
              0,
              "#0d0887"
             ],
             [
              0.1111111111111111,
              "#46039f"
             ],
             [
              0.2222222222222222,
              "#7201a8"
             ],
             [
              0.3333333333333333,
              "#9c179e"
             ],
             [
              0.4444444444444444,
              "#bd3786"
             ],
             [
              0.5555555555555556,
              "#d8576b"
             ],
             [
              0.6666666666666666,
              "#ed7953"
             ],
             [
              0.7777777777777778,
              "#fb9f3a"
             ],
             [
              0.8888888888888888,
              "#fdca26"
             ],
             [
              1,
              "#f0f921"
             ]
            ],
            "type": "contour"
           }
          ],
          "contourcarpet": [
           {
            "colorbar": {
             "outlinewidth": 0,
             "ticks": ""
            },
            "type": "contourcarpet"
           }
          ],
          "heatmap": [
           {
            "colorbar": {
             "outlinewidth": 0,
             "ticks": ""
            },
            "colorscale": [
             [
              0,
              "#0d0887"
             ],
             [
              0.1111111111111111,
              "#46039f"
             ],
             [
              0.2222222222222222,
              "#7201a8"
             ],
             [
              0.3333333333333333,
              "#9c179e"
             ],
             [
              0.4444444444444444,
              "#bd3786"
             ],
             [
              0.5555555555555556,
              "#d8576b"
             ],
             [
              0.6666666666666666,
              "#ed7953"
             ],
             [
              0.7777777777777778,
              "#fb9f3a"
             ],
             [
              0.8888888888888888,
              "#fdca26"
             ],
             [
              1,
              "#f0f921"
             ]
            ],
            "type": "heatmap"
           }
          ],
          "heatmapgl": [
           {
            "colorbar": {
             "outlinewidth": 0,
             "ticks": ""
            },
            "colorscale": [
             [
              0,
              "#0d0887"
             ],
             [
              0.1111111111111111,
              "#46039f"
             ],
             [
              0.2222222222222222,
              "#7201a8"
             ],
             [
              0.3333333333333333,
              "#9c179e"
             ],
             [
              0.4444444444444444,
              "#bd3786"
             ],
             [
              0.5555555555555556,
              "#d8576b"
             ],
             [
              0.6666666666666666,
              "#ed7953"
             ],
             [
              0.7777777777777778,
              "#fb9f3a"
             ],
             [
              0.8888888888888888,
              "#fdca26"
             ],
             [
              1,
              "#f0f921"
             ]
            ],
            "type": "heatmapgl"
           }
          ],
          "histogram": [
           {
            "marker": {
             "pattern": {
              "fillmode": "overlay",
              "size": 10,
              "solidity": 0.2
             }
            },
            "type": "histogram"
           }
          ],
          "histogram2d": [
           {
            "colorbar": {
             "outlinewidth": 0,
             "ticks": ""
            },
            "colorscale": [
             [
              0,
              "#0d0887"
             ],
             [
              0.1111111111111111,
              "#46039f"
             ],
             [
              0.2222222222222222,
              "#7201a8"
             ],
             [
              0.3333333333333333,
              "#9c179e"
             ],
             [
              0.4444444444444444,
              "#bd3786"
             ],
             [
              0.5555555555555556,
              "#d8576b"
             ],
             [
              0.6666666666666666,
              "#ed7953"
             ],
             [
              0.7777777777777778,
              "#fb9f3a"
             ],
             [
              0.8888888888888888,
              "#fdca26"
             ],
             [
              1,
              "#f0f921"
             ]
            ],
            "type": "histogram2d"
           }
          ],
          "histogram2dcontour": [
           {
            "colorbar": {
             "outlinewidth": 0,
             "ticks": ""
            },
            "colorscale": [
             [
              0,
              "#0d0887"
             ],
             [
              0.1111111111111111,
              "#46039f"
             ],
             [
              0.2222222222222222,
              "#7201a8"
             ],
             [
              0.3333333333333333,
              "#9c179e"
             ],
             [
              0.4444444444444444,
              "#bd3786"
             ],
             [
              0.5555555555555556,
              "#d8576b"
             ],
             [
              0.6666666666666666,
              "#ed7953"
             ],
             [
              0.7777777777777778,
              "#fb9f3a"
             ],
             [
              0.8888888888888888,
              "#fdca26"
             ],
             [
              1,
              "#f0f921"
             ]
            ],
            "type": "histogram2dcontour"
           }
          ],
          "mesh3d": [
           {
            "colorbar": {
             "outlinewidth": 0,
             "ticks": ""
            },
            "type": "mesh3d"
           }
          ],
          "parcoords": [
           {
            "line": {
             "colorbar": {
              "outlinewidth": 0,
              "ticks": ""
             }
            },
            "type": "parcoords"
           }
          ],
          "pie": [
           {
            "automargin": true,
            "type": "pie"
           }
          ],
          "scatter": [
           {
            "fillpattern": {
             "fillmode": "overlay",
             "size": 10,
             "solidity": 0.2
            },
            "type": "scatter"
           }
          ],
          "scatter3d": [
           {
            "line": {
             "colorbar": {
              "outlinewidth": 0,
              "ticks": ""
             }
            },
            "marker": {
             "colorbar": {
              "outlinewidth": 0,
              "ticks": ""
             }
            },
            "type": "scatter3d"
           }
          ],
          "scattercarpet": [
           {
            "marker": {
             "colorbar": {
              "outlinewidth": 0,
              "ticks": ""
             }
            },
            "type": "scattercarpet"
           }
          ],
          "scattergeo": [
           {
            "marker": {
             "colorbar": {
              "outlinewidth": 0,
              "ticks": ""
             }
            },
            "type": "scattergeo"
           }
          ],
          "scattergl": [
           {
            "marker": {
             "colorbar": {
              "outlinewidth": 0,
              "ticks": ""
             }
            },
            "type": "scattergl"
           }
          ],
          "scattermapbox": [
           {
            "marker": {
             "colorbar": {
              "outlinewidth": 0,
              "ticks": ""
             }
            },
            "type": "scattermapbox"
           }
          ],
          "scatterpolar": [
           {
            "marker": {
             "colorbar": {
              "outlinewidth": 0,
              "ticks": ""
             }
            },
            "type": "scatterpolar"
           }
          ],
          "scatterpolargl": [
           {
            "marker": {
             "colorbar": {
              "outlinewidth": 0,
              "ticks": ""
             }
            },
            "type": "scatterpolargl"
           }
          ],
          "scatterternary": [
           {
            "marker": {
             "colorbar": {
              "outlinewidth": 0,
              "ticks": ""
             }
            },
            "type": "scatterternary"
           }
          ],
          "surface": [
           {
            "colorbar": {
             "outlinewidth": 0,
             "ticks": ""
            },
            "colorscale": [
             [
              0,
              "#0d0887"
             ],
             [
              0.1111111111111111,
              "#46039f"
             ],
             [
              0.2222222222222222,
              "#7201a8"
             ],
             [
              0.3333333333333333,
              "#9c179e"
             ],
             [
              0.4444444444444444,
              "#bd3786"
             ],
             [
              0.5555555555555556,
              "#d8576b"
             ],
             [
              0.6666666666666666,
              "#ed7953"
             ],
             [
              0.7777777777777778,
              "#fb9f3a"
             ],
             [
              0.8888888888888888,
              "#fdca26"
             ],
             [
              1,
              "#f0f921"
             ]
            ],
            "type": "surface"
           }
          ],
          "table": [
           {
            "cells": {
             "fill": {
              "color": "#EBF0F8"
             },
             "line": {
              "color": "white"
             }
            },
            "header": {
             "fill": {
              "color": "#C8D4E3"
             },
             "line": {
              "color": "white"
             }
            },
            "type": "table"
           }
          ]
         },
         "layout": {
          "annotationdefaults": {
           "arrowcolor": "#2a3f5f",
           "arrowhead": 0,
           "arrowwidth": 1
          },
          "autotypenumbers": "strict",
          "coloraxis": {
           "colorbar": {
            "outlinewidth": 0,
            "ticks": ""
           }
          },
          "colorscale": {
           "diverging": [
            [
             0,
             "#8e0152"
            ],
            [
             0.1,
             "#c51b7d"
            ],
            [
             0.2,
             "#de77ae"
            ],
            [
             0.3,
             "#f1b6da"
            ],
            [
             0.4,
             "#fde0ef"
            ],
            [
             0.5,
             "#f7f7f7"
            ],
            [
             0.6,
             "#e6f5d0"
            ],
            [
             0.7,
             "#b8e186"
            ],
            [
             0.8,
             "#7fbc41"
            ],
            [
             0.9,
             "#4d9221"
            ],
            [
             1,
             "#276419"
            ]
           ],
           "sequential": [
            [
             0,
             "#0d0887"
            ],
            [
             0.1111111111111111,
             "#46039f"
            ],
            [
             0.2222222222222222,
             "#7201a8"
            ],
            [
             0.3333333333333333,
             "#9c179e"
            ],
            [
             0.4444444444444444,
             "#bd3786"
            ],
            [
             0.5555555555555556,
             "#d8576b"
            ],
            [
             0.6666666666666666,
             "#ed7953"
            ],
            [
             0.7777777777777778,
             "#fb9f3a"
            ],
            [
             0.8888888888888888,
             "#fdca26"
            ],
            [
             1,
             "#f0f921"
            ]
           ],
           "sequentialminus": [
            [
             0,
             "#0d0887"
            ],
            [
             0.1111111111111111,
             "#46039f"
            ],
            [
             0.2222222222222222,
             "#7201a8"
            ],
            [
             0.3333333333333333,
             "#9c179e"
            ],
            [
             0.4444444444444444,
             "#bd3786"
            ],
            [
             0.5555555555555556,
             "#d8576b"
            ],
            [
             0.6666666666666666,
             "#ed7953"
            ],
            [
             0.7777777777777778,
             "#fb9f3a"
            ],
            [
             0.8888888888888888,
             "#fdca26"
            ],
            [
             1,
             "#f0f921"
            ]
           ]
          },
          "colorway": [
           "#636efa",
           "#EF553B",
           "#00cc96",
           "#ab63fa",
           "#FFA15A",
           "#19d3f3",
           "#FF6692",
           "#B6E880",
           "#FF97FF",
           "#FECB52"
          ],
          "font": {
           "color": "#2a3f5f"
          },
          "geo": {
           "bgcolor": "white",
           "lakecolor": "white",
           "landcolor": "#E5ECF6",
           "showlakes": true,
           "showland": true,
           "subunitcolor": "white"
          },
          "hoverlabel": {
           "align": "left"
          },
          "hovermode": "closest",
          "mapbox": {
           "style": "light"
          },
          "paper_bgcolor": "white",
          "plot_bgcolor": "#E5ECF6",
          "polar": {
           "angularaxis": {
            "gridcolor": "white",
            "linecolor": "white",
            "ticks": ""
           },
           "bgcolor": "#E5ECF6",
           "radialaxis": {
            "gridcolor": "white",
            "linecolor": "white",
            "ticks": ""
           }
          },
          "scene": {
           "xaxis": {
            "backgroundcolor": "#E5ECF6",
            "gridcolor": "white",
            "gridwidth": 2,
            "linecolor": "white",
            "showbackground": true,
            "ticks": "",
            "zerolinecolor": "white"
           },
           "yaxis": {
            "backgroundcolor": "#E5ECF6",
            "gridcolor": "white",
            "gridwidth": 2,
            "linecolor": "white",
            "showbackground": true,
            "ticks": "",
            "zerolinecolor": "white"
           },
           "zaxis": {
            "backgroundcolor": "#E5ECF6",
            "gridcolor": "white",
            "gridwidth": 2,
            "linecolor": "white",
            "showbackground": true,
            "ticks": "",
            "zerolinecolor": "white"
           }
          },
          "shapedefaults": {
           "line": {
            "color": "#2a3f5f"
           }
          },
          "ternary": {
           "aaxis": {
            "gridcolor": "white",
            "linecolor": "white",
            "ticks": ""
           },
           "baxis": {
            "gridcolor": "white",
            "linecolor": "white",
            "ticks": ""
           },
           "bgcolor": "#E5ECF6",
           "caxis": {
            "gridcolor": "white",
            "linecolor": "white",
            "ticks": ""
           }
          },
          "title": {
           "x": 0.05
          },
          "xaxis": {
           "automargin": true,
           "gridcolor": "white",
           "linecolor": "white",
           "ticks": "",
           "title": {
            "standoff": 15
           },
           "zerolinecolor": "white",
           "zerolinewidth": 2
          },
          "yaxis": {
           "automargin": true,
           "gridcolor": "white",
           "linecolor": "white",
           "ticks": "",
           "title": {
            "standoff": 15
           },
           "zerolinecolor": "white",
           "zerolinewidth": 2
          }
         }
        },
        "title": {
         "text": "Beauty and Diabetes"
        },
        "updatemenus": [
         {
          "buttons": [
           {
            "args": [
             null,
             {
              "frame": {
               "duration": 500,
               "redraw": false
              },
              "fromcurrent": true,
              "mode": "immediate",
              "transition": {
               "duration": 500,
               "easing": "linear"
              }
             }
            ],
            "label": "&#9654;",
            "method": "animate"
           },
           {
            "args": [
             [
              null
             ],
             {
              "frame": {
               "duration": 0,
               "redraw": false
              },
              "fromcurrent": true,
              "mode": "immediate",
              "transition": {
               "duration": 0,
               "easing": "linear"
              }
             }
            ],
            "label": "&#9724;",
            "method": "animate"
           }
          ],
          "direction": "left",
          "pad": {
           "r": 10,
           "t": 70
          },
          "showactive": false,
          "type": "buttons",
          "x": 0.1,
          "xanchor": "right",
          "y": 0,
          "yanchor": "top"
         }
        ],
        "xaxis": {
         "anchor": "y",
         "domain": [
          0,
          1
         ],
         "title": {
          "text": "SkinThickness"
         }
        },
        "yaxis": {
         "anchor": "x",
         "domain": [
          0,
          1
         ],
         "range": [
          -2,
          17
         ],
         "title": {
          "text": "Pregnancies"
         }
        }
       }
      }
     },
     "metadata": {},
     "output_type": "display_data"
    }
   ],
   "source": [
    "# plot the animation, animation_frame = Age\n",
    "# we need to sort the DataFrame by Age\n",
    "sortAge_imputation_df = imputation_df.sort_values(by='Age', ascending=True)\n",
    "fig = px.scatter(sortAge_imputation_df, x=\"SkinThickness\", y=\"Pregnancies\", animation_frame=\"Age\",color='Outcome',size = 'BMI',\n",
    "title= 'Beauty and Diabetes')\n",
    "fig.update_layout(yaxis_range=[-2,17])\n",
    "\n",
    "fig.show()"
   ]
  }
 ],
 "metadata": {
  "kernelspec": {
   "display_name": "base",
   "language": "python",
   "name": "python3"
  },
  "language_info": {
   "codemirror_mode": {
    "name": "ipython",
    "version": 3
   },
   "file_extension": ".py",
   "mimetype": "text/x-python",
   "name": "python",
   "nbconvert_exporter": "python",
   "pygments_lexer": "ipython3",
   "version": "3.9.7 (default, Sep 16 2021, 08:50:36) \n[Clang 10.0.0 ]"
  },
  "orig_nbformat": 4,
  "vscode": {
   "interpreter": {
    "hash": "5d113846ba2c5660ca294db9bea215d8dc849cec700d248b8fccee76967cd515"
   }
  }
 },
 "nbformat": 4,
 "nbformat_minor": 2
}
